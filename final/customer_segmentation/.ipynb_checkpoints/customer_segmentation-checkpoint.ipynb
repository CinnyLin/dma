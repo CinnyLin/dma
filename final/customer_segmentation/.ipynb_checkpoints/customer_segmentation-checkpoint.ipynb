{
 "cells": [
  {
   "cell_type": "code",
   "execution_count": null,
   "metadata": {},
   "outputs": [],
   "source": []
  },
  {
   "cell_type": "code",
   "execution_count": 1,
   "metadata": {},
   "outputs": [],
   "source": [
    "import pandas as pd\n",
    "import numpy as np\n",
    "import matplotlib.pyplot as plt\n",
    "import seaborn as sns"
   ]
  },
  {
   "cell_type": "code",
   "execution_count": null,
   "metadata": {},
   "outputs": [],
   "source": []
  },
  {
   "cell_type": "code",
   "execution_count": 2,
   "metadata": {},
   "outputs": [
    {
     "data": {
      "text/html": [
       "<div>\n",
       "<style scoped>\n",
       "    .dataframe tbody tr th:only-of-type {\n",
       "        vertical-align: middle;\n",
       "    }\n",
       "\n",
       "    .dataframe tbody tr th {\n",
       "        vertical-align: top;\n",
       "    }\n",
       "\n",
       "    .dataframe thead th {\n",
       "        text-align: right;\n",
       "    }\n",
       "</style>\n",
       "<table border=\"1\" class=\"dataframe\">\n",
       "  <thead>\n",
       "    <tr style=\"text-align: right;\">\n",
       "      <th></th>\n",
       "      <th>num_weekly_services_utilized</th>\n",
       "      <th>weekly_consumption_hour</th>\n",
       "      <th>num_ideal_streaming_services</th>\n",
       "      <th>age</th>\n",
       "      <th>months_per_bill_period</th>\n",
       "      <th>monthly_price</th>\n",
       "      <th>discount_price</th>\n",
       "      <th>initial_credit_card_declined</th>\n",
       "      <th>join_fee</th>\n",
       "      <th>num_trial_days</th>\n",
       "      <th>...</th>\n",
       "      <th>plan_type_low_sar_no_trial</th>\n",
       "      <th>plan_type_low_uae_no_trial</th>\n",
       "      <th>language_ar</th>\n",
       "      <th>payment_type_Apple Pay</th>\n",
       "      <th>payment_type_CBD</th>\n",
       "      <th>payment_type_Najim</th>\n",
       "      <th>payment_type_Paypal</th>\n",
       "      <th>payment_type_RAKBANK</th>\n",
       "      <th>payment_type_Standard Charter</th>\n",
       "      <th>predict_cluster_kmeans</th>\n",
       "    </tr>\n",
       "  </thead>\n",
       "  <tbody>\n",
       "    <tr>\n",
       "      <th>2</th>\n",
       "      <td>3.0</td>\n",
       "      <td>36.001186</td>\n",
       "      <td>2.0</td>\n",
       "      <td>25.0</td>\n",
       "      <td>4</td>\n",
       "      <td>4.7343</td>\n",
       "      <td>4.5141</td>\n",
       "      <td>False</td>\n",
       "      <td>0.1101</td>\n",
       "      <td>14</td>\n",
       "      <td>...</td>\n",
       "      <td>0</td>\n",
       "      <td>0</td>\n",
       "      <td>1</td>\n",
       "      <td>0</td>\n",
       "      <td>0</td>\n",
       "      <td>0</td>\n",
       "      <td>0</td>\n",
       "      <td>0</td>\n",
       "      <td>0</td>\n",
       "      <td>1</td>\n",
       "    </tr>\n",
       "    <tr>\n",
       "      <th>4</th>\n",
       "      <td>4.0</td>\n",
       "      <td>22.951579</td>\n",
       "      <td>3.0</td>\n",
       "      <td>28.0</td>\n",
       "      <td>4</td>\n",
       "      <td>4.7343</td>\n",
       "      <td>4.5141</td>\n",
       "      <td>False</td>\n",
       "      <td>0.0367</td>\n",
       "      <td>14</td>\n",
       "      <td>...</td>\n",
       "      <td>0</td>\n",
       "      <td>0</td>\n",
       "      <td>1</td>\n",
       "      <td>0</td>\n",
       "      <td>0</td>\n",
       "      <td>0</td>\n",
       "      <td>0</td>\n",
       "      <td>0</td>\n",
       "      <td>0</td>\n",
       "      <td>1</td>\n",
       "    </tr>\n",
       "    <tr>\n",
       "      <th>6</th>\n",
       "      <td>2.0</td>\n",
       "      <td>20.051667</td>\n",
       "      <td>2.0</td>\n",
       "      <td>61.0</td>\n",
       "      <td>4</td>\n",
       "      <td>4.7343</td>\n",
       "      <td>4.5141</td>\n",
       "      <td>False</td>\n",
       "      <td>0.3303</td>\n",
       "      <td>14</td>\n",
       "      <td>...</td>\n",
       "      <td>0</td>\n",
       "      <td>0</td>\n",
       "      <td>1</td>\n",
       "      <td>0</td>\n",
       "      <td>0</td>\n",
       "      <td>0</td>\n",
       "      <td>0</td>\n",
       "      <td>0</td>\n",
       "      <td>1</td>\n",
       "      <td>2</td>\n",
       "    </tr>\n",
       "  </tbody>\n",
       "</table>\n",
       "<p>3 rows × 100 columns</p>\n",
       "</div>"
      ],
      "text/plain": [
       "   num_weekly_services_utilized  weekly_consumption_hour  \\\n",
       "2                           3.0                36.001186   \n",
       "4                           4.0                22.951579   \n",
       "6                           2.0                20.051667   \n",
       "\n",
       "   num_ideal_streaming_services   age  months_per_bill_period  monthly_price  \\\n",
       "2                           2.0  25.0                       4         4.7343   \n",
       "4                           3.0  28.0                       4         4.7343   \n",
       "6                           2.0  61.0                       4         4.7343   \n",
       "\n",
       "   discount_price  initial_credit_card_declined  join_fee  num_trial_days  \\\n",
       "2          4.5141                         False    0.1101              14   \n",
       "4          4.5141                         False    0.0367              14   \n",
       "6          4.5141                         False    0.3303              14   \n",
       "\n",
       "   ...  plan_type_low_sar_no_trial  plan_type_low_uae_no_trial  language_ar  \\\n",
       "2  ...                           0                           0            1   \n",
       "4  ...                           0                           0            1   \n",
       "6  ...                           0                           0            1   \n",
       "\n",
       "   payment_type_Apple Pay  payment_type_CBD  payment_type_Najim  \\\n",
       "2                       0                 0                   0   \n",
       "4                       0                 0                   0   \n",
       "6                       0                 0                   0   \n",
       "\n",
       "   payment_type_Paypal  payment_type_RAKBANK  payment_type_Standard Charter  \\\n",
       "2                    0                     0                              0   \n",
       "4                    0                     0                              0   \n",
       "6                    0                     0                              1   \n",
       "\n",
       "   predict_cluster_kmeans  \n",
       "2                       1  \n",
       "4                       1  \n",
       "6                       2  \n",
       "\n",
       "[3 rows x 100 columns]"
      ]
     },
     "execution_count": 2,
     "metadata": {},
     "output_type": "execute_result"
    }
   ],
   "source": [
    "df = pd.read_csv('clustering_output.csv', index_col=0)\n",
    "df.head(3)"
   ]
  },
  {
   "cell_type": "code",
   "execution_count": 3,
   "metadata": {},
   "outputs": [
    {
     "data": {
      "text/plain": [
       "(114922, 100)"
      ]
     },
     "execution_count": 3,
     "metadata": {},
     "output_type": "execute_result"
    }
   ],
   "source": [
    "df.shape"
   ]
  },
  {
   "cell_type": "code",
   "execution_count": 4,
   "metadata": {},
   "outputs": [
    {
     "data": {
      "text/plain": [
       "Index(['num_weekly_services_utilized', 'weekly_consumption_hour',\n",
       "       'num_ideal_streaming_services', 'age', 'months_per_bill_period',\n",
       "       'monthly_price', 'discount_price', 'initial_credit_card_declined',\n",
       "       'join_fee', 'num_trial_days', 'current_sub_TF', 'payment_period',\n",
       "       'trial_completed', 'package_type_base', 'package_type_economy',\n",
       "       'package_type_enhanced', 'preferred_genre_comedy',\n",
       "       'preferred_genre_drama', 'preferred_genre_international',\n",
       "       'preferred_genre_other', 'preferred_genre_regional',\n",
       "       'intended_use_access to exclusive content', 'intended_use_education',\n",
       "       'intended_use_expand international access',\n",
       "       'intended_use_expand regional access', 'intended_use_other',\n",
       "       'intended_use_replace OTT', 'intended_use_supplement OTT',\n",
       "       'male_TF_True', 'country_UAE', 'attribution_technical_affiliate',\n",
       "       'attribution_technical_appstore', 'attribution_technical_bing',\n",
       "       'attribution_technical_bing_organic',\n",
       "       'attribution_technical_brand sem intent bing',\n",
       "       'attribution_technical_brand sem intent google',\n",
       "       'attribution_technical_content_greatist',\n",
       "       'attribution_technical_criteo', 'attribution_technical_direct_mail',\n",
       "       'attribution_technical_discovery', 'attribution_technical_display',\n",
       "       'attribution_technical_email', 'attribution_technical_email_blast',\n",
       "       'attribution_technical_facebook',\n",
       "       'attribution_technical_facebook_organic',\n",
       "       'attribution_technical_google_organic',\n",
       "       'attribution_technical_influencer', 'attribution_technical_internal',\n",
       "       'attribution_technical_organic', 'attribution_technical_other',\n",
       "       'attribution_technical_ott', 'attribution_technical_pinterest',\n",
       "       'attribution_technical_pinterest_organic',\n",
       "       'attribution_technical_playstore', 'attribution_technical_podcast',\n",
       "       'attribution_technical_quora', 'attribution_technical_referral',\n",
       "       'attribution_technical_samsung', 'attribution_technical_search',\n",
       "       'attribution_technical_tv', 'attribution_technical_twitter',\n",
       "       'attribution_technical_vod', 'attribution_technical_youtube',\n",
       "       'attribution_survey_affiliate', 'attribution_survey_amfm_radio',\n",
       "       'attribution_survey_direct_mail', 'attribution_survey_facebook',\n",
       "       'attribution_survey_facebook_organic', 'attribution_survey_other',\n",
       "       'attribution_survey_ott', 'attribution_survey_pinterest',\n",
       "       'attribution_survey_podcast', 'attribution_survey_public_radio',\n",
       "       'attribution_survey_referral', 'attribution_survey_search',\n",
       "       'attribution_survey_sirius xm', 'attribution_survey_social_organic',\n",
       "       'attribution_survey_tv', 'attribution_survey_youtube', 'op_sys_Android',\n",
       "       'op_sys_iOS', 'plan_type_base_eur_14_day_trial',\n",
       "       'plan_type_base_uae_14_day_trial',\n",
       "       'plan_type_base_uae_no_trial_7_day_guarantee',\n",
       "       'plan_type_high_aud_14_day_trial', 'plan_type_high_jpy_14_day_trial',\n",
       "       'plan_type_high_sar_14_day_trial', 'plan_type_high_uae_14_day_trial',\n",
       "       'plan_type_low_eur_no_trial', 'plan_type_low_gbp_14_day_trial',\n",
       "       'plan_type_low_sar_no_trial', 'plan_type_low_uae_no_trial',\n",
       "       'language_ar', 'payment_type_Apple Pay', 'payment_type_CBD',\n",
       "       'payment_type_Najim', 'payment_type_Paypal', 'payment_type_RAKBANK',\n",
       "       'payment_type_Standard Charter', 'predict_cluster_kmeans'],\n",
       "      dtype='object')"
      ]
     },
     "execution_count": 4,
     "metadata": {},
     "output_type": "execute_result"
    }
   ],
   "source": [
    "df.columns"
   ]
  },
  {
   "cell_type": "code",
   "execution_count": null,
   "metadata": {},
   "outputs": [],
   "source": []
  },
  {
   "cell_type": "code",
   "execution_count": 5,
   "metadata": {},
   "outputs": [
    {
     "data": {
      "text/html": [
       "<div>\n",
       "<style scoped>\n",
       "    .dataframe tbody tr th:only-of-type {\n",
       "        vertical-align: middle;\n",
       "    }\n",
       "\n",
       "    .dataframe tbody tr th {\n",
       "        vertical-align: top;\n",
       "    }\n",
       "\n",
       "    .dataframe thead th {\n",
       "        text-align: right;\n",
       "    }\n",
       "</style>\n",
       "<table border=\"1\" class=\"dataframe\">\n",
       "  <thead>\n",
       "    <tr style=\"text-align: right;\">\n",
       "      <th></th>\n",
       "      <th>num_weekly_services_utilized</th>\n",
       "      <th>weekly_consumption_hour</th>\n",
       "      <th>num_ideal_streaming_services</th>\n",
       "      <th>age</th>\n",
       "      <th>months_per_bill_period</th>\n",
       "      <th>monthly_price</th>\n",
       "      <th>discount_price</th>\n",
       "      <th>initial_credit_card_declined</th>\n",
       "      <th>join_fee</th>\n",
       "      <th>num_trial_days</th>\n",
       "      <th>...</th>\n",
       "      <th>plan_type_low_gbp_14_day_trial</th>\n",
       "      <th>plan_type_low_sar_no_trial</th>\n",
       "      <th>plan_type_low_uae_no_trial</th>\n",
       "      <th>language_ar</th>\n",
       "      <th>payment_type_Apple Pay</th>\n",
       "      <th>payment_type_CBD</th>\n",
       "      <th>payment_type_Najim</th>\n",
       "      <th>payment_type_Paypal</th>\n",
       "      <th>payment_type_RAKBANK</th>\n",
       "      <th>payment_type_Standard Charter</th>\n",
       "    </tr>\n",
       "    <tr>\n",
       "      <th>predict_cluster_kmeans</th>\n",
       "      <th></th>\n",
       "      <th></th>\n",
       "      <th></th>\n",
       "      <th></th>\n",
       "      <th></th>\n",
       "      <th></th>\n",
       "      <th></th>\n",
       "      <th></th>\n",
       "      <th></th>\n",
       "      <th></th>\n",
       "      <th></th>\n",
       "      <th></th>\n",
       "      <th></th>\n",
       "      <th></th>\n",
       "      <th></th>\n",
       "      <th></th>\n",
       "      <th></th>\n",
       "      <th></th>\n",
       "      <th></th>\n",
       "      <th></th>\n",
       "      <th></th>\n",
       "    </tr>\n",
       "  </thead>\n",
       "  <tbody>\n",
       "    <tr>\n",
       "      <th>0</th>\n",
       "      <td>3.035450</td>\n",
       "      <td>28.149428</td>\n",
       "      <td>2.064053</td>\n",
       "      <td>46.436421</td>\n",
       "      <td>4.0</td>\n",
       "      <td>4.734890</td>\n",
       "      <td>4.514950</td>\n",
       "      <td>0.041162</td>\n",
       "      <td>0.114283</td>\n",
       "      <td>14.000000</td>\n",
       "      <td>...</td>\n",
       "      <td>0.000044</td>\n",
       "      <td>0.0</td>\n",
       "      <td>0.0</td>\n",
       "      <td>1.0</td>\n",
       "      <td>0.000022</td>\n",
       "      <td>0.030283</td>\n",
       "      <td>0.014215</td>\n",
       "      <td>0.122416</td>\n",
       "      <td>0.066626</td>\n",
       "      <td>0.135934</td>\n",
       "    </tr>\n",
       "    <tr>\n",
       "      <th>1</th>\n",
       "      <td>2.971581</td>\n",
       "      <td>27.994414</td>\n",
       "      <td>2.065233</td>\n",
       "      <td>30.589956</td>\n",
       "      <td>4.0</td>\n",
       "      <td>4.734734</td>\n",
       "      <td>4.514718</td>\n",
       "      <td>0.048600</td>\n",
       "      <td>0.087454</td>\n",
       "      <td>13.999629</td>\n",
       "      <td>...</td>\n",
       "      <td>0.000026</td>\n",
       "      <td>0.0</td>\n",
       "      <td>0.0</td>\n",
       "      <td>1.0</td>\n",
       "      <td>0.000026</td>\n",
       "      <td>0.017321</td>\n",
       "      <td>0.012580</td>\n",
       "      <td>0.088063</td>\n",
       "      <td>0.046561</td>\n",
       "      <td>0.132532</td>\n",
       "    </tr>\n",
       "    <tr>\n",
       "      <th>2</th>\n",
       "      <td>3.020353</td>\n",
       "      <td>27.739903</td>\n",
       "      <td>2.052465</td>\n",
       "      <td>62.251201</td>\n",
       "      <td>4.0</td>\n",
       "      <td>4.734842</td>\n",
       "      <td>4.514865</td>\n",
       "      <td>0.027223</td>\n",
       "      <td>0.146731</td>\n",
       "      <td>14.000000</td>\n",
       "      <td>...</td>\n",
       "      <td>0.000000</td>\n",
       "      <td>0.0</td>\n",
       "      <td>0.0</td>\n",
       "      <td>1.0</td>\n",
       "      <td>0.000000</td>\n",
       "      <td>0.037512</td>\n",
       "      <td>0.019938</td>\n",
       "      <td>0.118126</td>\n",
       "      <td>0.083203</td>\n",
       "      <td>0.160622</td>\n",
       "    </tr>\n",
       "  </tbody>\n",
       "</table>\n",
       "<p>3 rows × 99 columns</p>\n",
       "</div>"
      ],
      "text/plain": [
       "                        num_weekly_services_utilized  weekly_consumption_hour  \\\n",
       "predict_cluster_kmeans                                                          \n",
       "0                                           3.035450                28.149428   \n",
       "1                                           2.971581                27.994414   \n",
       "2                                           3.020353                27.739903   \n",
       "\n",
       "                        num_ideal_streaming_services        age  \\\n",
       "predict_cluster_kmeans                                            \n",
       "0                                           2.064053  46.436421   \n",
       "1                                           2.065233  30.589956   \n",
       "2                                           2.052465  62.251201   \n",
       "\n",
       "                        months_per_bill_period  monthly_price  discount_price  \\\n",
       "predict_cluster_kmeans                                                          \n",
       "0                                          4.0       4.734890        4.514950   \n",
       "1                                          4.0       4.734734        4.514718   \n",
       "2                                          4.0       4.734842        4.514865   \n",
       "\n",
       "                        initial_credit_card_declined  join_fee  \\\n",
       "predict_cluster_kmeans                                           \n",
       "0                                           0.041162  0.114283   \n",
       "1                                           0.048600  0.087454   \n",
       "2                                           0.027223  0.146731   \n",
       "\n",
       "                        num_trial_days  ...  plan_type_low_gbp_14_day_trial  \\\n",
       "predict_cluster_kmeans                  ...                                   \n",
       "0                            14.000000  ...                        0.000044   \n",
       "1                            13.999629  ...                        0.000026   \n",
       "2                            14.000000  ...                        0.000000   \n",
       "\n",
       "                        plan_type_low_sar_no_trial  \\\n",
       "predict_cluster_kmeans                               \n",
       "0                                              0.0   \n",
       "1                                              0.0   \n",
       "2                                              0.0   \n",
       "\n",
       "                        plan_type_low_uae_no_trial  language_ar  \\\n",
       "predict_cluster_kmeans                                            \n",
       "0                                              0.0          1.0   \n",
       "1                                              0.0          1.0   \n",
       "2                                              0.0          1.0   \n",
       "\n",
       "                        payment_type_Apple Pay  payment_type_CBD  \\\n",
       "predict_cluster_kmeans                                             \n",
       "0                                     0.000022          0.030283   \n",
       "1                                     0.000026          0.017321   \n",
       "2                                     0.000000          0.037512   \n",
       "\n",
       "                        payment_type_Najim  payment_type_Paypal  \\\n",
       "predict_cluster_kmeans                                            \n",
       "0                                 0.014215             0.122416   \n",
       "1                                 0.012580             0.088063   \n",
       "2                                 0.019938             0.118126   \n",
       "\n",
       "                        payment_type_RAKBANK  payment_type_Standard Charter  \n",
       "predict_cluster_kmeans                                                       \n",
       "0                                   0.066626                       0.135934  \n",
       "1                                   0.046561                       0.132532  \n",
       "2                                   0.083203                       0.160622  \n",
       "\n",
       "[3 rows x 99 columns]"
      ]
     },
     "execution_count": 5,
     "metadata": {},
     "output_type": "execute_result"
    }
   ],
   "source": [
    "df.groupby('predict_cluster_kmeans').mean()"
   ]
  },
  {
   "cell_type": "code",
   "execution_count": null,
   "metadata": {},
   "outputs": [],
   "source": []
  },
  {
   "cell_type": "markdown",
   "metadata": {},
   "source": [
    "### understanding the clusters"
   ]
  },
  {
   "cell_type": "code",
   "execution_count": 6,
   "metadata": {},
   "outputs": [
    {
     "data": {
      "text/plain": [
       "Text(0.5, 0, 'Clusters')"
      ]
     },
     "execution_count": 6,
     "metadata": {},
     "output_type": "execute_result"
    },
    {
     "data": {
      "image/png": "[encoded data removed]",
      "text/plain": [
       "<Figure size 720x720 with 1 Axes>"
      ]
     },
     "metadata": {
      "needs_background": "light"
     },
     "output_type": "display_data"
    }
   ],
   "source": [
    "plt.figure(figsize = (10,10))\n",
    "ax = sns.barplot(x = 'predict_cluster_kmeans', y = 'num_weekly_services_utilized', data = df,\n",
    "                 palette = ['lightsteelblue', 'lightsteelblue', 'lightsteelblue'], \n",
    "                 linewidth = 1.5, edgecolor = 'black')\n",
    "#plt.axhline(y=0.5, c='r')\n",
    "plt.xticks(fontsize=20)\n",
    "#plt.yticks(fontsize=20)\n",
    "plt.ylabel('Number of Weekly Services Utilized', fontsize=20)\n",
    "plt.xlabel('Clusters')"
   ]
  },
  {
   "cell_type": "code",
   "execution_count": null,
   "metadata": {},
   "outputs": [],
   "source": []
  },
  {
   "cell_type": "code",
   "execution_count": 7,
   "metadata": {},
   "outputs": [
    {
     "data": {
      "text/plain": [
       "Text(0.5, 0, 'Clusters')"
      ]
     },
     "execution_count": 7,
     "metadata": {},
     "output_type": "execute_result"
    },
    {
     "data": {
      "image/png": "[encoded data removed]",
      "text/plain": [
       "<Figure size 720x720 with 1 Axes>"
      ]
     },
     "metadata": {
      "needs_background": "light"
     },
     "output_type": "display_data"
    }
   ],
   "source": [
    "plt.figure(figsize = (10,10))\n",
    "ax = sns.barplot(x = 'predict_cluster_kmeans', y = 'weekly_consumption_hour', data = df,\n",
    "                 palette = ['lightsteelblue', 'lightsteelblue', 'lightsteelblue'], \n",
    "                 linewidth = 1.5, edgecolor = 'black')\n",
    "#plt.axhline(y=0.5, c='r')\n",
    "plt.xticks(fontsize=20)\n",
    "#plt.yticks(fontsize=20)\n",
    "plt.ylabel('Weekly Consumption Hours', fontsize=20)\n",
    "plt.xlabel('Clusters')"
   ]
  },
  {
   "cell_type": "code",
   "execution_count": null,
   "metadata": {},
   "outputs": [],
   "source": []
  },
  {
   "cell_type": "code",
   "execution_count": 8,
   "metadata": {},
   "outputs": [
    {
     "data": {
      "text/plain": [
       "Text(0.5, 0, 'Clusters')"
      ]
     },
     "execution_count": 8,
     "metadata": {},
     "output_type": "execute_result"
    },
    {
     "data": {
      "image/png": "[encoded data removed]",
      "text/plain": [
       "<Figure size 720x720 with 1 Axes>"
      ]
     },
     "metadata": {
      "needs_background": "light"
     },
     "output_type": "display_data"
    }
   ],
   "source": [
    "plt.figure(figsize = (10,10))\n",
    "ax = sns.barplot(x = 'predict_cluster_kmeans', y = 'num_ideal_streaming_services', data = df,\n",
    "                 palette = ['lightsteelblue', 'lightsteelblue', 'lightsteelblue'], \n",
    "                 linewidth = 1.5, edgecolor = 'black')\n",
    "#plt.axhline(y=0.5, c='r')\n",
    "plt.xticks(fontsize=20)\n",
    "#plt.yticks(fontsize=20)\n",
    "plt.ylabel('Number of Ideal Streaming Services', fontsize=20)\n",
    "plt.xlabel('Clusters')"
   ]
  },
  {
   "cell_type": "code",
   "execution_count": null,
   "metadata": {},
   "outputs": [],
   "source": []
  },
  {
   "cell_type": "code",
   "execution_count": 9,
   "metadata": {},
   "outputs": [
    {
     "data": {
      "text/plain": [
       "Text(0.5, 0, 'Clusters')"
      ]
     },
     "execution_count": 9,
     "metadata": {},
     "output_type": "execute_result"
    },
    {
     "data": {
      "image/png": "[encoded data removed]",
      "text/plain": [
       "<Figure size 720x720 with 1 Axes>"
      ]
     },
     "metadata": {
      "needs_background": "light"
     },
     "output_type": "display_data"
    }
   ],
   "source": [
    "plt.figure(figsize = (10,10))\n",
    "ax = sns.barplot(x = 'predict_cluster_kmeans', y = 'age', data = df,\n",
    "                 #palette = ['steelblue', 'lightsteelblue', 'steelblue'],\n",
    "                 palette = ('Blues'),\n",
    "                 linewidth = 1.5, edgecolor = 'black')\n",
    "#plt.axhline(y=0.5, c='r')\n",
    "plt.xticks(fontsize=20)\n",
    "#plt.yticks(fontsize=20)\n",
    "plt.ylabel('Age', fontsize=20)\n",
    "plt.xlabel('Clusters')"
   ]
  },
  {
   "cell_type": "code",
   "execution_count": null,
   "metadata": {},
   "outputs": [],
   "source": []
  },
  {
   "cell_type": "code",
   "execution_count": null,
   "metadata": {},
   "outputs": [
    {
     "name": "stderr",
     "output_type": "stream",
     "text": [
      "<ipython-input-10-cff57640f0aa>:2: RuntimeWarning: More than 20 figures have been opened. Figures created through the pyplot interface (`matplotlib.pyplot.figure`) are retained until explicitly closed and may consume too much memory. (To control this warning, see the rcParam `figure.max_open_warning`).\n",
      "  plt.figure(figsize = (10,10))\n",
      "<ipython-input-10-cff57640f0aa>:2: RuntimeWarning: More than 20 figures have been opened. Figures created through the pyplot interface (`matplotlib.pyplot.figure`) are retained until explicitly closed and may consume too much memory. (To control this warning, see the rcParam `figure.max_open_warning`).\n",
      "  plt.figure(figsize = (10,10))\n",
      "<ipython-input-10-cff57640f0aa>:2: RuntimeWarning: More than 20 figures have been opened. Figures created through the pyplot interface (`matplotlib.pyplot.figure`) are retained until explicitly closed and may consume too much memory. (To control this warning, see the rcParam `figure.max_open_warning`).\n",
      "  plt.figure(figsize = (10,10))\n",
      "<ipython-input-10-cff57640f0aa>:2: RuntimeWarning: More than 20 figures have been opened. Figures created through the pyplot interface (`matplotlib.pyplot.figure`) are retained until explicitly closed and may consume too much memory. (To control this warning, see the rcParam `figure.max_open_warning`).\n",
      "  plt.figure(figsize = (10,10))\n",
      "<ipython-input-10-cff57640f0aa>:2: RuntimeWarning: More than 20 figures have been opened. Figures created through the pyplot interface (`matplotlib.pyplot.figure`) are retained until explicitly closed and may consume too much memory. (To control this warning, see the rcParam `figure.max_open_warning`).\n",
      "  plt.figure(figsize = (10,10))\n",
      "<ipython-input-10-cff57640f0aa>:2: RuntimeWarning: More than 20 figures have been opened. Figures created through the pyplot interface (`matplotlib.pyplot.figure`) are retained until explicitly closed and may consume too much memory. (To control this warning, see the rcParam `figure.max_open_warning`).\n",
      "  plt.figure(figsize = (10,10))\n",
      "<ipython-input-10-cff57640f0aa>:2: RuntimeWarning: More than 20 figures have been opened. Figures created through the pyplot interface (`matplotlib.pyplot.figure`) are retained until explicitly closed and may consume too much memory. (To control this warning, see the rcParam `figure.max_open_warning`).\n",
      "  plt.figure(figsize = (10,10))\n",
      "<ipython-input-10-cff57640f0aa>:2: RuntimeWarning: More than 20 figures have been opened. Figures created through the pyplot interface (`matplotlib.pyplot.figure`) are retained until explicitly closed and may consume too much memory. (To control this warning, see the rcParam `figure.max_open_warning`).\n",
      "  plt.figure(figsize = (10,10))\n",
      "<ipython-input-10-cff57640f0aa>:2: RuntimeWarning: More than 20 figures have been opened. Figures created through the pyplot interface (`matplotlib.pyplot.figure`) are retained until explicitly closed and may consume too much memory. (To control this warning, see the rcParam `figure.max_open_warning`).\n",
      "  plt.figure(figsize = (10,10))\n",
      "<ipython-input-10-cff57640f0aa>:2: RuntimeWarning: More than 20 figures have been opened. Figures created through the pyplot interface (`matplotlib.pyplot.figure`) are retained until explicitly closed and may consume too much memory. (To control this warning, see the rcParam `figure.max_open_warning`).\n",
      "  plt.figure(figsize = (10,10))\n",
      "<ipython-input-10-cff57640f0aa>:2: RuntimeWarning: More than 20 figures have been opened. Figures created through the pyplot interface (`matplotlib.pyplot.figure`) are retained until explicitly closed and may consume too much memory. (To control this warning, see the rcParam `figure.max_open_warning`).\n",
      "  plt.figure(figsize = (10,10))\n",
      "<ipython-input-10-cff57640f0aa>:2: RuntimeWarning: More than 20 figures have been opened. Figures created through the pyplot interface (`matplotlib.pyplot.figure`) are retained until explicitly closed and may consume too much memory. (To control this warning, see the rcParam `figure.max_open_warning`).\n",
      "  plt.figure(figsize = (10,10))\n",
      "<ipython-input-10-cff57640f0aa>:2: RuntimeWarning: More than 20 figures have been opened. Figures created through the pyplot interface (`matplotlib.pyplot.figure`) are retained until explicitly closed and may consume too much memory. (To control this warning, see the rcParam `figure.max_open_warning`).\n",
      "  plt.figure(figsize = (10,10))\n",
      "<ipython-input-10-cff57640f0aa>:2: RuntimeWarning: More than 20 figures have been opened. Figures created through the pyplot interface (`matplotlib.pyplot.figure`) are retained until explicitly closed and may consume too much memory. (To control this warning, see the rcParam `figure.max_open_warning`).\n",
      "  plt.figure(figsize = (10,10))\n",
      "<ipython-input-10-cff57640f0aa>:2: RuntimeWarning: More than 20 figures have been opened. Figures created through the pyplot interface (`matplotlib.pyplot.figure`) are retained until explicitly closed and may consume too much memory. (To control this warning, see the rcParam `figure.max_open_warning`).\n",
      "  plt.figure(figsize = (10,10))\n",
      "<ipython-input-10-cff57640f0aa>:2: RuntimeWarning: More than 20 figures have been opened. Figures created through the pyplot interface (`matplotlib.pyplot.figure`) are retained until explicitly closed and may consume too much memory. (To control this warning, see the rcParam `figure.max_open_warning`).\n",
      "  plt.figure(figsize = (10,10))\n",
      "<ipython-input-10-cff57640f0aa>:2: RuntimeWarning: More than 20 figures have been opened. Figures created through the pyplot interface (`matplotlib.pyplot.figure`) are retained until explicitly closed and may consume too much memory. (To control this warning, see the rcParam `figure.max_open_warning`).\n",
      "  plt.figure(figsize = (10,10))\n",
      "<ipython-input-10-cff57640f0aa>:2: RuntimeWarning: More than 20 figures have been opened. Figures created through the pyplot interface (`matplotlib.pyplot.figure`) are retained until explicitly closed and may consume too much memory. (To control this warning, see the rcParam `figure.max_open_warning`).\n",
      "  plt.figure(figsize = (10,10))\n",
      "<ipython-input-10-cff57640f0aa>:2: RuntimeWarning: More than 20 figures have been opened. Figures created through the pyplot interface (`matplotlib.pyplot.figure`) are retained until explicitly closed and may consume too much memory. (To control this warning, see the rcParam `figure.max_open_warning`).\n",
      "  plt.figure(figsize = (10,10))\n",
      "<ipython-input-10-cff57640f0aa>:2: RuntimeWarning: More than 20 figures have been opened. Figures created through the pyplot interface (`matplotlib.pyplot.figure`) are retained until explicitly closed and may consume too much memory. (To control this warning, see the rcParam `figure.max_open_warning`).\n",
      "  plt.figure(figsize = (10,10))\n",
      "<ipython-input-10-cff57640f0aa>:2: RuntimeWarning: More than 20 figures have been opened. Figures created through the pyplot interface (`matplotlib.pyplot.figure`) are retained until explicitly closed and may consume too much memory. (To control this warning, see the rcParam `figure.max_open_warning`).\n",
      "  plt.figure(figsize = (10,10))\n",
      "<ipython-input-10-cff57640f0aa>:2: RuntimeWarning: More than 20 figures have been opened. Figures created through the pyplot interface (`matplotlib.pyplot.figure`) are retained until explicitly closed and may consume too much memory. (To control this warning, see the rcParam `figure.max_open_warning`).\n",
      "  plt.figure(figsize = (10,10))\n",
      "<ipython-input-10-cff57640f0aa>:2: RuntimeWarning: More than 20 figures have been opened. Figures created through the pyplot interface (`matplotlib.pyplot.figure`) are retained until explicitly closed and may consume too much memory. (To control this warning, see the rcParam `figure.max_open_warning`).\n",
      "  plt.figure(figsize = (10,10))\n",
      "<ipython-input-10-cff57640f0aa>:2: RuntimeWarning: More than 20 figures have been opened. Figures created through the pyplot interface (`matplotlib.pyplot.figure`) are retained until explicitly closed and may consume too much memory. (To control this warning, see the rcParam `figure.max_open_warning`).\n",
      "  plt.figure(figsize = (10,10))\n",
      "<ipython-input-10-cff57640f0aa>:2: RuntimeWarning: More than 20 figures have been opened. Figures created through the pyplot interface (`matplotlib.pyplot.figure`) are retained until explicitly closed and may consume too much memory. (To control this warning, see the rcParam `figure.max_open_warning`).\n",
      "  plt.figure(figsize = (10,10))\n"
     ]
    },
    {
     "name": "stderr",
     "output_type": "stream",
     "text": [
      "<ipython-input-10-cff57640f0aa>:2: RuntimeWarning: More than 20 figures have been opened. Figures created through the pyplot interface (`matplotlib.pyplot.figure`) are retained until explicitly closed and may consume too much memory. (To control this warning, see the rcParam `figure.max_open_warning`).\n",
      "  plt.figure(figsize = (10,10))\n",
      "<ipython-input-10-cff57640f0aa>:2: RuntimeWarning: More than 20 figures have been opened. Figures created through the pyplot interface (`matplotlib.pyplot.figure`) are retained until explicitly closed and may consume too much memory. (To control this warning, see the rcParam `figure.max_open_warning`).\n",
      "  plt.figure(figsize = (10,10))\n",
      "<ipython-input-10-cff57640f0aa>:2: RuntimeWarning: More than 20 figures have been opened. Figures created through the pyplot interface (`matplotlib.pyplot.figure`) are retained until explicitly closed and may consume too much memory. (To control this warning, see the rcParam `figure.max_open_warning`).\n",
      "  plt.figure(figsize = (10,10))\n",
      "<ipython-input-10-cff57640f0aa>:2: RuntimeWarning: More than 20 figures have been opened. Figures created through the pyplot interface (`matplotlib.pyplot.figure`) are retained until explicitly closed and may consume too much memory. (To control this warning, see the rcParam `figure.max_open_warning`).\n",
      "  plt.figure(figsize = (10,10))\n",
      "<ipython-input-10-cff57640f0aa>:2: RuntimeWarning: More than 20 figures have been opened. Figures created through the pyplot interface (`matplotlib.pyplot.figure`) are retained until explicitly closed and may consume too much memory. (To control this warning, see the rcParam `figure.max_open_warning`).\n",
      "  plt.figure(figsize = (10,10))\n",
      "<ipython-input-10-cff57640f0aa>:2: RuntimeWarning: More than 20 figures have been opened. Figures created through the pyplot interface (`matplotlib.pyplot.figure`) are retained until explicitly closed and may consume too much memory. (To control this warning, see the rcParam `figure.max_open_warning`).\n",
      "  plt.figure(figsize = (10,10))\n",
      "<ipython-input-10-cff57640f0aa>:2: RuntimeWarning: More than 20 figures have been opened. Figures created through the pyplot interface (`matplotlib.pyplot.figure`) are retained until explicitly closed and may consume too much memory. (To control this warning, see the rcParam `figure.max_open_warning`).\n",
      "  plt.figure(figsize = (10,10))\n",
      "<ipython-input-10-cff57640f0aa>:2: RuntimeWarning: More than 20 figures have been opened. Figures created through the pyplot interface (`matplotlib.pyplot.figure`) are retained until explicitly closed and may consume too much memory. (To control this warning, see the rcParam `figure.max_open_warning`).\n",
      "  plt.figure(figsize = (10,10))\n",
      "<ipython-input-10-cff57640f0aa>:2: RuntimeWarning: More than 20 figures have been opened. Figures created through the pyplot interface (`matplotlib.pyplot.figure`) are retained until explicitly closed and may consume too much memory. (To control this warning, see the rcParam `figure.max_open_warning`).\n",
      "  plt.figure(figsize = (10,10))\n",
      "<ipython-input-10-cff57640f0aa>:2: RuntimeWarning: More than 20 figures have been opened. Figures created through the pyplot interface (`matplotlib.pyplot.figure`) are retained until explicitly closed and may consume too much memory. (To control this warning, see the rcParam `figure.max_open_warning`).\n",
      "  plt.figure(figsize = (10,10))\n",
      "<ipython-input-10-cff57640f0aa>:2: RuntimeWarning: More than 20 figures have been opened. Figures created through the pyplot interface (`matplotlib.pyplot.figure`) are retained until explicitly closed and may consume too much memory. (To control this warning, see the rcParam `figure.max_open_warning`).\n",
      "  plt.figure(figsize = (10,10))\n",
      "<ipython-input-10-cff57640f0aa>:2: RuntimeWarning: More than 20 figures have been opened. Figures created through the pyplot interface (`matplotlib.pyplot.figure`) are retained until explicitly closed and may consume too much memory. (To control this warning, see the rcParam `figure.max_open_warning`).\n",
      "  plt.figure(figsize = (10,10))\n",
      "<ipython-input-10-cff57640f0aa>:2: RuntimeWarning: More than 20 figures have been opened. Figures created through the pyplot interface (`matplotlib.pyplot.figure`) are retained until explicitly closed and may consume too much memory. (To control this warning, see the rcParam `figure.max_open_warning`).\n",
      "  plt.figure(figsize = (10,10))\n",
      "<ipython-input-10-cff57640f0aa>:2: RuntimeWarning: More than 20 figures have been opened. Figures created through the pyplot interface (`matplotlib.pyplot.figure`) are retained until explicitly closed and may consume too much memory. (To control this warning, see the rcParam `figure.max_open_warning`).\n",
      "  plt.figure(figsize = (10,10))\n",
      "<ipython-input-10-cff57640f0aa>:2: RuntimeWarning: More than 20 figures have been opened. Figures created through the pyplot interface (`matplotlib.pyplot.figure`) are retained until explicitly closed and may consume too much memory. (To control this warning, see the rcParam `figure.max_open_warning`).\n",
      "  plt.figure(figsize = (10,10))\n",
      "<ipython-input-10-cff57640f0aa>:2: RuntimeWarning: More than 20 figures have been opened. Figures created through the pyplot interface (`matplotlib.pyplot.figure`) are retained until explicitly closed and may consume too much memory. (To control this warning, see the rcParam `figure.max_open_warning`).\n",
      "  plt.figure(figsize = (10,10))\n",
      "<ipython-input-10-cff57640f0aa>:2: RuntimeWarning: More than 20 figures have been opened. Figures created through the pyplot interface (`matplotlib.pyplot.figure`) are retained until explicitly closed and may consume too much memory. (To control this warning, see the rcParam `figure.max_open_warning`).\n",
      "  plt.figure(figsize = (10,10))\n",
      "<ipython-input-10-cff57640f0aa>:2: RuntimeWarning: More than 20 figures have been opened. Figures created through the pyplot interface (`matplotlib.pyplot.figure`) are retained until explicitly closed and may consume too much memory. (To control this warning, see the rcParam `figure.max_open_warning`).\n",
      "  plt.figure(figsize = (10,10))\n",
      "<ipython-input-10-cff57640f0aa>:2: RuntimeWarning: More than 20 figures have been opened. Figures created through the pyplot interface (`matplotlib.pyplot.figure`) are retained until explicitly closed and may consume too much memory. (To control this warning, see the rcParam `figure.max_open_warning`).\n",
      "  plt.figure(figsize = (10,10))\n",
      "<ipython-input-10-cff57640f0aa>:2: RuntimeWarning: More than 20 figures have been opened. Figures created through the pyplot interface (`matplotlib.pyplot.figure`) are retained until explicitly closed and may consume too much memory. (To control this warning, see the rcParam `figure.max_open_warning`).\n",
      "  plt.figure(figsize = (10,10))\n",
      "<ipython-input-10-cff57640f0aa>:2: RuntimeWarning: More than 20 figures have been opened. Figures created through the pyplot interface (`matplotlib.pyplot.figure`) are retained until explicitly closed and may consume too much memory. (To control this warning, see the rcParam `figure.max_open_warning`).\n",
      "  plt.figure(figsize = (10,10))\n",
      "<ipython-input-10-cff57640f0aa>:2: RuntimeWarning: More than 20 figures have been opened. Figures created through the pyplot interface (`matplotlib.pyplot.figure`) are retained until explicitly closed and may consume too much memory. (To control this warning, see the rcParam `figure.max_open_warning`).\n",
      "  plt.figure(figsize = (10,10))\n",
      "<ipython-input-10-cff57640f0aa>:2: RuntimeWarning: More than 20 figures have been opened. Figures created through the pyplot interface (`matplotlib.pyplot.figure`) are retained until explicitly closed and may consume too much memory. (To control this warning, see the rcParam `figure.max_open_warning`).\n",
      "  plt.figure(figsize = (10,10))\n",
      "<ipython-input-10-cff57640f0aa>:2: RuntimeWarning: More than 20 figures have been opened. Figures created through the pyplot interface (`matplotlib.pyplot.figure`) are retained until explicitly closed and may consume too much memory. (To control this warning, see the rcParam `figure.max_open_warning`).\n",
      "  plt.figure(figsize = (10,10))\n",
      "<ipython-input-10-cff57640f0aa>:2: RuntimeWarning: More than 20 figures have been opened. Figures created through the pyplot interface (`matplotlib.pyplot.figure`) are retained until explicitly closed and may consume too much memory. (To control this warning, see the rcParam `figure.max_open_warning`).\n",
      "  plt.figure(figsize = (10,10))\n"
     ]
    },
    {
     "name": "stderr",
     "output_type": "stream",
     "text": [
      "<ipython-input-10-cff57640f0aa>:2: RuntimeWarning: More than 20 figures have been opened. Figures created through the pyplot interface (`matplotlib.pyplot.figure`) are retained until explicitly closed and may consume too much memory. (To control this warning, see the rcParam `figure.max_open_warning`).\n",
      "  plt.figure(figsize = (10,10))\n",
      "<ipython-input-10-cff57640f0aa>:2: RuntimeWarning: More than 20 figures have been opened. Figures created through the pyplot interface (`matplotlib.pyplot.figure`) are retained until explicitly closed and may consume too much memory. (To control this warning, see the rcParam `figure.max_open_warning`).\n",
      "  plt.figure(figsize = (10,10))\n",
      "<ipython-input-10-cff57640f0aa>:2: RuntimeWarning: More than 20 figures have been opened. Figures created through the pyplot interface (`matplotlib.pyplot.figure`) are retained until explicitly closed and may consume too much memory. (To control this warning, see the rcParam `figure.max_open_warning`).\n",
      "  plt.figure(figsize = (10,10))\n",
      "<ipython-input-10-cff57640f0aa>:2: RuntimeWarning: More than 20 figures have been opened. Figures created through the pyplot interface (`matplotlib.pyplot.figure`) are retained until explicitly closed and may consume too much memory. (To control this warning, see the rcParam `figure.max_open_warning`).\n",
      "  plt.figure(figsize = (10,10))\n",
      "<ipython-input-10-cff57640f0aa>:2: RuntimeWarning: More than 20 figures have been opened. Figures created through the pyplot interface (`matplotlib.pyplot.figure`) are retained until explicitly closed and may consume too much memory. (To control this warning, see the rcParam `figure.max_open_warning`).\n",
      "  plt.figure(figsize = (10,10))\n",
      "<ipython-input-10-cff57640f0aa>:2: RuntimeWarning: More than 20 figures have been opened. Figures created through the pyplot interface (`matplotlib.pyplot.figure`) are retained until explicitly closed and may consume too much memory. (To control this warning, see the rcParam `figure.max_open_warning`).\n",
      "  plt.figure(figsize = (10,10))\n",
      "<ipython-input-10-cff57640f0aa>:2: RuntimeWarning: More than 20 figures have been opened. Figures created through the pyplot interface (`matplotlib.pyplot.figure`) are retained until explicitly closed and may consume too much memory. (To control this warning, see the rcParam `figure.max_open_warning`).\n",
      "  plt.figure(figsize = (10,10))\n",
      "<ipython-input-10-cff57640f0aa>:2: RuntimeWarning: More than 20 figures have been opened. Figures created through the pyplot interface (`matplotlib.pyplot.figure`) are retained until explicitly closed and may consume too much memory. (To control this warning, see the rcParam `figure.max_open_warning`).\n",
      "  plt.figure(figsize = (10,10))\n",
      "<ipython-input-10-cff57640f0aa>:2: RuntimeWarning: More than 20 figures have been opened. Figures created through the pyplot interface (`matplotlib.pyplot.figure`) are retained until explicitly closed and may consume too much memory. (To control this warning, see the rcParam `figure.max_open_warning`).\n",
      "  plt.figure(figsize = (10,10))\n",
      "<ipython-input-10-cff57640f0aa>:2: RuntimeWarning: More than 20 figures have been opened. Figures created through the pyplot interface (`matplotlib.pyplot.figure`) are retained until explicitly closed and may consume too much memory. (To control this warning, see the rcParam `figure.max_open_warning`).\n",
      "  plt.figure(figsize = (10,10))\n",
      "<ipython-input-10-cff57640f0aa>:2: RuntimeWarning: More than 20 figures have been opened. Figures created through the pyplot interface (`matplotlib.pyplot.figure`) are retained until explicitly closed and may consume too much memory. (To control this warning, see the rcParam `figure.max_open_warning`).\n",
      "  plt.figure(figsize = (10,10))\n",
      "<ipython-input-10-cff57640f0aa>:2: RuntimeWarning: More than 20 figures have been opened. Figures created through the pyplot interface (`matplotlib.pyplot.figure`) are retained until explicitly closed and may consume too much memory. (To control this warning, see the rcParam `figure.max_open_warning`).\n",
      "  plt.figure(figsize = (10,10))\n",
      "<ipython-input-10-cff57640f0aa>:2: RuntimeWarning: More than 20 figures have been opened. Figures created through the pyplot interface (`matplotlib.pyplot.figure`) are retained until explicitly closed and may consume too much memory. (To control this warning, see the rcParam `figure.max_open_warning`).\n",
      "  plt.figure(figsize = (10,10))\n",
      "<ipython-input-10-cff57640f0aa>:2: RuntimeWarning: More than 20 figures have been opened. Figures created through the pyplot interface (`matplotlib.pyplot.figure`) are retained until explicitly closed and may consume too much memory. (To control this warning, see the rcParam `figure.max_open_warning`).\n",
      "  plt.figure(figsize = (10,10))\n",
      "<ipython-input-10-cff57640f0aa>:2: RuntimeWarning: More than 20 figures have been opened. Figures created through the pyplot interface (`matplotlib.pyplot.figure`) are retained until explicitly closed and may consume too much memory. (To control this warning, see the rcParam `figure.max_open_warning`).\n",
      "  plt.figure(figsize = (10,10))\n",
      "<ipython-input-10-cff57640f0aa>:2: RuntimeWarning: More than 20 figures have been opened. Figures created through the pyplot interface (`matplotlib.pyplot.figure`) are retained until explicitly closed and may consume too much memory. (To control this warning, see the rcParam `figure.max_open_warning`).\n",
      "  plt.figure(figsize = (10,10))\n",
      "<ipython-input-10-cff57640f0aa>:2: RuntimeWarning: More than 20 figures have been opened. Figures created through the pyplot interface (`matplotlib.pyplot.figure`) are retained until explicitly closed and may consume too much memory. (To control this warning, see the rcParam `figure.max_open_warning`).\n",
      "  plt.figure(figsize = (10,10))\n",
      "<ipython-input-10-cff57640f0aa>:2: RuntimeWarning: More than 20 figures have been opened. Figures created through the pyplot interface (`matplotlib.pyplot.figure`) are retained until explicitly closed and may consume too much memory. (To control this warning, see the rcParam `figure.max_open_warning`).\n",
      "  plt.figure(figsize = (10,10))\n",
      "<ipython-input-10-cff57640f0aa>:2: RuntimeWarning: More than 20 figures have been opened. Figures created through the pyplot interface (`matplotlib.pyplot.figure`) are retained until explicitly closed and may consume too much memory. (To control this warning, see the rcParam `figure.max_open_warning`).\n",
      "  plt.figure(figsize = (10,10))\n",
      "<ipython-input-10-cff57640f0aa>:2: RuntimeWarning: More than 20 figures have been opened. Figures created through the pyplot interface (`matplotlib.pyplot.figure`) are retained until explicitly closed and may consume too much memory. (To control this warning, see the rcParam `figure.max_open_warning`).\n",
      "  plt.figure(figsize = (10,10))\n",
      "<ipython-input-10-cff57640f0aa>:2: RuntimeWarning: More than 20 figures have been opened. Figures created through the pyplot interface (`matplotlib.pyplot.figure`) are retained until explicitly closed and may consume too much memory. (To control this warning, see the rcParam `figure.max_open_warning`).\n",
      "  plt.figure(figsize = (10,10))\n"
     ]
    }
   ],
   "source": [
    "for column in df.columns:\n",
    "    plt.figure(figsize = (10,10))\n",
    "    ax = sns.barplot(x = 'predict_cluster_kmeans', y = column, data = df,\n",
    "                     palette = ['lightsteelblue'], \n",
    "                     #palette = ('Blues'),\n",
    "                     linewidth = 1.5, edgecolor = 'black')\n",
    "    #plt.axhline(y=0.5, c='r')\n",
    "    plt.xticks(fontsize=20)\n",
    "    #plt.yticks(fontsize=20)\n",
    "    plt.ylabel(column, fontsize=20)\n",
    "    plt.xlabel('Clusters')\n",
    "    plt.savefig(f'clusters_plot/{column}.png')"
   ]
  },
  {
   "cell_type": "code",
   "execution_count": null,
   "metadata": {},
   "outputs": [],
   "source": []
  },
  {
   "cell_type": "code",
   "execution_count": null,
   "metadata": {},
   "outputs": [],
   "source": []
  },
  {
   "cell_type": "code",
   "execution_count": null,
   "metadata": {},
   "outputs": [],
   "source": []
  },
  {
   "cell_type": "code",
   "execution_count": null,
   "metadata": {},
   "outputs": [],
   "source": []
  },
  {
   "cell_type": "code",
   "execution_count": null,
   "metadata": {},
   "outputs": [],
   "source": []
  },
  {
   "cell_type": "code",
   "execution_count": null,
   "metadata": {},
   "outputs": [],
   "source": []
  },
  {
   "cell_type": "code",
   "execution_count": null,
   "metadata": {},
   "outputs": [],
   "source": []
  },
  {
   "cell_type": "code",
   "execution_count": null,
   "metadata": {},
   "outputs": [],
   "source": []
  },
  {
   "cell_type": "code",
   "execution_count": null,
   "metadata": {},
   "outputs": [],
   "source": []
  },
  {
   "cell_type": "code",
   "execution_count": null,
   "metadata": {},
   "outputs": [],
   "source": []
  }
 ],
 "metadata": {
  "kernelspec": {
   "display_name": "Python 3.8.1 64-bit",
   "language": "python",
   "name": "python38164bit0209044da7c742dab8314e0953beb93b"
  },
  "language_info": {
   "codemirror_mode": {
    "name": "ipython",
    "version": 3
   },
   "file_extension": ".py",
   "mimetype": "text/x-python",
   "name": "python",
   "nbconvert_exporter": "python",
   "pygments_lexer": "ipython3",
   "version": "3.8.1"
  }
 },
 "nbformat": 4,
 "nbformat_minor": 4
}
