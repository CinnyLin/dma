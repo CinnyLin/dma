{
 "cells": [
  {
   "cell_type": "code",
   "execution_count": null,
   "metadata": {},
   "outputs": [],
   "source": []
  },
  {
   "cell_type": "code",
   "execution_count": 1,
   "metadata": {},
   "outputs": [],
   "source": [
    "import pandas as pd\n",
    "import numpy as np\n",
    "import matplotlib.pyplot as plt"
   ]
  },
  {
   "cell_type": "code",
   "execution_count": null,
   "metadata": {},
   "outputs": [],
   "source": []
  },
  {
   "cell_type": "code",
   "execution_count": 2,
   "metadata": {},
   "outputs": [
    {
     "data": {
      "text/html": [
       "<div>\n",
       "<style scoped>\n",
       "    .dataframe tbody tr th:only-of-type {\n",
       "        vertical-align: middle;\n",
       "    }\n",
       "\n",
       "    .dataframe tbody tr th {\n",
       "        vertical-align: top;\n",
       "    }\n",
       "\n",
       "    .dataframe thead th {\n",
       "        text-align: right;\n",
       "    }\n",
       "</style>\n",
       "<table border=\"1\" class=\"dataframe\">\n",
       "  <thead>\n",
       "    <tr style=\"text-align: right;\">\n",
       "      <th></th>\n",
       "      <th>Unnamed: 0</th>\n",
       "      <th>subid</th>\n",
       "      <th>package_type</th>\n",
       "      <th>num_weekly_services_utilized</th>\n",
       "      <th>preferred_genre</th>\n",
       "      <th>intended_use</th>\n",
       "      <th>weekly_consumption_hour</th>\n",
       "      <th>num_ideal_streaming_services</th>\n",
       "      <th>retarget_TF</th>\n",
       "      <th>age</th>\n",
       "      <th>...</th>\n",
       "      <th>payment_type</th>\n",
       "      <th>current_sub_TF</th>\n",
       "      <th>cancel_date</th>\n",
       "      <th>num_trial_days</th>\n",
       "      <th>trial_completed_TF</th>\n",
       "      <th>revenue_net_1month</th>\n",
       "      <th>payment_period</th>\n",
       "      <th>last_payment</th>\n",
       "      <th>next_payment</th>\n",
       "      <th>renew</th>\n",
       "    </tr>\n",
       "  </thead>\n",
       "  <tbody>\n",
       "    <tr>\n",
       "      <th>0</th>\n",
       "      <td>162502</td>\n",
       "      <td>21724479</td>\n",
       "      <td>economy</td>\n",
       "      <td>NaN</td>\n",
       "      <td>comedy</td>\n",
       "      <td>access to exclusive content</td>\n",
       "      <td>NaN</td>\n",
       "      <td>NaN</td>\n",
       "      <td>False</td>\n",
       "      <td>NaN</td>\n",
       "      <td>...</td>\n",
       "      <td>Standard Charter</td>\n",
       "      <td>NaN</td>\n",
       "      <td>NaN</td>\n",
       "      <td>NaN</td>\n",
       "      <td>NaN</td>\n",
       "      <td>NaN</td>\n",
       "      <td>NaN</td>\n",
       "      <td>NaN</td>\n",
       "      <td>NaN</td>\n",
       "      <td>NaN</td>\n",
       "    </tr>\n",
       "    <tr>\n",
       "      <th>1</th>\n",
       "      <td>380374</td>\n",
       "      <td>23383224</td>\n",
       "      <td>base</td>\n",
       "      <td>NaN</td>\n",
       "      <td>comedy</td>\n",
       "      <td>access to exclusive content</td>\n",
       "      <td>22.951579</td>\n",
       "      <td>NaN</td>\n",
       "      <td>False</td>\n",
       "      <td>70.0</td>\n",
       "      <td>...</td>\n",
       "      <td>NaN</td>\n",
       "      <td>NaN</td>\n",
       "      <td>NaN</td>\n",
       "      <td>NaN</td>\n",
       "      <td>NaN</td>\n",
       "      <td>NaN</td>\n",
       "      <td>NaN</td>\n",
       "      <td>NaN</td>\n",
       "      <td>NaN</td>\n",
       "      <td>NaN</td>\n",
       "    </tr>\n",
       "    <tr>\n",
       "      <th>2</th>\n",
       "      <td>496617</td>\n",
       "      <td>26844789</td>\n",
       "      <td>enhanced</td>\n",
       "      <td>3.0</td>\n",
       "      <td>regional</td>\n",
       "      <td>replace OTT</td>\n",
       "      <td>36.001186</td>\n",
       "      <td>2.0</td>\n",
       "      <td>False</td>\n",
       "      <td>25.0</td>\n",
       "      <td>...</td>\n",
       "      <td>NaN</td>\n",
       "      <td>NaN</td>\n",
       "      <td>NaN</td>\n",
       "      <td>NaN</td>\n",
       "      <td>NaN</td>\n",
       "      <td>NaN</td>\n",
       "      <td>NaN</td>\n",
       "      <td>NaN</td>\n",
       "      <td>NaN</td>\n",
       "      <td>NaN</td>\n",
       "    </tr>\n",
       "  </tbody>\n",
       "</table>\n",
       "<p>3 rows × 39 columns</p>\n",
       "</div>"
      ],
      "text/plain": [
       "   Unnamed: 0     subid package_type  num_weekly_services_utilized  \\\n",
       "0      162502  21724479      economy                           NaN   \n",
       "1      380374  23383224         base                           NaN   \n",
       "2      496617  26844789     enhanced                           3.0   \n",
       "\n",
       "  preferred_genre                 intended_use  weekly_consumption_hour  \\\n",
       "0          comedy  access to exclusive content                      NaN   \n",
       "1          comedy  access to exclusive content                22.951579   \n",
       "2        regional                  replace OTT                36.001186   \n",
       "\n",
       "   num_ideal_streaming_services  retarget_TF   age  ...      payment_type  \\\n",
       "0                           NaN        False   NaN  ...  Standard Charter   \n",
       "1                           NaN        False  70.0  ...               NaN   \n",
       "2                           2.0        False  25.0  ...               NaN   \n",
       "\n",
       "  current_sub_TF cancel_date num_trial_days trial_completed_TF  \\\n",
       "0            NaN         NaN            NaN                NaN   \n",
       "1            NaN         NaN            NaN                NaN   \n",
       "2            NaN         NaN            NaN                NaN   \n",
       "\n",
       "   revenue_net_1month payment_period  last_payment  next_payment renew  \n",
       "0                 NaN            NaN           NaN           NaN   NaN  \n",
       "1                 NaN            NaN           NaN           NaN   NaN  \n",
       "2                 NaN            NaN           NaN           NaN   NaN  \n",
       "\n",
       "[3 rows x 39 columns]"
      ]
     },
     "execution_count": 2,
     "metadata": {},
     "output_type": "execute_result"
    }
   ],
   "source": [
    "df = pd.read_csv('subscribers.csv')\n",
    "df.head(3)"
   ]
  },
  {
   "cell_type": "code",
   "execution_count": 3,
   "metadata": {},
   "outputs": [
    {
     "data": {
      "text/plain": [
       "Index(['Unnamed: 0', 'subid', 'package_type', 'num_weekly_services_utilized',\n",
       "       'preferred_genre', 'intended_use', 'weekly_consumption_hour',\n",
       "       'num_ideal_streaming_services', 'retarget_TF', 'age', 'male_TF',\n",
       "       'country', 'attribution_technical', 'attribution_survey', 'op_sys',\n",
       "       'months_per_bill_period', 'plan_type', 'monthly_price',\n",
       "       'discount_price', 'account_creation_date', 'creation_until_cancel_days',\n",
       "       'active_cancel', 'trial_end_date', 'initial_credit_card_declined',\n",
       "       'revenue_net', 'join_fee', 'language', 'paid_TF',\n",
       "       'refund_after_trial_TF', 'payment_type', 'current_sub_TF',\n",
       "       'cancel_date', 'num_trial_days', 'trial_completed_TF',\n",
       "       'revenue_net_1month', 'payment_period', 'last_payment', 'next_payment',\n",
       "       'renew'],\n",
       "      dtype='object')"
      ]
     },
     "execution_count": 3,
     "metadata": {},
     "output_type": "execute_result"
    }
   ],
   "source": [
    "df.columns"
   ]
  },
  {
   "cell_type": "code",
   "execution_count": null,
   "metadata": {},
   "outputs": [],
   "source": []
  },
  {
   "cell_type": "code",
   "execution_count": 4,
   "metadata": {},
   "outputs": [
    {
     "data": {
      "text/html": [
       "<div>\n",
       "<style scoped>\n",
       "    .dataframe tbody tr th:only-of-type {\n",
       "        vertical-align: middle;\n",
       "    }\n",
       "\n",
       "    .dataframe tbody tr th {\n",
       "        vertical-align: top;\n",
       "    }\n",
       "\n",
       "    .dataframe thead th {\n",
       "        text-align: right;\n",
       "    }\n",
       "</style>\n",
       "<table border=\"1\" class=\"dataframe\">\n",
       "  <thead>\n",
       "    <tr style=\"text-align: right;\">\n",
       "      <th></th>\n",
       "      <th>Unnamed: 0</th>\n",
       "      <th>subid</th>\n",
       "      <th>num_weekly_services_utilized</th>\n",
       "      <th>weekly_consumption_hour</th>\n",
       "      <th>num_ideal_streaming_services</th>\n",
       "      <th>age</th>\n",
       "      <th>months_per_bill_period</th>\n",
       "      <th>monthly_price</th>\n",
       "      <th>discount_price</th>\n",
       "      <th>creation_until_cancel_days</th>\n",
       "      <th>revenue_net</th>\n",
       "      <th>join_fee</th>\n",
       "      <th>num_trial_days</th>\n",
       "      <th>revenue_net_1month</th>\n",
       "      <th>payment_period</th>\n",
       "    </tr>\n",
       "  </thead>\n",
       "  <tbody>\n",
       "    <tr>\n",
       "      <th>count</th>\n",
       "      <td>227628.000000</td>\n",
       "      <td>2.276280e+05</td>\n",
       "      <td>117178.000000</td>\n",
       "      <td>189698.000000</td>\n",
       "      <td>115458.000000</td>\n",
       "      <td>1.924590e+05</td>\n",
       "      <td>227628.0</td>\n",
       "      <td>227628.000000</td>\n",
       "      <td>227628.000000</td>\n",
       "      <td>151768.000000</td>\n",
       "      <td>192724.000000</td>\n",
       "      <td>192724.000000</td>\n",
       "      <td>31166.000000</td>\n",
       "      <td>31166.000000</td>\n",
       "      <td>31166.000000</td>\n",
       "    </tr>\n",
       "    <tr>\n",
       "      <th>mean</th>\n",
       "      <td>341129.200041</td>\n",
       "      <td>2.498624e+07</td>\n",
       "      <td>3.008824</td>\n",
       "      <td>27.997724</td>\n",
       "      <td>2.061260</td>\n",
       "      <td>7.579755e+02</td>\n",
       "      <td>4.0</td>\n",
       "      <td>4.732049</td>\n",
       "      <td>4.512188</td>\n",
       "      <td>16.570832</td>\n",
       "      <td>1.557353</td>\n",
       "      <td>0.115145</td>\n",
       "      <td>13.412437</td>\n",
       "      <td>1.556335</td>\n",
       "      <td>0.615831</td>\n",
       "    </tr>\n",
       "    <tr>\n",
       "      <th>std</th>\n",
       "      <td>197094.201084</td>\n",
       "      <td>2.885543e+06</td>\n",
       "      <td>0.820526</td>\n",
       "      <td>4.976341</td>\n",
       "      <td>0.245907</td>\n",
       "      <td>1.920204e+05</td>\n",
       "      <td>0.0</td>\n",
       "      <td>0.101049</td>\n",
       "      <td>0.097078</td>\n",
       "      <td>35.777986</td>\n",
       "      <td>3.068829</td>\n",
       "      <td>0.176971</td>\n",
       "      <td>2.347321</td>\n",
       "      <td>2.160493</td>\n",
       "      <td>0.959627</td>\n",
       "    </tr>\n",
       "    <tr>\n",
       "      <th>min</th>\n",
       "      <td>1.000000</td>\n",
       "      <td>2.000001e+07</td>\n",
       "      <td>0.000000</td>\n",
       "      <td>-32.146760</td>\n",
       "      <td>-1.000000</td>\n",
       "      <td>0.000000e+00</td>\n",
       "      <td>4.0</td>\n",
       "      <td>0.807400</td>\n",
       "      <td>0.770700</td>\n",
       "      <td>-108.000000</td>\n",
       "      <td>-5.982100</td>\n",
       "      <td>-0.660600</td>\n",
       "      <td>0.000000</td>\n",
       "      <td>-6.385800</td>\n",
       "      <td>0.000000</td>\n",
       "    </tr>\n",
       "    <tr>\n",
       "      <th>25%</th>\n",
       "      <td>170766.250000</td>\n",
       "      <td>2.248998e+07</td>\n",
       "      <td>2.000000</td>\n",
       "      <td>24.401536</td>\n",
       "      <td>2.000000</td>\n",
       "      <td>3.500000e+01</td>\n",
       "      <td>4.0</td>\n",
       "      <td>4.734300</td>\n",
       "      <td>4.514100</td>\n",
       "      <td>2.000000</td>\n",
       "      <td>0.000000</td>\n",
       "      <td>0.036700</td>\n",
       "      <td>14.000000</td>\n",
       "      <td>0.000000</td>\n",
       "      <td>0.000000</td>\n",
       "    </tr>\n",
       "    <tr>\n",
       "      <th>50%</th>\n",
       "      <td>340985.500000</td>\n",
       "      <td>2.497011e+07</td>\n",
       "      <td>3.000000</td>\n",
       "      <td>27.301448</td>\n",
       "      <td>2.000000</td>\n",
       "      <td>4.600000e+01</td>\n",
       "      <td>4.0</td>\n",
       "      <td>4.734300</td>\n",
       "      <td>4.514100</td>\n",
       "      <td>8.000000</td>\n",
       "      <td>0.000000</td>\n",
       "      <td>0.036700</td>\n",
       "      <td>14.000000</td>\n",
       "      <td>0.000000</td>\n",
       "      <td>0.000000</td>\n",
       "    </tr>\n",
       "    <tr>\n",
       "      <th>75%</th>\n",
       "      <td>511844.000000</td>\n",
       "      <td>2.749020e+07</td>\n",
       "      <td>3.000000</td>\n",
       "      <td>30.201361</td>\n",
       "      <td>2.000000</td>\n",
       "      <td>5.700000e+01</td>\n",
       "      <td>4.0</td>\n",
       "      <td>4.734300</td>\n",
       "      <td>4.514100</td>\n",
       "      <td>13.000000</td>\n",
       "      <td>2.532300</td>\n",
       "      <td>0.110100</td>\n",
       "      <td>14.000000</td>\n",
       "      <td>3.706700</td>\n",
       "      <td>1.000000</td>\n",
       "    </tr>\n",
       "    <tr>\n",
       "      <th>max</th>\n",
       "      <td>682885.000000</td>\n",
       "      <td>2.999998e+07</td>\n",
       "      <td>14.000000</td>\n",
       "      <td>76.599962</td>\n",
       "      <td>7.000000</td>\n",
       "      <td>8.172000e+07</td>\n",
       "      <td>4.0</td>\n",
       "      <td>5.101300</td>\n",
       "      <td>5.027900</td>\n",
       "      <td>312.000000</td>\n",
       "      <td>15.634200</td>\n",
       "      <td>0.734000</td>\n",
       "      <td>14.000000</td>\n",
       "      <td>7.817100</td>\n",
       "      <td>10.000000</td>\n",
       "    </tr>\n",
       "  </tbody>\n",
       "</table>\n",
       "</div>"
      ],
      "text/plain": [
       "          Unnamed: 0         subid  num_weekly_services_utilized  \\\n",
       "count  227628.000000  2.276280e+05                 117178.000000   \n",
       "mean   341129.200041  2.498624e+07                      3.008824   \n",
       "std    197094.201084  2.885543e+06                      0.820526   \n",
       "min         1.000000  2.000001e+07                      0.000000   \n",
       "25%    170766.250000  2.248998e+07                      2.000000   \n",
       "50%    340985.500000  2.497011e+07                      3.000000   \n",
       "75%    511844.000000  2.749020e+07                      3.000000   \n",
       "max    682885.000000  2.999998e+07                     14.000000   \n",
       "\n",
       "       weekly_consumption_hour  num_ideal_streaming_services           age  \\\n",
       "count            189698.000000                 115458.000000  1.924590e+05   \n",
       "mean                 27.997724                      2.061260  7.579755e+02   \n",
       "std                   4.976341                      0.245907  1.920204e+05   \n",
       "min                 -32.146760                     -1.000000  0.000000e+00   \n",
       "25%                  24.401536                      2.000000  3.500000e+01   \n",
       "50%                  27.301448                      2.000000  4.600000e+01   \n",
       "75%                  30.201361                      2.000000  5.700000e+01   \n",
       "max                  76.599962                      7.000000  8.172000e+07   \n",
       "\n",
       "       months_per_bill_period  monthly_price  discount_price  \\\n",
       "count                227628.0  227628.000000   227628.000000   \n",
       "mean                      4.0       4.732049        4.512188   \n",
       "std                       0.0       0.101049        0.097078   \n",
       "min                       4.0       0.807400        0.770700   \n",
       "25%                       4.0       4.734300        4.514100   \n",
       "50%                       4.0       4.734300        4.514100   \n",
       "75%                       4.0       4.734300        4.514100   \n",
       "max                       4.0       5.101300        5.027900   \n",
       "\n",
       "       creation_until_cancel_days    revenue_net       join_fee  \\\n",
       "count               151768.000000  192724.000000  192724.000000   \n",
       "mean                    16.570832       1.557353       0.115145   \n",
       "std                     35.777986       3.068829       0.176971   \n",
       "min                   -108.000000      -5.982100      -0.660600   \n",
       "25%                      2.000000       0.000000       0.036700   \n",
       "50%                      8.000000       0.000000       0.036700   \n",
       "75%                     13.000000       2.532300       0.110100   \n",
       "max                    312.000000      15.634200       0.734000   \n",
       "\n",
       "       num_trial_days  revenue_net_1month  payment_period  \n",
       "count    31166.000000        31166.000000    31166.000000  \n",
       "mean        13.412437            1.556335        0.615831  \n",
       "std          2.347321            2.160493        0.959627  \n",
       "min          0.000000           -6.385800        0.000000  \n",
       "25%         14.000000            0.000000        0.000000  \n",
       "50%         14.000000            0.000000        0.000000  \n",
       "75%         14.000000            3.706700        1.000000  \n",
       "max         14.000000            7.817100       10.000000  "
      ]
     },
     "execution_count": 4,
     "metadata": {},
     "output_type": "execute_result"
    }
   ],
   "source": [
    "df.describe()"
   ]
  },
  {
   "cell_type": "code",
   "execution_count": null,
   "metadata": {},
   "outputs": [],
   "source": []
  },
  {
   "cell_type": "markdown",
   "metadata": {},
   "source": [
    "### package_type"
   ]
  },
  {
   "cell_type": "code",
   "execution_count": 5,
   "metadata": {},
   "outputs": [
    {
     "data": {
      "text/plain": [
       "base        111464\n",
       "enhanced     63241\n",
       "economy      17349\n",
       "Name: package_type, dtype: int64"
      ]
     },
     "execution_count": 5,
     "metadata": {},
     "output_type": "execute_result"
    }
   ],
   "source": [
    "df['package_type'].value_counts()"
   ]
  },
  {
   "cell_type": "code",
   "execution_count": 6,
   "metadata": {},
   "outputs": [
    {
     "data": {
      "text/plain": [
       "<BarContainer object of 3 artists>"
      ]
     },
     "execution_count": 6,
     "metadata": {},
     "output_type": "execute_result"
    },
    {
     "data": {
      "image/png": "[encoded data removed]",
      "text/plain": [
       "<Figure size 432x288 with 1 Axes>"
      ]
     },
     "metadata": {
      "needs_background": "light"
     },
     "output_type": "display_data"
    }
   ],
   "source": [
    "package_type_dict = dict(df['package_type'].value_counts())\n",
    "plt.bar(package_type_dict.keys(), package_type_dict.values())"
   ]
  },
  {
   "cell_type": "code",
   "execution_count": null,
   "metadata": {},
   "outputs": [],
   "source": []
  },
  {
   "cell_type": "markdown",
   "metadata": {},
   "source": [
    "### num_weekly_services_utilized"
   ]
  },
  {
   "cell_type": "code",
   "execution_count": 7,
   "metadata": {},
   "outputs": [
    {
     "data": {
      "text/plain": [
       "3.0     63944\n",
       "2.0     29773\n",
       "4.0     17323\n",
       "5.0      5033\n",
       "6.0       904\n",
       "7.0       138\n",
       "1.0        24\n",
       "8.0        22\n",
       "9.0        11\n",
       "10.0        3\n",
       "0.0         2\n",
       "14.0        1\n",
       "Name: num_weekly_services_utilized, dtype: int64"
      ]
     },
     "execution_count": 7,
     "metadata": {},
     "output_type": "execute_result"
    }
   ],
   "source": [
    "df['num_weekly_services_utilized'].value_counts()"
   ]
  },
  {
   "cell_type": "code",
   "execution_count": 8,
   "metadata": {},
   "outputs": [
    {
     "data": {
      "text/plain": [
       "<BarContainer object of 12 artists>"
      ]
     },
     "execution_count": 8,
     "metadata": {},
     "output_type": "execute_result"
    },
    {
     "data": {
      "image/png": "[encoded data removed]",
      "text/plain": [
       "<Figure size 432x288 with 1 Axes>"
      ]
     },
     "metadata": {
      "needs_background": "light"
     },
     "output_type": "display_data"
    }
   ],
   "source": [
    "num_weekly_services_utilized_dict = dict(df['num_weekly_services_utilized'].value_counts())\n",
    "plt.bar(num_weekly_services_utilized_dict.keys(), num_weekly_services_utilized_dict.values())"
   ]
  },
  {
   "cell_type": "code",
   "execution_count": 9,
   "metadata": {},
   "outputs": [
    {
     "data": {
      "text/plain": [
       "count    117178.000000\n",
       "mean          3.008824\n",
       "std           0.820526\n",
       "min           0.000000\n",
       "25%           2.000000\n",
       "50%           3.000000\n",
       "75%           3.000000\n",
       "max          14.000000\n",
       "Name: num_weekly_services_utilized, dtype: float64"
      ]
     },
     "execution_count": 9,
     "metadata": {},
     "output_type": "execute_result"
    }
   ],
   "source": [
    "df.describe()['num_weekly_services_utilized']"
   ]
  },
  {
   "cell_type": "code",
   "execution_count": 10,
   "metadata": {},
   "outputs": [
    {
     "data": {
      "text/plain": [
       "{'whiskers': [<matplotlib.lines.Line2D at 0x1194f86a0>,\n",
       "  <matplotlib.lines.Line2D at 0x1194f8a00>],\n",
       " 'caps': [<matplotlib.lines.Line2D at 0x1195050a0>,\n",
       "  <matplotlib.lines.Line2D at 0x1195053d0>],\n",
       " 'boxes': [<matplotlib.lines.Line2D at 0x1194f8670>],\n",
       " 'medians': [<matplotlib.lines.Line2D at 0x119505700>],\n",
       " 'fliers': [<matplotlib.lines.Line2D at 0x1194f8610>],\n",
       " 'means': []}"
      ]
     },
     "execution_count": 10,
     "metadata": {},
     "output_type": "execute_result"
    },
    {
     "data": {
      "image/png": "[encoded data removed]",
      "text/plain": [
       "<Figure size 432x288 with 1 Axes>"
      ]
     },
     "metadata": {
      "needs_background": "light"
     },
     "output_type": "display_data"
    }
   ],
   "source": [
    "plt.boxplot(list(df['num_weekly_services_utilized'].dropna()))"
   ]
  },
  {
   "cell_type": "code",
   "execution_count": null,
   "metadata": {},
   "outputs": [],
   "source": []
  },
  {
   "cell_type": "markdown",
   "metadata": {},
   "source": [
    "### preferred_genre"
   ]
  },
  {
   "cell_type": "code",
   "execution_count": 11,
   "metadata": {},
   "outputs": [
    {
     "data": {
      "text/plain": [
       "comedy           125129\n",
       "drama             46872\n",
       "regional           8990\n",
       "international      6404\n",
       "other              3907\n",
       "Name: preferred_genre, dtype: int64"
      ]
     },
     "execution_count": 11,
     "metadata": {},
     "output_type": "execute_result"
    }
   ],
   "source": [
    "df['preferred_genre'].value_counts()"
   ]
  },
  {
   "cell_type": "code",
   "execution_count": 12,
   "metadata": {},
   "outputs": [
    {
     "data": {
      "text/plain": [
       "<BarContainer object of 5 artists>"
      ]
     },
     "execution_count": 12,
     "metadata": {},
     "output_type": "execute_result"
    },
    {
     "data": {
      "image/png": "[encoded data removed]",
      "text/plain": [
       "<Figure size 432x288 with 1 Axes>"
      ]
     },
     "metadata": {
      "needs_background": "light"
     },
     "output_type": "display_data"
    }
   ],
   "source": [
    "preferred_genre_dict = dict(df['preferred_genre'].value_counts())\n",
    "plt.bar(preferred_genre_dict.keys(), preferred_genre_dict.values())"
   ]
  },
  {
   "cell_type": "code",
   "execution_count": null,
   "metadata": {},
   "outputs": [],
   "source": []
  },
  {
   "cell_type": "markdown",
   "metadata": {},
   "source": [
    "### intended_use"
   ]
  },
  {
   "cell_type": "code",
   "execution_count": 13,
   "metadata": {},
   "outputs": [
    {
     "data": {
      "text/plain": [
       "access to exclusive content    89039\n",
       "replace OTT                    69185\n",
       "supplement OTT                 26603\n",
       "expand regional access         14025\n",
       "expand international access    12978\n",
       "other                           7112\n",
       "education                       5137\n",
       "Name: intended_use, dtype: int64"
      ]
     },
     "execution_count": 13,
     "metadata": {},
     "output_type": "execute_result"
    }
   ],
   "source": [
    "df['intended_use'].value_counts()"
   ]
  },
  {
   "cell_type": "code",
   "execution_count": 14,
   "metadata": {},
   "outputs": [
    {
     "data": {
      "image/png": "[encoded data removed]",
      "text/plain": [
       "<Figure size 432x288 with 1 Axes>"
      ]
     },
     "metadata": {
      "needs_background": "light"
     },
     "output_type": "display_data"
    }
   ],
   "source": [
    "intended_use_dict = dict(df['intended_use'].value_counts())\n",
    "plt.bar(intended_use_dict.keys(), intended_use_dict.values())\n",
    "plt.xticks(rotation=85)\n",
    "plt.show()"
   ]
  },
  {
   "cell_type": "code",
   "execution_count": null,
   "metadata": {},
   "outputs": [],
   "source": []
  },
  {
   "cell_type": "markdown",
   "metadata": {},
   "source": [
    "### weekly_consumption_hour"
   ]
  },
  {
   "cell_type": "code",
   "execution_count": 15,
   "metadata": {},
   "outputs": [
    {
     "data": {
      "text/plain": [
       " 25.851492    25990\n",
       " 28.751405    22947\n",
       " 27.301448    22551\n",
       " 24.401536    19968\n",
       " 30.201361    18366\n",
       "              ...  \n",
       " 24.592878        1\n",
       " 21.097855        1\n",
       " 26.771789        1\n",
       " 73.700050        1\n",
       "-23.447022        1\n",
       "Name: weekly_consumption_hour, Length: 81, dtype: int64"
      ]
     },
     "execution_count": 15,
     "metadata": {},
     "output_type": "execute_result"
    }
   ],
   "source": [
    "df['weekly_consumption_hour'].value_counts()"
   ]
  },
  {
   "cell_type": "code",
   "execution_count": 16,
   "metadata": {},
   "outputs": [
    {
     "data": {
      "text/plain": [
       "<BarContainer object of 81 artists>"
      ]
     },
     "execution_count": 16,
     "metadata": {},
     "output_type": "execute_result"
    },
    {
     "data": {
      "image/png": "[encoded data removed]",
      "text/plain": [
       "<Figure size 432x288 with 1 Axes>"
      ]
     },
     "metadata": {
      "needs_background": "light"
     },
     "output_type": "display_data"
    }
   ],
   "source": [
    "weekly_consumption_hour_dict = dict(df['weekly_consumption_hour'].value_counts())\n",
    "plt.bar(weekly_consumption_hour_dict.keys(), weekly_consumption_hour_dict.values())"
   ]
  },
  {
   "cell_type": "code",
   "execution_count": 17,
   "metadata": {},
   "outputs": [
    {
     "data": {
      "text/plain": [
       "count    189698.000000\n",
       "mean         27.997724\n",
       "std           4.976341\n",
       "min         -32.146760\n",
       "25%          24.401536\n",
       "50%          27.301448\n",
       "75%          30.201361\n",
       "max          76.599962\n",
       "Name: weekly_consumption_hour, dtype: float64"
      ]
     },
     "execution_count": 17,
     "metadata": {},
     "output_type": "execute_result"
    }
   ],
   "source": [
    "df.describe()['weekly_consumption_hour']"
   ]
  },
  {
   "cell_type": "code",
   "execution_count": 18,
   "metadata": {},
   "outputs": [
    {
     "data": {
      "text/plain": [
       "{'whiskers': [<matplotlib.lines.Line2D at 0x118a02a00>,\n",
       "  <matplotlib.lines.Line2D at 0x118a02430>],\n",
       " 'caps': [<matplotlib.lines.Line2D at 0x118a026a0>,\n",
       "  <matplotlib.lines.Line2D at 0x118a02c10>],\n",
       " 'boxes': [<matplotlib.lines.Line2D at 0x118a26760>],\n",
       " 'medians': [<matplotlib.lines.Line2D at 0x1194bc3a0>],\n",
       " 'fliers': [<matplotlib.lines.Line2D at 0x118a267c0>],\n",
       " 'means': []}"
      ]
     },
     "execution_count": 18,
     "metadata": {},
     "output_type": "execute_result"
    },
    {
     "data": {
      "image/png": "[encoded data removed]",
      "text/plain": [
       "<Figure size 432x288 with 1 Axes>"
      ]
     },
     "metadata": {
      "needs_background": "light"
     },
     "output_type": "display_data"
    }
   ],
   "source": [
    "plt.boxplot(list(df['weekly_consumption_hour'].dropna()))"
   ]
  },
  {
   "cell_type": "code",
   "execution_count": null,
   "metadata": {},
   "outputs": [],
   "source": []
  },
  {
   "cell_type": "markdown",
   "metadata": {},
   "source": [
    "### num_ideal_streaming_services"
   ]
  },
  {
   "cell_type": "code",
   "execution_count": 19,
   "metadata": {},
   "outputs": [
    {
     "data": {
      "text/plain": [
       " 2.0    108245\n",
       " 3.0      7072\n",
       " 1.0        89\n",
       " 4.0        42\n",
       " 5.0         4\n",
       " 0.0         4\n",
       " 7.0         1\n",
       "-1.0         1\n",
       "Name: num_ideal_streaming_services, dtype: int64"
      ]
     },
     "execution_count": 19,
     "metadata": {},
     "output_type": "execute_result"
    }
   ],
   "source": [
    "df['num_ideal_streaming_services'].value_counts()"
   ]
  },
  {
   "cell_type": "code",
   "execution_count": 20,
   "metadata": {},
   "outputs": [
    {
     "data": {
      "text/plain": [
       "<BarContainer object of 8 artists>"
      ]
     },
     "execution_count": 20,
     "metadata": {},
     "output_type": "execute_result"
    },
    {
     "data": {
      "image/png": "[encoded data removed]",
      "text/plain": [
       "<Figure size 432x288 with 1 Axes>"
      ]
     },
     "metadata": {
      "needs_background": "light"
     },
     "output_type": "display_data"
    }
   ],
   "source": [
    "num_ideal_streaming_services_dict = dict(df['num_ideal_streaming_services'].value_counts())\n",
    "plt.bar(num_ideal_streaming_services_dict.keys(), num_ideal_streaming_services_dict.values())"
   ]
  },
  {
   "cell_type": "code",
   "execution_count": 21,
   "metadata": {},
   "outputs": [
    {
     "data": {
      "text/plain": [
       "count    115458.000000\n",
       "mean          2.061260\n",
       "std           0.245907\n",
       "min          -1.000000\n",
       "25%           2.000000\n",
       "50%           2.000000\n",
       "75%           2.000000\n",
       "max           7.000000\n",
       "Name: num_ideal_streaming_services, dtype: float64"
      ]
     },
     "execution_count": 21,
     "metadata": {},
     "output_type": "execute_result"
    }
   ],
   "source": [
    "df.describe()['num_ideal_streaming_services']"
   ]
  },
  {
   "cell_type": "code",
   "execution_count": 22,
   "metadata": {},
   "outputs": [
    {
     "data": {
      "text/plain": [
       "{'whiskers': [<matplotlib.lines.Line2D at 0x11954d220>,\n",
       "  <matplotlib.lines.Line2D at 0x11954d550>],\n",
       " 'caps': [<matplotlib.lines.Line2D at 0x11954d880>,\n",
       "  <matplotlib.lines.Line2D at 0x11954dbb0>],\n",
       " 'boxes': [<matplotlib.lines.Line2D at 0x11953ee50>],\n",
       " 'medians': [<matplotlib.lines.Line2D at 0x11954dee0>],\n",
       " 'fliers': [<matplotlib.lines.Line2D at 0x11953edf0>],\n",
       " 'means': []}"
      ]
     },
     "execution_count": 22,
     "metadata": {},
     "output_type": "execute_result"
    },
    {
     "data": {
      "image/png": "[encoded data removed]",
      "text/plain": [
       "<Figure size 432x288 with 1 Axes>"
      ]
     },
     "metadata": {
      "needs_background": "light"
     },
     "output_type": "display_data"
    }
   ],
   "source": [
    "plt.boxplot(list(df['num_ideal_streaming_services'].dropna()))"
   ]
  },
  {
   "cell_type": "code",
   "execution_count": null,
   "metadata": {},
   "outputs": [],
   "source": []
  },
  {
   "cell_type": "markdown",
   "metadata": {},
   "source": [
    "### retarget_TF"
   ]
  },
  {
   "cell_type": "code",
   "execution_count": 23,
   "metadata": {},
   "outputs": [
    {
     "data": {
      "text/plain": [
       "False    219825\n",
       "True       7803\n",
       "Name: retarget_TF, dtype: int64"
      ]
     },
     "execution_count": 23,
     "metadata": {},
     "output_type": "execute_result"
    }
   ],
   "source": [
    "df['retarget_TF'].value_counts()"
   ]
  },
  {
   "cell_type": "code",
   "execution_count": 24,
   "metadata": {},
   "outputs": [
    {
     "data": {
      "text/plain": [
       "Text(0.5, 1.0, 'retarget')"
      ]
     },
     "execution_count": 24,
     "metadata": {},
     "output_type": "execute_result"
    },
    {
     "data": {
      "image/png": "[encoded data removed]",
      "text/plain": [
       "<Figure size 432x288 with 1 Axes>"
      ]
     },
     "metadata": {
      "needs_background": "light"
     },
     "output_type": "display_data"
    }
   ],
   "source": [
    "retarget_TF_dict = dict(df['retarget_TF'].value_counts())\n",
    "plt.bar(['False', 'True'], retarget_TF_dict.values())\n",
    "plt.title('retarget')"
   ]
  },
  {
   "cell_type": "code",
   "execution_count": null,
   "metadata": {},
   "outputs": [],
   "source": []
  },
  {
   "cell_type": "markdown",
   "metadata": {},
   "source": [
    "### age"
   ]
  },
  {
   "cell_type": "code",
   "execution_count": 25,
   "metadata": {},
   "outputs": [
    {
     "data": {
      "text/plain": [
       "5.000000e+01    6355\n",
       "4.000000e+01    5509\n",
       "6.000000e+01    5221\n",
       "4.800000e+01    4651\n",
       "4.700000e+01    4517\n",
       "                ... \n",
       "4.833678e+01       1\n",
       "2.200000e+02       1\n",
       "6.690000e+02       1\n",
       "4.620000e+02       1\n",
       "1.102200e+07       1\n",
       "Name: age, Length: 278, dtype: int64"
      ]
     },
     "execution_count": 25,
     "metadata": {},
     "output_type": "execute_result"
    }
   ],
   "source": [
    "df['age'].value_counts()"
   ]
  },
  {
   "cell_type": "code",
   "execution_count": 26,
   "metadata": {},
   "outputs": [],
   "source": [
    "#age_dict = dict(df['age'].value_counts())\n",
    "#plt.bar(age_dict.keys(), age_dict.values())"
   ]
  },
  {
   "cell_type": "code",
   "execution_count": 27,
   "metadata": {},
   "outputs": [
    {
     "data": {
      "text/plain": [
       "<BarContainer object of 49 artists>"
      ]
     },
     "execution_count": 27,
     "metadata": {},
     "output_type": "execute_result"
    },
    {
     "data": {
      "image/png": "[encoded data removed]",
      "text/plain": [
       "<Figure size 432x288 with 1 Axes>"
      ]
     },
     "metadata": {
      "needs_background": "light"
     },
     "output_type": "display_data"
    }
   ],
   "source": [
    "age_dict = dict(df['age'].value_counts()[:20])\n",
    "plt.bar(age_dict.keys(), age_dict.values())"
   ]
  },
  {
   "cell_type": "code",
   "execution_count": 28,
   "metadata": {},
   "outputs": [
    {
     "data": {
      "text/plain": [
       "count    1.924590e+05\n",
       "mean     7.579755e+02\n",
       "std      1.920204e+05\n",
       "min      0.000000e+00\n",
       "25%      3.500000e+01\n",
       "50%      4.600000e+01\n",
       "75%      5.700000e+01\n",
       "max      8.172000e+07\n",
       "Name: age, dtype: float64"
      ]
     },
     "execution_count": 28,
     "metadata": {},
     "output_type": "execute_result"
    }
   ],
   "source": [
    "df.describe()['age']"
   ]
  },
  {
   "cell_type": "code",
   "execution_count": 29,
   "metadata": {},
   "outputs": [
    {
     "data": {
      "text/plain": [
       "{'whiskers': [<matplotlib.lines.Line2D at 0x11a1d43a0>,\n",
       "  <matplotlib.lines.Line2D at 0x11a1d46d0>],\n",
       " 'caps': [<matplotlib.lines.Line2D at 0x11a1d4a00>,\n",
       "  <matplotlib.lines.Line2D at 0x11a1d4d30>],\n",
       " 'boxes': [<matplotlib.lines.Line2D at 0x11a1d4040>],\n",
       " 'medians': [<matplotlib.lines.Line2D at 0x11a1dd0a0>],\n",
       " 'fliers': [<matplotlib.lines.Line2D at 0x11a1c5f70>],\n",
       " 'means': []}"
      ]
     },
     "execution_count": 29,
     "metadata": {},
     "output_type": "execute_result"
    },
    {
     "data": {
      "image/png": "[encoded data removed]",
      "text/plain": [
       "<Figure size 432x288 with 1 Axes>"
      ]
     },
     "metadata": {
      "needs_background": "light"
     },
     "output_type": "display_data"
    }
   ],
   "source": [
    "plt.boxplot(list(df['age'].dropna()))"
   ]
  },
  {
   "cell_type": "code",
   "execution_count": 30,
   "metadata": {},
   "outputs": [
    {
     "data": {
      "text/plain": [
       "{'whiskers': [<matplotlib.lines.Line2D at 0x11a197a00>,\n",
       "  <matplotlib.lines.Line2D at 0x11a1a50d0>],\n",
       " 'caps': [<matplotlib.lines.Line2D at 0x11a1a5400>,\n",
       "  <matplotlib.lines.Line2D at 0x11a1a5730>],\n",
       " 'boxes': [<matplotlib.lines.Line2D at 0x11a1979d0>],\n",
       " 'medians': [<matplotlib.lines.Line2D at 0x11a1a5a60>],\n",
       " 'fliers': [<matplotlib.lines.Line2D at 0x11a197970>],\n",
       " 'means': []}"
      ]
     },
     "execution_count": 30,
     "metadata": {},
     "output_type": "execute_result"
    },
    {
     "data": {
      "image/png": "[encoded data removed]",
      "text/plain": [
       "<Figure size 432x288 with 1 Axes>"
      ]
     },
     "metadata": {
      "needs_background": "light"
     },
     "output_type": "display_data"
    }
   ],
   "source": [
    "plt.boxplot(list(df['age'].dropna())[:50])"
   ]
  },
  {
   "cell_type": "code",
   "execution_count": null,
   "metadata": {},
   "outputs": [],
   "source": []
  },
  {
   "cell_type": "markdown",
   "metadata": {},
   "source": [
    "### male_TF"
   ]
  },
  {
   "cell_type": "code",
   "execution_count": 31,
   "metadata": {},
   "outputs": [
    {
     "data": {
      "text/plain": [
       "False    200902\n",
       "True      26457\n",
       "Name: male_TF, dtype: int64"
      ]
     },
     "execution_count": 31,
     "metadata": {},
     "output_type": "execute_result"
    }
   ],
   "source": [
    "df['male_TF'].value_counts()"
   ]
  },
  {
   "cell_type": "code",
   "execution_count": 32,
   "metadata": {},
   "outputs": [
    {
     "data": {
      "text/plain": [
       "Text(0.5, 1.0, 'Gender')"
      ]
     },
     "execution_count": 32,
     "metadata": {},
     "output_type": "execute_result"
    },
    {
     "data": {
      "image/png": "[encoded data removed]",
      "text/plain": [
       "<Figure size 432x288 with 1 Axes>"
      ]
     },
     "metadata": {
      "needs_background": "light"
     },
     "output_type": "display_data"
    }
   ],
   "source": [
    "male_TF_dict = dict(df['male_TF'].value_counts())\n",
    "plt.bar(['Female', 'Male'], male_TF_dict.values())\n",
    "plt.title('Gender')"
   ]
  },
  {
   "cell_type": "code",
   "execution_count": null,
   "metadata": {},
   "outputs": [],
   "source": []
  },
  {
   "cell_type": "markdown",
   "metadata": {},
   "source": [
    "### country"
   ]
  },
  {
   "cell_type": "code",
   "execution_count": 33,
   "metadata": {},
   "outputs": [
    {
     "data": {
      "text/plain": [
       "UAE    227628\n",
       "Name: country, dtype: int64"
      ]
     },
     "execution_count": 33,
     "metadata": {},
     "output_type": "execute_result"
    }
   ],
   "source": [
    "df['country'].value_counts()"
   ]
  },
  {
   "cell_type": "markdown",
   "metadata": {},
   "source": [
    "**All users are from UAE.**"
   ]
  },
  {
   "cell_type": "code",
   "execution_count": null,
   "metadata": {},
   "outputs": [],
   "source": []
  },
  {
   "cell_type": "markdown",
   "metadata": {},
   "source": [
    "### attribution_technical"
   ]
  },
  {
   "cell_type": "code",
   "execution_count": 34,
   "metadata": {},
   "outputs": [
    {
     "data": {
      "text/plain": [
       "facebook                   80251\n",
       "email                      25690\n",
       "search                     25306\n",
       "organic                    22013\n",
       "brand sem intent google    18524\n",
       "google_organic             10691\n",
       "affiliate                   9894\n",
       "email_blast                 7277\n",
       "pinterest                   6065\n",
       "referral                    5170\n",
       "facebook_organic            3272\n",
       "discovery                   2571\n",
       "brand sem intent bing       2231\n",
       "other                       1786\n",
       "display                     1407\n",
       "bing                        1146\n",
       "internal                    1122\n",
       "podcast                      985\n",
       "youtube                      913\n",
       "bing_organic                 369\n",
       "vod                          297\n",
       "ott                          158\n",
       "direct_mail                  139\n",
       "quora                        100\n",
       "samsung                       86\n",
       "criteo                        44\n",
       "appstore                      44\n",
       "pinterest_organic             30\n",
       "influencer                    21\n",
       "playstore                     12\n",
       "twitter                        5\n",
       "content_greatist               5\n",
       "tv                             4\n",
       "Name: attribution_technical, dtype: int64"
      ]
     },
     "execution_count": 34,
     "metadata": {},
     "output_type": "execute_result"
    }
   ],
   "source": [
    "df['attribution_technical'].value_counts()"
   ]
  },
  {
   "cell_type": "code",
   "execution_count": 35,
   "metadata": {},
   "outputs": [
    {
     "data": {
      "image/png": "[encoded data removed]",
      "text/plain": [
       "<Figure size 432x288 with 1 Axes>"
      ]
     },
     "metadata": {
      "needs_background": "light"
     },
     "output_type": "display_data"
    }
   ],
   "source": [
    "attribution_technical_dict = dict(df['attribution_technical'].value_counts())\n",
    "plt.bar(attribution_technical_dict.keys(), attribution_technical_dict.values())\n",
    "plt.xticks(rotation=90)\n",
    "plt.show()"
   ]
  },
  {
   "cell_type": "code",
   "execution_count": 36,
   "metadata": {},
   "outputs": [
    {
     "data": {
      "image/png": "[encoded data removed]",
      "text/plain": [
       "<Figure size 432x288 with 1 Axes>"
      ]
     },
     "metadata": {
      "needs_background": "light"
     },
     "output_type": "display_data"
    }
   ],
   "source": [
    "attribution_technical_dict = dict(df['attribution_technical'].value_counts())\n",
    "plt.bar(attribution_technical_dict.keys(), np.log(list(attribution_technical_dict.values())))\n",
    "plt.xticks(rotation=90)\n",
    "plt.show()"
   ]
  },
  {
   "cell_type": "code",
   "execution_count": null,
   "metadata": {},
   "outputs": [],
   "source": []
  },
  {
   "cell_type": "markdown",
   "metadata": {},
   "source": [
    "### attribution_survey"
   ]
  },
  {
   "cell_type": "code",
   "execution_count": 37,
   "metadata": {},
   "outputs": [
    {
     "data": {
      "text/plain": [
       "facebook            119126\n",
       "tv                   39904\n",
       "referral             20882\n",
       "search                8492\n",
       "pinterest             7856\n",
       "other                 6496\n",
       "public_radio          6219\n",
       "social_organic        3869\n",
       "youtube               3108\n",
       "podcast               2995\n",
       "affiliate             1962\n",
       "ott                   1443\n",
       "sirius xm             1122\n",
       "facebook_organic       765\n",
       "direct_mail            408\n",
       "amfm_radio             337\n",
       "Name: attribution_survey, dtype: int64"
      ]
     },
     "execution_count": 37,
     "metadata": {},
     "output_type": "execute_result"
    }
   ],
   "source": [
    "df['attribution_survey'].value_counts()"
   ]
  },
  {
   "cell_type": "code",
   "execution_count": 38,
   "metadata": {},
   "outputs": [
    {
     "data": {
      "image/png": "[encoded data removed]",
      "text/plain": [
       "<Figure size 432x288 with 1 Axes>"
      ]
     },
     "metadata": {
      "needs_background": "light"
     },
     "output_type": "display_data"
    }
   ],
   "source": [
    "attribution_survey_dict = dict(df['attribution_survey'].value_counts())\n",
    "plt.bar(attribution_survey_dict.keys(), attribution_survey_dict.values())\n",
    "plt.xticks(rotation=90)\n",
    "plt.show()"
   ]
  },
  {
   "cell_type": "code",
   "execution_count": 39,
   "metadata": {},
   "outputs": [
    {
     "data": {
      "image/png": "[encoded data removed]",
      "text/plain": [
       "<Figure size 432x288 with 1 Axes>"
      ]
     },
     "metadata": {
      "needs_background": "light"
     },
     "output_type": "display_data"
    }
   ],
   "source": [
    "attribution_survey_dict = dict(df['attribution_survey'].value_counts())\n",
    "plt.bar(attribution_survey_dict.keys(), np.log(list(attribution_survey_dict.values())))\n",
    "plt.xticks(rotation=90)\n",
    "plt.show()"
   ]
  },
  {
   "cell_type": "code",
   "execution_count": null,
   "metadata": {},
   "outputs": [],
   "source": []
  },
  {
   "cell_type": "markdown",
   "metadata": {},
   "source": [
    "### op_sys"
   ]
  },
  {
   "cell_type": "code",
   "execution_count": 40,
   "metadata": {},
   "outputs": [
    {
     "data": {
      "text/plain": [
       "iOS        143921\n",
       "Android     70332\n",
       "Name: op_sys, dtype: int64"
      ]
     },
     "execution_count": 40,
     "metadata": {},
     "output_type": "execute_result"
    }
   ],
   "source": [
    "df['op_sys'].value_counts()"
   ]
  },
  {
   "cell_type": "code",
   "execution_count": 41,
   "metadata": {},
   "outputs": [
    {
     "data": {
      "text/plain": [
       "<BarContainer object of 2 artists>"
      ]
     },
     "execution_count": 41,
     "metadata": {},
     "output_type": "execute_result"
    },
    {
     "data": {
      "image/png": "[encoded data removed]",
      "text/plain": [
       "<Figure size 432x288 with 1 Axes>"
      ]
     },
     "metadata": {
      "needs_background": "light"
     },
     "output_type": "display_data"
    }
   ],
   "source": [
    "op_sys_dict = dict(df['op_sys'].value_counts())\n",
    "plt.bar(op_sys_dict.keys(), op_sys_dict.values())"
   ]
  },
  {
   "cell_type": "code",
   "execution_count": null,
   "metadata": {},
   "outputs": [],
   "source": []
  },
  {
   "cell_type": "markdown",
   "metadata": {},
   "source": [
    "### months_per_bill_period"
   ]
  },
  {
   "cell_type": "code",
   "execution_count": 42,
   "metadata": {},
   "outputs": [
    {
     "data": {
      "text/plain": [
       "4    227628\n",
       "Name: months_per_bill_period, dtype: int64"
      ]
     },
     "execution_count": 42,
     "metadata": {},
     "output_type": "execute_result"
    }
   ],
   "source": [
    "df['months_per_bill_period'].value_counts()"
   ]
  },
  {
   "cell_type": "markdown",
   "metadata": {},
   "source": [
    "**All users have 4 months_per_bill_period.**"
   ]
  },
  {
   "cell_type": "code",
   "execution_count": null,
   "metadata": {},
   "outputs": [],
   "source": []
  },
  {
   "cell_type": "markdown",
   "metadata": {},
   "source": [
    "### plan_type"
   ]
  },
  {
   "cell_type": "code",
   "execution_count": 43,
   "metadata": {},
   "outputs": [
    {
     "data": {
      "text/plain": [
       "base_uae_14_day_trial                227096\n",
       "high_uae_14_day_trial                   325\n",
       "low_uae_no_trial                        167\n",
       "base_eur_14_day_trial                    18\n",
       "high_sar_14_day_trial                    12\n",
       "low_gbp_14_day_trial                      4\n",
       "high_aud_14_day_trial                     2\n",
       "low_sar_no_trial                          1\n",
       "high_jpy_14_day_trial                     1\n",
       "low_eur_no_trial                          1\n",
       "base_uae_no_trial_7_day_guarantee         1\n",
       "Name: plan_type, dtype: int64"
      ]
     },
     "execution_count": 43,
     "metadata": {},
     "output_type": "execute_result"
    }
   ],
   "source": [
    "df['plan_type'].value_counts()"
   ]
  },
  {
   "cell_type": "code",
   "execution_count": 44,
   "metadata": {},
   "outputs": [
    {
     "data": {
      "image/png": "[encoded data removed]",
      "text/plain": [
       "<Figure size 432x288 with 1 Axes>"
      ]
     },
     "metadata": {
      "needs_background": "light"
     },
     "output_type": "display_data"
    }
   ],
   "source": [
    "plan_type_dict = dict(df['plan_type'].value_counts())\n",
    "plt.bar(plan_type_dict.keys(), plan_type_dict.values())\n",
    "plt.xticks(rotation=90)\n",
    "plt.show()"
   ]
  },
  {
   "cell_type": "code",
   "execution_count": 45,
   "metadata": {},
   "outputs": [
    {
     "data": {
      "image/png": "[encoded data removed]",
      "text/plain": [
       "<Figure size 432x288 with 1 Axes>"
      ]
     },
     "metadata": {
      "needs_background": "light"
     },
     "output_type": "display_data"
    }
   ],
   "source": [
    "plan_type_dict = dict(df['plan_type'].value_counts())\n",
    "plt.bar(plan_type_dict.keys(), np.log(list(plan_type_dict.values())))\n",
    "plt.xticks(rotation=90)\n",
    "plt.show()"
   ]
  },
  {
   "cell_type": "code",
   "execution_count": null,
   "metadata": {},
   "outputs": [],
   "source": []
  },
  {
   "cell_type": "markdown",
   "metadata": {},
   "source": [
    "### monthly_price"
   ]
  },
  {
   "cell_type": "code",
   "execution_count": 46,
   "metadata": {},
   "outputs": [
    {
     "data": {
      "text/plain": [
       "4.7343    227101\n",
       "5.1013       325\n",
       "1.0643       167\n",
       "4.4407        18\n",
       "4.3673        12\n",
       "4.0003         2\n",
       "1.1744         1\n",
       "0.8074         1\n",
       "4.6976         1\n",
       "Name: monthly_price, dtype: int64"
      ]
     },
     "execution_count": 46,
     "metadata": {},
     "output_type": "execute_result"
    }
   ],
   "source": [
    "df['monthly_price'].value_counts()"
   ]
  },
  {
   "cell_type": "code",
   "execution_count": 47,
   "metadata": {},
   "outputs": [
    {
     "data": {
      "text/plain": [
       "<BarContainer object of 9 artists>"
      ]
     },
     "execution_count": 47,
     "metadata": {},
     "output_type": "execute_result"
    },
    {
     "data": {
      "image/png": "[encoded data removed]",
      "text/plain": [
       "<Figure size 432x288 with 1 Axes>"
      ]
     },
     "metadata": {
      "needs_background": "light"
     },
     "output_type": "display_data"
    }
   ],
   "source": [
    "monthly_price_dict = dict(df['monthly_price'].value_counts())\n",
    "plt.bar(monthly_price_dict.keys(), monthly_price_dict.values())"
   ]
  },
  {
   "cell_type": "code",
   "execution_count": 48,
   "metadata": {},
   "outputs": [
    {
     "data": {
      "text/plain": [
       "<BarContainer object of 9 artists>"
      ]
     },
     "execution_count": 48,
     "metadata": {},
     "output_type": "execute_result"
    },
    {
     "data": {
      "image/png": "[encoded data removed]",
      "text/plain": [
       "<Figure size 432x288 with 1 Axes>"
      ]
     },
     "metadata": {
      "needs_background": "light"
     },
     "output_type": "display_data"
    }
   ],
   "source": [
    "monthly_price_dict = dict(df['monthly_price'].value_counts())\n",
    "plt.bar(monthly_price_dict.keys(), np.log(list(monthly_price_dict.values())))"
   ]
  },
  {
   "cell_type": "code",
   "execution_count": 49,
   "metadata": {},
   "outputs": [
    {
     "data": {
      "text/plain": [
       "{'whiskers': [<matplotlib.lines.Line2D at 0x11a7900d0>,\n",
       "  <matplotlib.lines.Line2D at 0x11a790400>],\n",
       " 'caps': [<matplotlib.lines.Line2D at 0x11a790730>,\n",
       "  <matplotlib.lines.Line2D at 0x11a790a60>],\n",
       " 'boxes': [<matplotlib.lines.Line2D at 0x11a781d00>],\n",
       " 'medians': [<matplotlib.lines.Line2D at 0x11a790d90>],\n",
       " 'fliers': [<matplotlib.lines.Line2D at 0x11a781ca0>],\n",
       " 'means': []}"
      ]
     },
     "execution_count": 49,
     "metadata": {},
     "output_type": "execute_result"
    },
    {
     "data": {
      "image/png": "[encoded data removed]",
      "text/plain": [
       "<Figure size 432x288 with 1 Axes>"
      ]
     },
     "metadata": {
      "needs_background": "light"
     },
     "output_type": "display_data"
    }
   ],
   "source": [
    "plt.boxplot(list(df['monthly_price'].dropna()))"
   ]
  },
  {
   "cell_type": "code",
   "execution_count": null,
   "metadata": {},
   "outputs": [],
   "source": []
  },
  {
   "cell_type": "markdown",
   "metadata": {},
   "source": [
    "### discount_price"
   ]
  },
  {
   "cell_type": "code",
   "execution_count": 50,
   "metadata": {},
   "outputs": [
    {
     "data": {
      "text/plain": [
       "4.5141    227096\n",
       "5.0279       325\n",
       "1.0276       167\n",
       "4.2205        18\n",
       "4.0737        12\n",
       "4.3673         4\n",
       "4.4407         2\n",
       "3.7801         2\n",
       "1.1744         1\n",
       "0.7707         1\n",
       "Name: discount_price, dtype: int64"
      ]
     },
     "execution_count": 50,
     "metadata": {},
     "output_type": "execute_result"
    }
   ],
   "source": [
    "df['discount_price'].value_counts()"
   ]
  },
  {
   "cell_type": "code",
   "execution_count": 51,
   "metadata": {},
   "outputs": [
    {
     "data": {
      "text/plain": [
       "<BarContainer object of 10 artists>"
      ]
     },
     "execution_count": 51,
     "metadata": {},
     "output_type": "execute_result"
    },
    {
     "data": {
      "image/png": "[encoded data removed]",
      "text/plain": [
       "<Figure size 432x288 with 1 Axes>"
      ]
     },
     "metadata": {
      "needs_background": "light"
     },
     "output_type": "display_data"
    }
   ],
   "source": [
    "discount_price_dict = dict(df['discount_price'].value_counts())\n",
    "plt.bar(discount_price_dict.keys(), discount_price_dict.values())"
   ]
  },
  {
   "cell_type": "code",
   "execution_count": 52,
   "metadata": {},
   "outputs": [
    {
     "data": {
      "text/plain": [
       "<BarContainer object of 10 artists>"
      ]
     },
     "execution_count": 52,
     "metadata": {},
     "output_type": "execute_result"
    },
    {
     "data": {
      "image/png": "[encoded data removed]",
      "text/plain": [
       "<Figure size 432x288 with 1 Axes>"
      ]
     },
     "metadata": {
      "needs_background": "light"
     },
     "output_type": "display_data"
    }
   ],
   "source": [
    "discount_price_dict = dict(df['discount_price'].value_counts())\n",
    "plt.bar(discount_price_dict.keys(), np.log(list(discount_price_dict.values())))"
   ]
  },
  {
   "cell_type": "code",
   "execution_count": 53,
   "metadata": {},
   "outputs": [
    {
     "data": {
      "text/plain": [
       "{'whiskers': [<matplotlib.lines.Line2D at 0x11a8b21c0>,\n",
       "  <matplotlib.lines.Line2D at 0x11a8b24f0>],\n",
       " 'caps': [<matplotlib.lines.Line2D at 0x11a8b2820>,\n",
       "  <matplotlib.lines.Line2D at 0x11a8b2b50>],\n",
       " 'boxes': [<matplotlib.lines.Line2D at 0x11a8a6df0>],\n",
       " 'medians': [<matplotlib.lines.Line2D at 0x11a8b2e80>],\n",
       " 'fliers': [<matplotlib.lines.Line2D at 0x11a8a6d90>],\n",
       " 'means': []}"
      ]
     },
     "execution_count": 53,
     "metadata": {},
     "output_type": "execute_result"
    },
    {
     "data": {
      "image/png": "[encoded data removed]",
      "text/plain": [
       "<Figure size 432x288 with 1 Axes>"
      ]
     },
     "metadata": {
      "needs_background": "light"
     },
     "output_type": "display_data"
    }
   ],
   "source": [
    "plt.boxplot(list(df['monthly_price'].dropna()))"
   ]
  },
  {
   "cell_type": "markdown",
   "metadata": {},
   "source": [
    "Monthly_price and discount_price has very similar distribution."
   ]
  },
  {
   "cell_type": "code",
   "execution_count": null,
   "metadata": {},
   "outputs": [],
   "source": []
  },
  {
   "cell_type": "markdown",
   "metadata": {},
   "source": [
    "### account_creation_date"
   ]
  },
  {
   "cell_type": "code",
   "execution_count": 54,
   "metadata": {},
   "outputs": [
    {
     "data": {
      "text/plain": [
       "2020-02-29 19:26:26    3\n",
       "2020-02-29 17:58:30    3\n",
       "2019-07-01 01:21:10    3\n",
       "2019-11-30 02:48:10    3\n",
       "2020-03-14 18:22:06    3\n",
       "                      ..\n",
       "2019-08-23 01:32:25    1\n",
       "2019-11-12 13:56:34    1\n",
       "2020-02-18 02:56:30    1\n",
       "2019-09-08 00:44:23    1\n",
       "2019-09-21 21:18:45    1\n",
       "Name: account_creation_date, Length: 226023, dtype: int64"
      ]
     },
     "execution_count": 54,
     "metadata": {},
     "output_type": "execute_result"
    }
   ],
   "source": [
    "df['account_creation_date'].value_counts()"
   ]
  },
  {
   "cell_type": "code",
   "execution_count": 55,
   "metadata": {},
   "outputs": [],
   "source": [
    "#account_creation_date_dict = dict(df['account_creation_date'].value_counts())\n",
    "#plt.bar(account_creation_date_dict.keys(), account_creation_date_dict.values())"
   ]
  },
  {
   "cell_type": "code",
   "execution_count": null,
   "metadata": {},
   "outputs": [],
   "source": []
  },
  {
   "cell_type": "markdown",
   "metadata": {},
   "source": [
    "### creation_until_cancel_days"
   ]
  },
  {
   "cell_type": "code",
   "execution_count": 56,
   "metadata": {},
   "outputs": [
    {
     "data": {
      "text/plain": [
       "0.0      17801\n",
       "1.0      11605\n",
       "13.0      8727\n",
       "2.0       8569\n",
       "12.0      8316\n",
       "         ...  \n",
       "298.0        1\n",
       "193.0        1\n",
       "300.0        1\n",
       "232.0        1\n",
       "279.0        1\n",
       "Name: creation_until_cancel_days, Length: 275, dtype: int64"
      ]
     },
     "execution_count": 56,
     "metadata": {},
     "output_type": "execute_result"
    }
   ],
   "source": [
    "df['creation_until_cancel_days'].value_counts()"
   ]
  },
  {
   "cell_type": "code",
   "execution_count": 76,
   "metadata": {},
   "outputs": [
    {
     "data": {
      "text/plain": [
       "<BarContainer object of 275 artists>"
      ]
     },
     "execution_count": 76,
     "metadata": {},
     "output_type": "execute_result"
    },
    {
     "data": {
      "image/png": "[encoded data removed]",
      "text/plain": [
       "<Figure size 432x288 with 1 Axes>"
      ]
     },
     "metadata": {
      "needs_background": "light"
     },
     "output_type": "display_data"
    }
   ],
   "source": [
    "creation_until_cancel_days_dict = dict(df['creation_until_cancel_days'].value_counts())\n",
    "plt.bar(creation_until_cancel_days_dict.keys(), creation_until_cancel_days_dict.values())"
   ]
  },
  {
   "cell_type": "code",
   "execution_count": 77,
   "metadata": {},
   "outputs": [
    {
     "data": {
      "text/plain": [
       "<BarContainer object of 275 artists>"
      ]
     },
     "execution_count": 77,
     "metadata": {},
     "output_type": "execute_result"
    },
    {
     "data": {
      "image/png": "[encoded data removed]",
      "text/plain": [
       "<Figure size 432x288 with 1 Axes>"
      ]
     },
     "metadata": {
      "needs_background": "light"
     },
     "output_type": "display_data"
    }
   ],
   "source": [
    "creation_until_cancel_days_dict = dict(df['creation_until_cancel_days'].value_counts())\n",
    "plt.bar(creation_until_cancel_days_dict.keys(), np.log(list(creation_until_cancel_days_dict.values())))"
   ]
  },
  {
   "cell_type": "code",
   "execution_count": 75,
   "metadata": {},
   "outputs": [
    {
     "data": {
      "text/plain": [
       "{'whiskers': [<matplotlib.lines.Line2D at 0x1193e4580>,\n",
       "  <matplotlib.lines.Line2D at 0x1193e4280>],\n",
       " 'caps': [<matplotlib.lines.Line2D at 0x1193eb3a0>,\n",
       "  <matplotlib.lines.Line2D at 0x1193eb370>],\n",
       " 'boxes': [<matplotlib.lines.Line2D at 0x1193e42e0>],\n",
       " 'medians': [<matplotlib.lines.Line2D at 0x1193eba00>],\n",
       " 'fliers': [<matplotlib.lines.Line2D at 0x1193e44f0>],\n",
       " 'means': []}"
      ]
     },
     "execution_count": 75,
     "metadata": {},
     "output_type": "execute_result"
    },
    {
     "data": {
      "image/png": "[encoded data removed]",
      "text/plain": [
       "<Figure size 432x288 with 1 Axes>"
      ]
     },
     "metadata": {
      "needs_background": "light"
     },
     "output_type": "display_data"
    }
   ],
   "source": [
    "plt.boxplot(list(df['creation_until_cancel_days'].dropna()))"
   ]
  },
  {
   "cell_type": "code",
   "execution_count": null,
   "metadata": {},
   "outputs": [],
   "source": []
  },
  {
   "cell_type": "markdown",
   "metadata": {},
   "source": [
    "### active_cancel"
   ]
  },
  {
   "cell_type": "code",
   "execution_count": 57,
   "metadata": {},
   "outputs": [
    {
     "data": {
      "text/plain": [
       "False    124071\n",
       "True     103557\n",
       "Name: active_cancel, dtype: int64"
      ]
     },
     "execution_count": 57,
     "metadata": {},
     "output_type": "execute_result"
    }
   ],
   "source": [
    "df['active_cancel'].value_counts()"
   ]
  },
  {
   "cell_type": "code",
   "execution_count": 78,
   "metadata": {},
   "outputs": [
    {
     "data": {
      "text/plain": [
       "Text(0.5, 1.0, 'Active Channel')"
      ]
     },
     "execution_count": 78,
     "metadata": {},
     "output_type": "execute_result"
    },
    {
     "data": {
      "image/png": "[encoded data removed]",
      "text/plain": [
       "<Figure size 432x288 with 1 Axes>"
      ]
     },
     "metadata": {
      "needs_background": "light"
     },
     "output_type": "display_data"
    }
   ],
   "source": [
    "active_cancel_dict = dict(df['active_cancel'].value_counts())\n",
    "plt.bar(['False', 'True'], active_cancel_dict.values())\n",
    "plt.title('Active Channel')"
   ]
  },
  {
   "cell_type": "code",
   "execution_count": null,
   "metadata": {},
   "outputs": [],
   "source": []
  },
  {
   "cell_type": "markdown",
   "metadata": {},
   "source": [
    "### trial_end_date"
   ]
  },
  {
   "cell_type": "code",
   "execution_count": 58,
   "metadata": {},
   "outputs": [
    {
     "data": {
      "text/plain": [
       "2019-07-16 00:00:00    2866\n",
       "2019-07-15 00:00:00    2663\n",
       "2019-07-17 00:00:00    2339\n",
       "2019-07-20 00:00:00    1832\n",
       "2019-07-18 00:00:00    1831\n",
       "                       ... \n",
       "2019-08-16 00:00:00     323\n",
       "2019-08-09 00:00:00     323\n",
       "2019-08-13 00:00:00     321\n",
       "2019-08-19 00:00:00     301\n",
       "2019-08-14 00:00:00     294\n",
       "Name: trial_end_date, Length: 272, dtype: int64"
      ]
     },
     "execution_count": 58,
     "metadata": {},
     "output_type": "execute_result"
    }
   ],
   "source": [
    "df['trial_end_date'].value_counts()"
   ]
  },
  {
   "cell_type": "code",
   "execution_count": null,
   "metadata": {},
   "outputs": [],
   "source": []
  },
  {
   "cell_type": "markdown",
   "metadata": {},
   "source": [
    "### initial_credit_card_declined"
   ]
  },
  {
   "cell_type": "code",
   "execution_count": 59,
   "metadata": {},
   "outputs": [
    {
     "data": {
      "text/plain": [
       "False    216425\n",
       "True      11203\n",
       "Name: initial_credit_card_declined, dtype: int64"
      ]
     },
     "execution_count": 59,
     "metadata": {},
     "output_type": "execute_result"
    }
   ],
   "source": [
    "df['initial_credit_card_declined'].value_counts()"
   ]
  },
  {
   "cell_type": "code",
   "execution_count": 79,
   "metadata": {},
   "outputs": [
    {
     "data": {
      "text/plain": [
       "Text(0.5, 1.0, 'Initial Credit Card Declined')"
      ]
     },
     "execution_count": 79,
     "metadata": {},
     "output_type": "execute_result"
    },
    {
     "data": {
      "image/png": "[encoded data removed]",
      "text/plain": [
       "<Figure size 432x288 with 1 Axes>"
      ]
     },
     "metadata": {
      "needs_background": "light"
     },
     "output_type": "display_data"
    }
   ],
   "source": [
    "initial_credit_card_declined_dict = dict(df['initial_credit_card_declined'].value_counts())\n",
    "plt.bar(['False', 'True'], initial_credit_card_declined_dict.values())\n",
    "plt.title('Initial Credit Card Declined')"
   ]
  },
  {
   "cell_type": "code",
   "execution_count": null,
   "metadata": {},
   "outputs": [],
   "source": []
  },
  {
   "cell_type": "markdown",
   "metadata": {},
   "source": [
    "### revenue_net"
   ]
  },
  {
   "cell_type": "code",
   "execution_count": 60,
   "metadata": {},
   "outputs": [
    {
     "data": {
      "text/plain": [
       "4    227628\n",
       "Name: months_per_bill_period, dtype: int64"
      ]
     },
     "execution_count": 60,
     "metadata": {},
     "output_type": "execute_result"
    }
   ],
   "source": [
    "df['months_per_bill_period'].value_counts()"
   ]
  },
  {
   "cell_type": "code",
   "execution_count": null,
   "metadata": {},
   "outputs": [],
   "source": []
  },
  {
   "cell_type": "markdown",
   "metadata": {},
   "source": [
    "### join_fee"
   ]
  },
  {
   "cell_type": "code",
   "execution_count": 61,
   "metadata": {},
   "outputs": [
    {
     "data": {
      "text/plain": [
       " 0.0367    109482\n",
       " 0.0000     33482\n",
       " 0.3303     25314\n",
       " 0.6606     12282\n",
       " 0.1101     10648\n",
       " 0.3670      1333\n",
       " 0.1835       146\n",
       "-0.0367         9\n",
       " 0.6973         8\n",
       " 0.6239         6\n",
       "-0.6606         2\n",
       " 0.2936         2\n",
       " 0.1468         2\n",
       " 0.0734         2\n",
       " 0.2569         1\n",
       " 0.5872         1\n",
       " 0.7340         1\n",
       " 0.4037         1\n",
       "-0.3303         1\n",
       "-0.1101         1\n",
       "Name: join_fee, dtype: int64"
      ]
     },
     "execution_count": 61,
     "metadata": {},
     "output_type": "execute_result"
    }
   ],
   "source": [
    "df['join_fee'].value_counts()"
   ]
  },
  {
   "cell_type": "code",
   "execution_count": 80,
   "metadata": {},
   "outputs": [
    {
     "data": {
      "text/plain": [
       "<BarContainer object of 20 artists>"
      ]
     },
     "execution_count": 80,
     "metadata": {},
     "output_type": "execute_result"
    },
    {
     "data": {
      "image/png": "[encoded data removed]",
      "text/plain": [
       "<Figure size 432x288 with 1 Axes>"
      ]
     },
     "metadata": {
      "needs_background": "light"
     },
     "output_type": "display_data"
    }
   ],
   "source": [
    "join_fee_dict = dict(df['join_fee'].value_counts())\n",
    "plt.bar(join_fee_dict.keys(), join_fee_dict.values())"
   ]
  },
  {
   "cell_type": "code",
   "execution_count": 82,
   "metadata": {},
   "outputs": [
    {
     "data": {
      "text/plain": [
       "{'whiskers': [<matplotlib.lines.Line2D at 0x11c754070>,\n",
       "  <matplotlib.lines.Line2D at 0x11c7543d0>],\n",
       " 'caps': [<matplotlib.lines.Line2D at 0x11c754700>,\n",
       "  <matplotlib.lines.Line2D at 0x11c754a30>],\n",
       " 'boxes': [<matplotlib.lines.Line2D at 0x11c754040>],\n",
       " 'medians': [<matplotlib.lines.Line2D at 0x11c75d0d0>],\n",
       " 'fliers': [<matplotlib.lines.Line2D at 0x11c747fa0>],\n",
       " 'means': []}"
      ]
     },
     "execution_count": 82,
     "metadata": {},
     "output_type": "execute_result"
    },
    {
     "data": {
      "image/png": "[encoded data removed]",
      "text/plain": [
       "<Figure size 432x288 with 1 Axes>"
      ]
     },
     "metadata": {
      "needs_background": "light"
     },
     "output_type": "display_data"
    }
   ],
   "source": [
    "plt.boxplot(list(df['join_fee'].dropna()))"
   ]
  },
  {
   "cell_type": "code",
   "execution_count": null,
   "metadata": {},
   "outputs": [],
   "source": []
  },
  {
   "cell_type": "markdown",
   "metadata": {},
   "source": [
    "### language"
   ]
  },
  {
   "cell_type": "code",
   "execution_count": 62,
   "metadata": {},
   "outputs": [
    {
     "data": {
      "text/plain": [
       "ar    227628\n",
       "Name: language, dtype: int64"
      ]
     },
     "execution_count": 62,
     "metadata": {},
     "output_type": "execute_result"
    }
   ],
   "source": [
    "df['language'].value_counts()"
   ]
  },
  {
   "cell_type": "code",
   "execution_count": null,
   "metadata": {},
   "outputs": [],
   "source": []
  },
  {
   "cell_type": "markdown",
   "metadata": {},
   "source": [
    "### paid_TF"
   ]
  },
  {
   "cell_type": "code",
   "execution_count": 63,
   "metadata": {},
   "outputs": [
    {
     "data": {
      "text/plain": [
       "False    135578\n",
       "True      92050\n",
       "Name: paid_TF, dtype: int64"
      ]
     },
     "execution_count": 63,
     "metadata": {},
     "output_type": "execute_result"
    }
   ],
   "source": [
    "df['paid_TF'].value_counts()"
   ]
  },
  {
   "cell_type": "code",
   "execution_count": 83,
   "metadata": {},
   "outputs": [
    {
     "data": {
      "text/plain": [
       "Text(0.5, 1.0, 'Paid')"
      ]
     },
     "execution_count": 83,
     "metadata": {},
     "output_type": "execute_result"
    },
    {
     "data": {
      "image/png": "[encoded data removed]",
      "text/plain": [
       "<Figure size 432x288 with 1 Axes>"
      ]
     },
     "metadata": {
      "needs_background": "light"
     },
     "output_type": "display_data"
    }
   ],
   "source": [
    "paid_TF_dict = dict(df['paid_TF'].value_counts())\n",
    "plt.bar(['False', 'True'], paid_TF_dict.values())\n",
    "plt.title('Paid')"
   ]
  },
  {
   "cell_type": "code",
   "execution_count": null,
   "metadata": {},
   "outputs": [],
   "source": []
  },
  {
   "cell_type": "markdown",
   "metadata": {},
   "source": [
    "### refund_after_trial_TF"
   ]
  },
  {
   "cell_type": "code",
   "execution_count": 64,
   "metadata": {},
   "outputs": [
    {
     "data": {
      "text/plain": [
       "False    218383\n",
       "True       9245\n",
       "Name: refund_after_trial_TF, dtype: int64"
      ]
     },
     "execution_count": 64,
     "metadata": {},
     "output_type": "execute_result"
    }
   ],
   "source": [
    "df['refund_after_trial_TF'].value_counts()"
   ]
  },
  {
   "cell_type": "code",
   "execution_count": 84,
   "metadata": {},
   "outputs": [
    {
     "data": {
      "text/plain": [
       "Text(0.5, 1.0, 'Refund After Trial')"
      ]
     },
     "execution_count": 84,
     "metadata": {},
     "output_type": "execute_result"
    },
    {
     "data": {
      "image/png": "[encoded data removed]",
      "text/plain": [
       "<Figure size 432x288 with 1 Axes>"
      ]
     },
     "metadata": {
      "needs_background": "light"
     },
     "output_type": "display_data"
    }
   ],
   "source": [
    "refund_after_trial_TF_dict = dict(df['refund_after_trial_TF'].value_counts())\n",
    "plt.bar(['False', 'True'], refund_after_trial_TF_dict.values())\n",
    "plt.title('Refund After Trial')"
   ]
  },
  {
   "cell_type": "code",
   "execution_count": null,
   "metadata": {},
   "outputs": [],
   "source": []
  },
  {
   "cell_type": "markdown",
   "metadata": {},
   "source": [
    "### payment_type"
   ]
  },
  {
   "cell_type": "code",
   "execution_count": 65,
   "metadata": {},
   "outputs": [
    {
     "data": {
      "text/plain": [
       "Standard Charter    38810\n",
       "Paypal              30911\n",
       "RAKBANK             14831\n",
       "CBD                  5080\n",
       "Najim                2414\n",
       "Apple Pay               4\n",
       "Name: payment_type, dtype: int64"
      ]
     },
     "execution_count": 65,
     "metadata": {},
     "output_type": "execute_result"
    }
   ],
   "source": [
    "df['payment_type'].value_counts()"
   ]
  },
  {
   "cell_type": "code",
   "execution_count": 85,
   "metadata": {},
   "outputs": [
    {
     "data": {
      "image/png": "[encoded data removed]",
      "text/plain": [
       "<Figure size 432x288 with 1 Axes>"
      ]
     },
     "metadata": {
      "needs_background": "light"
     },
     "output_type": "display_data"
    }
   ],
   "source": [
    "payment_type_dict = dict(df['payment_type'].value_counts())\n",
    "plt.bar(payment_type_dict.keys(), payment_type_dict.values())\n",
    "plt.xticks(rotation=90)\n",
    "plt.show()"
   ]
  },
  {
   "cell_type": "code",
   "execution_count": null,
   "metadata": {},
   "outputs": [],
   "source": []
  },
  {
   "cell_type": "markdown",
   "metadata": {},
   "source": [
    "### current_sub_TF"
   ]
  },
  {
   "cell_type": "code",
   "execution_count": 66,
   "metadata": {},
   "outputs": [
    {
     "data": {
      "text/plain": [
       "False    23640\n",
       "True      7526\n",
       "Name: current_sub_TF, dtype: int64"
      ]
     },
     "execution_count": 66,
     "metadata": {},
     "output_type": "execute_result"
    }
   ],
   "source": [
    "df['current_sub_TF'].value_counts()"
   ]
  },
  {
   "cell_type": "code",
   "execution_count": 97,
   "metadata": {},
   "outputs": [
    {
     "data": {
      "text/plain": [
       "Text(0.5, 1.0, 'Curent Subscription')"
      ]
     },
     "execution_count": 97,
     "metadata": {},
     "output_type": "execute_result"
    },
    {
     "data": {
      "image/png": "[encoded data removed]",
      "text/plain": [
       "<Figure size 432x288 with 1 Axes>"
      ]
     },
     "metadata": {
      "needs_background": "light"
     },
     "output_type": "display_data"
    }
   ],
   "source": [
    "current_sub_TF_dict = dict(df['current_sub_TF'].value_counts())\n",
    "plt.bar(['False', 'True'], current_sub_TF_dict.values())\n",
    "plt.title('Curent Subscription')"
   ]
  },
  {
   "cell_type": "code",
   "execution_count": null,
   "metadata": {},
   "outputs": [],
   "source": []
  },
  {
   "cell_type": "markdown",
   "metadata": {},
   "source": [
    "### cancel_date"
   ]
  },
  {
   "cell_type": "code",
   "execution_count": 67,
   "metadata": {},
   "outputs": [
    {
     "data": {
      "text/plain": [
       "2019-08-27 14:49:48    2\n",
       "2020-03-11 17:58:27    2\n",
       "2020-03-28 14:09:03    2\n",
       "2019-11-27 15:49:12    2\n",
       "2019-12-15 14:26:44    2\n",
       "                      ..\n",
       "2019-11-28 14:48:07    1\n",
       "2019-07-14 00:27:19    1\n",
       "2019-11-16 00:15:13    1\n",
       "2019-09-23 19:55:18    1\n",
       "2019-09-20 14:19:42    1\n",
       "Name: cancel_date, Length: 17655, dtype: int64"
      ]
     },
     "execution_count": 67,
     "metadata": {},
     "output_type": "execute_result"
    }
   ],
   "source": [
    "df['cancel_date'].value_counts()"
   ]
  },
  {
   "cell_type": "code",
   "execution_count": null,
   "metadata": {},
   "outputs": [],
   "source": []
  },
  {
   "cell_type": "markdown",
   "metadata": {},
   "source": [
    "### num_trial_days"
   ]
  },
  {
   "cell_type": "code",
   "execution_count": 68,
   "metadata": {},
   "outputs": [
    {
     "data": {
      "text/plain": [
       "14.0    29104\n",
       "7.0      1508\n",
       "0.0       554\n",
       "Name: num_trial_days, dtype: int64"
      ]
     },
     "execution_count": 68,
     "metadata": {},
     "output_type": "execute_result"
    }
   ],
   "source": [
    "df['num_trial_days'].value_counts()"
   ]
  },
  {
   "cell_type": "code",
   "execution_count": 96,
   "metadata": {},
   "outputs": [
    {
     "data": {
      "text/plain": [
       "<BarContainer object of 3 artists>"
      ]
     },
     "execution_count": 96,
     "metadata": {},
     "output_type": "execute_result"
    },
    {
     "data": {
      "image/png": "[encoded data removed]",
      "text/plain": [
       "<Figure size 432x288 with 1 Axes>"
      ]
     },
     "metadata": {
      "needs_background": "light"
     },
     "output_type": "display_data"
    }
   ],
   "source": [
    "num_trial_days_dict = dict(df['num_trial_days'].value_counts())\n",
    "plt.bar(num_trial_days_dict.keys(), num_trial_days_dict.values())"
   ]
  },
  {
   "cell_type": "code",
   "execution_count": null,
   "metadata": {},
   "outputs": [],
   "source": []
  },
  {
   "cell_type": "markdown",
   "metadata": {},
   "source": [
    "### trial_completed_TF"
   ]
  },
  {
   "cell_type": "code",
   "execution_count": 69,
   "metadata": {},
   "outputs": [
    {
     "data": {
      "text/plain": [
       "True     16056\n",
       "False    15110\n",
       "Name: trial_completed_TF, dtype: int64"
      ]
     },
     "execution_count": 69,
     "metadata": {},
     "output_type": "execute_result"
    }
   ],
   "source": [
    "df['trial_completed_TF'].value_counts()"
   ]
  },
  {
   "cell_type": "code",
   "execution_count": 98,
   "metadata": {},
   "outputs": [
    {
     "data": {
      "text/plain": [
       "Text(0.5, 1.0, 'Trial Completed')"
      ]
     },
     "execution_count": 98,
     "metadata": {},
     "output_type": "execute_result"
    },
    {
     "data": {
      "image/png": "[encoded data removed]",
      "text/plain": [
       "<Figure size 432x288 with 1 Axes>"
      ]
     },
     "metadata": {
      "needs_background": "light"
     },
     "output_type": "display_data"
    }
   ],
   "source": [
    "trial_completed_TF_dict = dict(df['trial_completed_TF'].value_counts())\n",
    "plt.bar(['False', 'True'], trial_completed_TF_dict.values())\n",
    "plt.title('Trial Completed')"
   ]
  },
  {
   "cell_type": "code",
   "execution_count": null,
   "metadata": {},
   "outputs": [],
   "source": []
  },
  {
   "cell_type": "markdown",
   "metadata": {},
   "source": [
    "### revenue_net_1month"
   ]
  },
  {
   "cell_type": "code",
   "execution_count": 70,
   "metadata": {},
   "outputs": [
    {
     "data": {
      "text/plain": [
       " 0.0000    18737\n",
       " 4.5875     2260\n",
       " 1.1377     1733\n",
       " 3.5232      977\n",
       " 5.3215      831\n",
       "           ...  \n",
       "-4.8444        1\n",
       " 1.8717        1\n",
       " 0.1835        1\n",
       "-0.3670        1\n",
       " 6.6427        1\n",
       "Name: revenue_net_1month, Length: 190, dtype: int64"
      ]
     },
     "execution_count": 70,
     "metadata": {},
     "output_type": "execute_result"
    }
   ],
   "source": [
    "df['revenue_net_1month'].value_counts()"
   ]
  },
  {
   "cell_type": "code",
   "execution_count": 99,
   "metadata": {},
   "outputs": [
    {
     "data": {
      "text/plain": [
       "<BarContainer object of 190 artists>"
      ]
     },
     "execution_count": 99,
     "metadata": {},
     "output_type": "execute_result"
    },
    {
     "data": {
      "image/png": "[encoded data removed]",
      "text/plain": [
       "<Figure size 432x288 with 1 Axes>"
      ]
     },
     "metadata": {
      "needs_background": "light"
     },
     "output_type": "display_data"
    }
   ],
   "source": [
    "revenue_net_1month_dict = dict(df['revenue_net_1month'].value_counts())\n",
    "plt.bar(revenue_net_1month_dict.keys(), revenue_net_1month_dict.values())"
   ]
  },
  {
   "cell_type": "code",
   "execution_count": 100,
   "metadata": {},
   "outputs": [
    {
     "data": {
      "text/plain": [
       "{'whiskers': [<matplotlib.lines.Line2D at 0x11b3a49d0>,\n",
       "  <matplotlib.lines.Line2D at 0x11b3a48e0>],\n",
       " 'caps': [<matplotlib.lines.Line2D at 0x11b395160>,\n",
       "  <matplotlib.lines.Line2D at 0x11cc367f0>],\n",
       " 'boxes': [<matplotlib.lines.Line2D at 0x11b3a4ee0>],\n",
       " 'medians': [<matplotlib.lines.Line2D at 0x11cc36160>],\n",
       " 'fliers': [<matplotlib.lines.Line2D at 0x11b3a4f10>],\n",
       " 'means': []}"
      ]
     },
     "execution_count": 100,
     "metadata": {},
     "output_type": "execute_result"
    },
    {
     "data": {
      "image/png": "[encoded data removed]",
      "text/plain": [
       "<Figure size 432x288 with 1 Axes>"
      ]
     },
     "metadata": {
      "needs_background": "light"
     },
     "output_type": "display_data"
    }
   ],
   "source": [
    "plt.boxplot(list(df['join_fee'].dropna()))"
   ]
  },
  {
   "cell_type": "code",
   "execution_count": null,
   "metadata": {},
   "outputs": [],
   "source": []
  },
  {
   "cell_type": "markdown",
   "metadata": {},
   "source": [
    "### payment_period"
   ]
  },
  {
   "cell_type": "code",
   "execution_count": 71,
   "metadata": {},
   "outputs": [
    {
     "data": {
      "text/plain": [
       "0.0     17970\n",
       "1.0      9525\n",
       "2.0      2474\n",
       "3.0       673\n",
       "4.0       230\n",
       "5.0       150\n",
       "6.0        57\n",
       "7.0        43\n",
       "8.0        20\n",
       "9.0        12\n",
       "10.0       12\n",
       "Name: payment_period, dtype: int64"
      ]
     },
     "execution_count": 71,
     "metadata": {},
     "output_type": "execute_result"
    }
   ],
   "source": [
    "df['payment_period'].value_counts()"
   ]
  },
  {
   "cell_type": "code",
   "execution_count": 101,
   "metadata": {},
   "outputs": [
    {
     "data": {
      "text/plain": [
       "<BarContainer object of 11 artists>"
      ]
     },
     "execution_count": 101,
     "metadata": {},
     "output_type": "execute_result"
    },
    {
     "data": {
      "image/png": "[encoded data removed]",
      "text/plain": [
       "<Figure size 432x288 with 1 Axes>"
      ]
     },
     "metadata": {
      "needs_background": "light"
     },
     "output_type": "display_data"
    }
   ],
   "source": [
    "payment_period_dict = dict(df['payment_period'].value_counts())\n",
    "plt.bar(payment_period_dict.keys(), payment_period_dict.values())"
   ]
  },
  {
   "cell_type": "code",
   "execution_count": 103,
   "metadata": {},
   "outputs": [
    {
     "data": {
      "text/plain": [
       "<BarContainer object of 11 artists>"
      ]
     },
     "execution_count": 103,
     "metadata": {},
     "output_type": "execute_result"
    },
    {
     "data": {
      "image/png": "[encoded data removed]",
      "text/plain": [
       "<Figure size 432x288 with 1 Axes>"
      ]
     },
     "metadata": {
      "needs_background": "light"
     },
     "output_type": "display_data"
    }
   ],
   "source": [
    "payment_period_dict = dict(df['payment_period'].value_counts())\n",
    "plt.bar(payment_period_dict.keys(), np.log(list(payment_period_dict.values())))"
   ]
  },
  {
   "cell_type": "code",
   "execution_count": 102,
   "metadata": {},
   "outputs": [
    {
     "data": {
      "text/plain": [
       "{'whiskers': [<matplotlib.lines.Line2D at 0x11be2d610>,\n",
       "  <matplotlib.lines.Line2D at 0x11be2d970>],\n",
       " 'caps': [<matplotlib.lines.Line2D at 0x11be2dca0>,\n",
       "  <matplotlib.lines.Line2D at 0x11be39340>],\n",
       " 'boxes': [<matplotlib.lines.Line2D at 0x11be2d5e0>],\n",
       " 'medians': [<matplotlib.lines.Line2D at 0x11be39670>],\n",
       " 'fliers': [<matplotlib.lines.Line2D at 0x11be2d580>],\n",
       " 'means': []}"
      ]
     },
     "execution_count": 102,
     "metadata": {},
     "output_type": "execute_result"
    },
    {
     "data": {
      "image/png": "[encoded data removed]",
      "text/plain": [
       "<Figure size 432x288 with 1 Axes>"
      ]
     },
     "metadata": {
      "needs_background": "light"
     },
     "output_type": "display_data"
    }
   ],
   "source": [
    "plt.boxplot(list(df['payment_period'].dropna()))"
   ]
  },
  {
   "cell_type": "code",
   "execution_count": null,
   "metadata": {},
   "outputs": [],
   "source": []
  },
  {
   "cell_type": "markdown",
   "metadata": {},
   "source": [
    "### last_payment"
   ]
  },
  {
   "cell_type": "code",
   "execution_count": 72,
   "metadata": {},
   "outputs": [
    {
     "data": {
      "text/plain": [
       "2019-07-01 00:00:00    321\n",
       "2020-03-14 00:00:00    309\n",
       "2020-03-08 00:00:00    271\n",
       "2020-03-07 00:00:00    265\n",
       "2019-07-05 00:00:00    255\n",
       "                      ... \n",
       "2019-08-11 00:00:00     26\n",
       "2019-08-07 00:00:00     24\n",
       "2019-08-08 00:00:00     21\n",
       "2019-08-24 00:00:00     20\n",
       "2020-04-22 00:00:00     10\n",
       "Name: last_payment, Length: 298, dtype: int64"
      ]
     },
     "execution_count": 72,
     "metadata": {},
     "output_type": "execute_result"
    }
   ],
   "source": [
    "df['last_payment'].value_counts()"
   ]
  },
  {
   "cell_type": "code",
   "execution_count": null,
   "metadata": {},
   "outputs": [],
   "source": []
  },
  {
   "cell_type": "markdown",
   "metadata": {},
   "source": [
    "### next_payment"
   ]
  },
  {
   "cell_type": "code",
   "execution_count": 73,
   "metadata": {},
   "outputs": [
    {
     "data": {
      "text/plain": [
       "2020-03-28 00:00:00    166\n",
       "2020-03-15 00:00:00    157\n",
       "2020-03-27 00:00:00    156\n",
       "2020-03-14 00:00:00    145\n",
       "2019-07-15 00:00:00    134\n",
       "                      ... \n",
       "2019-08-24 00:00:00      2\n",
       "2019-07-09 00:00:00      2\n",
       "2019-07-01 00:00:00      2\n",
       "2019-07-03 00:00:00      2\n",
       "2019-07-04 00:00:00      1\n",
       "Name: next_payment, Length: 295, dtype: int64"
      ]
     },
     "execution_count": 73,
     "metadata": {},
     "output_type": "execute_result"
    }
   ],
   "source": [
    "df['next_payment'].value_counts()"
   ]
  },
  {
   "cell_type": "code",
   "execution_count": null,
   "metadata": {},
   "outputs": [],
   "source": []
  },
  {
   "cell_type": "code",
   "execution_count": null,
   "metadata": {},
   "outputs": [],
   "source": []
  }
 ],
 "metadata": {
  "kernelspec": {
   "display_name": "Python 3.8.1 64-bit",
   "language": "python",
   "name": "python38164bit0209044da7c742dab8314e0953beb93b"
  },
  "language_info": {
   "codemirror_mode": {
    "name": "ipython",
    "version": 3
   },
   "file_extension": ".py",
   "mimetype": "text/x-python",
   "name": "python",
   "nbconvert_exporter": "python",
   "pygments_lexer": "ipython3",
   "version": "3.8.1"
  }
 },
 "nbformat": 4,
 "nbformat_minor": 4
}
