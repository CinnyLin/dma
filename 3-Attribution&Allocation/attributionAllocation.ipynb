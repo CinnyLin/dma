{
 "cells": [
  {
   "cell_type": "code",
   "execution_count": null,
   "metadata": {},
   "outputs": [],
   "source": []
  },
  {
   "cell_type": "markdown",
   "metadata": {},
   "source": [
    "### ----- Import Requirements -----"
   ]
  },
  {
   "cell_type": "code",
   "execution_count": 77,
   "metadata": {},
   "outputs": [],
   "source": [
    "import pandas as pd\n",
    "import numpy as np\n",
    "import matplotlib.pyplot as plt"
   ]
  },
  {
   "cell_type": "code",
   "execution_count": null,
   "metadata": {},
   "outputs": [],
   "source": []
  },
  {
   "cell_type": "markdown",
   "metadata": {},
   "source": [
    "### ----- Define Functions -----"
   ]
  },
  {
   "cell_type": "code",
   "execution_count": 2,
   "metadata": {},
   "outputs": [],
   "source": [
    "# five allocation models\n",
    "\n",
    "#last touchpoint\n",
    "def find_last_touchpoint(t_row, touch_col_prepend_f, max_touches_f):\n",
    "    for t in range(max_touches_f, 0, -1):\n",
    "        t_val = t_row[touch_col_prepend_f + str(t)]\n",
    "        try:\n",
    "            if isinstance(t_val, str):\n",
    "                return t_val\n",
    "        except:\n",
    "            None\n",
    "    return None\n",
    "\n",
    "# first touchpoint\n",
    "def find_first_touchpoint(t_row, touch_col_prepend_f, max_touches_f):\n",
    "    for t in range(1, max_touches_f + 1):\n",
    "        t_val = t_row[touch_col_prepend_f + str(t)]\n",
    "        try:\n",
    "            if isinstance(t_val, str):\n",
    "                return t_val\n",
    "        except:\n",
    "            None\n",
    "    return None\n",
    "\n",
    "#last non-direct touch point\n",
    "def find_last_nondirect_touchpoint(t_row, touch_col_prepend_f, max_touches_f, direct_label_f):\n",
    "    for t in range(max_touches_f, 0, -1):\n",
    "        t_val = t_row[touch_col_prepend_f + str(t)]\n",
    "        try:\n",
    "            if isinstance(t_val, str) and t_val != direct_label_f:\n",
    "                return t_val\n",
    "        except:\n",
    "            None\n",
    "    return None"
   ]
  },
  {
   "cell_type": "code",
   "execution_count": 3,
   "metadata": {},
   "outputs": [],
   "source": [
    "def assign_credit(t_row, cred_col_names_f, touch_col_names_f, cred_col_post_pend_f, model_type_f, first_weight_f=0.5, last_weight_f=0.5):\n",
    "    # function assigns a credit to each relevant channel based on user specified model type, e.g. \"last_touch_point\", \"first_touch_point\", etc.\n",
    "    t_dict = dict(zip(cred_col_names_f, [0]*len(cred_col_names_f)))\n",
    "\n",
    "    if model_type_f == 'last_touch_point':\n",
    "        # last\n",
    "        t_dict.update({t_row['last_touch_point'] + cred_col_post_pend_f: 1})\n",
    "        return t_dict\n",
    "    elif model_type_f == 'first_touch_point':\n",
    "        # first\n",
    "        t_dict.update({t_row['first_touch_point'] + cred_col_post_pend_f: 1})\n",
    "        return t_dict\n",
    "    elif model_type_f == 'last_nondirect_touch_point':\n",
    "        # last_non_direct\n",
    "        try:\n",
    "            t_dict.update(\n",
    "                {t_row['last_nondirect_touch_point'] + cred_col_post_pend_f: 1})\n",
    "            return t_dict\n",
    "        except TypeError:\n",
    "            # case where there is no other channel\n",
    "            t_dict.update({'direct' + cred_col_post_pend_f: 1})\n",
    "            return t_dict\n",
    "    elif (model_type_f == 'linear') or (model_type_f == 'position'):\n",
    "        # linear and position based\n",
    "        t_channels = [x for x in t_row[touch_col_names_f]\n",
    "                      if isinstance(x, str)]\n",
    "        if model_type_f == 'linear':\n",
    "            # linear weights\n",
    "            t_weights = [1 / len(t_channels)] * len(t_channels)\n",
    "        elif model_type_f == 'position':\n",
    "            # position based weights (first and last specified, middle divided evenly)\n",
    "            if len(t_channels) > 2:\n",
    "                t_weights = [first_weight_f] + [(1 - (first_weight_f + last_weight_f)) / (\n",
    "                    len(t_channels) - 2)] * (len(t_channels) - 2) + [last_weight_f]\n",
    "            elif len(t_channels) == 1:\n",
    "                t_weights = [1]\n",
    "            else:\n",
    "                t_weights = [first_weight_f] + [last_weight_f]\n",
    "\n",
    "        t_weights = [x / sum(t_weights)\n",
    "                     for x in t_weights]     # ensure weights sum to 1\n",
    "        for i in range(0, len(t_weights)):\n",
    "            t_key = t_channels[i] + '_credit'\n",
    "            t_value = t_dict[t_key] + t_weights[i]\n",
    "            t_dict.update({t_key: t_value})\n",
    "        return t_dict\n",
    "    else:\n",
    "        return t_dict"
   ]
  },
  {
   "cell_type": "code",
   "execution_count": 4,
   "metadata": {},
   "outputs": [],
   "source": [
    "def get_attribution_by_channel(df_f, credit_col_postpend_f):\n",
    "    allocated_conversions = df_f[cred_col_names].sum()  # sum of each credit\n",
    "    n_allocated_conversions = df_f[cred_col_names].sum().sum()  # sum of all credits\n",
    "    n_total_conversions = df_f.convert_TF.sum()   # number of Trues\n",
    "    if n_allocated_conversions != n_total_conversions:\n",
    "        print('WARNING: allocation error. Sum of allocated conversions = %d. Sum of total conversions = %d' % (\n",
    "            int(n_allocated_conversions), int(n_total_conversions)))\n",
    "\n",
    "    channel_allocation_f = pd.Series(dict(zip([x.split(credit_col_postpend_f)[\n",
    "                                     0] for x in allocated_conversions.keys()], list(allocated_conversions.array))))\n",
    "    return channel_allocation_f"
   ]
  },
  {
   "cell_type": "code",
   "execution_count": 5,
   "metadata": {},
   "outputs": [],
   "source": [
    "def calc_avg_CAC(channel_allocation_f, channel_spend_f):\n",
    "    t_df = pd.DataFrame(channel_allocation_f)\n",
    "    t_df.columns = ['channel_allocation']\n",
    "    for t_ind, _ in t_df.iterrows():\n",
    "        t_df.loc[t_ind, 'channel_spend'] = channel_spend_f[t_ind]\n",
    "    t_df['CAC'] = t_df['channel_spend'] / t_df['channel_allocation']\n",
    "    t_df['CAC'].replace(np.inf, 0, inplace=True)\n",
    "    return t_df"
   ]
  },
  {
   "cell_type": "code",
   "execution_count": 6,
   "metadata": {},
   "outputs": [],
   "source": [
    "def calc_marginal_CAC(n_conversions_low_tier, spend_low_tier, n_conversions_high_tier, spend_high_tier):\n",
    "    # RuntimeWarning: invalid value encountered in true_divide\n",
    "    np.seterr(divide='ignore', invalid='ignore')\n",
    "    # fill in this code to create the three variables in output dictionary\n",
    "    marginal_conversions = n_conversions_high_tier - n_conversions_low_tier\n",
    "    marginal_spend = spend_high_tier - spend_low_tier\n",
    "    marginal_CAC = marginal_spend / marginal_conversions\n",
    "    return {'marginal_conversions': marginal_conversions, 'marginal_spend': marginal_spend,\n",
    "            'marginal_CAC': marginal_CAC}"
   ]
  },
  {
   "cell_type": "code",
   "execution_count": null,
   "metadata": {},
   "outputs": [],
   "source": []
  },
  {
   "cell_type": "markdown",
   "metadata": {},
   "source": [
    "### ----- Set parameters -----"
   ]
  },
  {
   "cell_type": "code",
   "execution_count": 7,
   "metadata": {},
   "outputs": [],
   "source": [
    "touch_col_prepend = 'touch'\n",
    "direct_label = 'direct'\n",
    "first_weight = 0.4\n",
    "last_weight = 0.4\n",
    "cred_col_post_pend = '_credit'\n",
    "select_model_types = ['last_touch_point', 'first_touch_point',\n",
    "                      'last_nondirect_touch_point', 'linear', 'position']\n",
    "write_to_file = True"
   ]
  },
  {
   "cell_type": "code",
   "execution_count": null,
   "metadata": {},
   "outputs": [],
   "source": []
  },
  {
   "cell_type": "markdown",
   "metadata": {},
   "source": [
    "### ----- Import data -----"
   ]
  },
  {
   "cell_type": "code",
   "execution_count": 8,
   "metadata": {},
   "outputs": [],
   "source": [
    "df = pd.read_pickle('attribution_allocation_student_data')\n",
    "channel_spend = pd.read_pickle('channel_spend_student_data')"
   ]
  },
  {
   "cell_type": "markdown",
   "metadata": {},
   "source": [
    "I had problem inspecting the pickle data but it worked after updating `pandas` to version 1.1.1"
   ]
  },
  {
   "cell_type": "code",
   "execution_count": 9,
   "metadata": {},
   "outputs": [
    {
     "data": {
      "text/html": [
       "<div>\n",
       "<style scoped>\n",
       "    .dataframe tbody tr th:only-of-type {\n",
       "        vertical-align: middle;\n",
       "    }\n",
       "\n",
       "    .dataframe tbody tr th {\n",
       "        vertical-align: top;\n",
       "    }\n",
       "\n",
       "    .dataframe thead th {\n",
       "        text-align: right;\n",
       "    }\n",
       "</style>\n",
       "<table border=\"1\" class=\"dataframe\">\n",
       "  <thead>\n",
       "    <tr style=\"text-align: right;\">\n",
       "      <th></th>\n",
       "      <th>convert_TF</th>\n",
       "      <th>touch1</th>\n",
       "      <th>touch2</th>\n",
       "      <th>touch3</th>\n",
       "      <th>touch4</th>\n",
       "      <th>touch5</th>\n",
       "      <th>tier</th>\n",
       "    </tr>\n",
       "  </thead>\n",
       "  <tbody>\n",
       "    <tr>\n",
       "      <th>0</th>\n",
       "      <td>True</td>\n",
       "      <td>referral</td>\n",
       "      <td>referral</td>\n",
       "      <td>referral</td>\n",
       "      <td>email</td>\n",
       "      <td>NaN</td>\n",
       "      <td>1</td>\n",
       "    </tr>\n",
       "  </tbody>\n",
       "</table>\n",
       "</div>"
      ],
      "text/plain": [
       "   convert_TF    touch1    touch2    touch3 touch4 touch5  tier\n",
       "0        True  referral  referral  referral  email    NaN     1"
      ]
     },
     "execution_count": 9,
     "metadata": {},
     "output_type": "execute_result"
    }
   ],
   "source": [
    "df.head(1)"
   ]
  },
  {
   "cell_type": "code",
   "execution_count": 10,
   "metadata": {},
   "outputs": [
    {
     "data": {
      "text/plain": [
       "(68124, 7)"
      ]
     },
     "execution_count": 10,
     "metadata": {},
     "output_type": "execute_result"
    }
   ],
   "source": [
    "df.shape"
   ]
  },
  {
   "cell_type": "code",
   "execution_count": 11,
   "metadata": {},
   "outputs": [
    {
     "data": {
      "text/plain": [
       "tier1    {'email': 1000.0, 'social': 1000.0000000000001...\n",
       "tier2    {'email': 2000.0, 'social': 2000.0, 'display':...\n",
       "tier3    {'email': 3000.0, 'social': 3000.0, 'display':...\n",
       "dtype: object"
      ]
     },
     "execution_count": 11,
     "metadata": {},
     "output_type": "execute_result"
    }
   ],
   "source": [
    "channel_spend"
   ]
  },
  {
   "cell_type": "code",
   "execution_count": 12,
   "metadata": {},
   "outputs": [
    {
     "data": {
      "text/plain": [
       "{'email': 1000.0,\n",
       " 'social': 1000.0000000000001,\n",
       " 'display': 1000.0,\n",
       " 'paid_search': 999.9999999999999,\n",
       " 'referral': 1000.0,\n",
       " 'organic_search': 0.0,\n",
       " 'direct': 0.0}"
      ]
     },
     "execution_count": 12,
     "metadata": {},
     "output_type": "execute_result"
    }
   ],
   "source": [
    "channel_spend['tier1']"
   ]
  },
  {
   "cell_type": "code",
   "execution_count": 13,
   "metadata": {},
   "outputs": [],
   "source": [
    "df_test = df[:20].copy()"
   ]
  },
  {
   "cell_type": "code",
   "execution_count": 14,
   "metadata": {},
   "outputs": [
    {
     "data": {
      "text/plain": [
       "(20, 7)"
      ]
     },
     "execution_count": 14,
     "metadata": {},
     "output_type": "execute_result"
    }
   ],
   "source": [
    "df_test.shape"
   ]
  },
  {
   "cell_type": "code",
   "execution_count": null,
   "metadata": {},
   "outputs": [],
   "source": []
  },
  {
   "cell_type": "markdown",
   "metadata": {},
   "source": [
    "### ----- Calculations -----"
   ]
  },
  {
   "cell_type": "code",
   "execution_count": 15,
   "metadata": {},
   "outputs": [],
   "source": [
    "touch_col_names = [x for x in df.columns \n",
    "                   if x.find(touch_col_prepend) > -1]\n",
    "\n",
    "max_touches = max([int(x.split(touch_col_prepend)[1])\n",
    "                   for x in touch_col_names])\n",
    "\n",
    "# total spending for all three tier experiments\n",
    "channel_spend['total'] = dict()\n",
    "for t_name, t in channel_spend.items():\n",
    "    if t_name != 'total':   # tiers\n",
    "        for c in t.keys():  # channels\n",
    "            try:\n",
    "                channel_spend['total'][c] = channel_spend['total'][c] + t[c]\n",
    "            except KeyError:\n",
    "                channel_spend['total'].update({c: 0})"
   ]
  },
  {
   "cell_type": "code",
   "execution_count": 16,
   "metadata": {},
   "outputs": [
    {
     "data": {
      "text/plain": [
       "['touch1', 'touch2', 'touch3', 'touch4', 'touch5']"
      ]
     },
     "execution_count": 16,
     "metadata": {},
     "output_type": "execute_result"
    }
   ],
   "source": [
    "touch_col_names"
   ]
  },
  {
   "cell_type": "code",
   "execution_count": 17,
   "metadata": {},
   "outputs": [
    {
     "data": {
      "text/plain": [
       "5"
      ]
     },
     "execution_count": 17,
     "metadata": {},
     "output_type": "execute_result"
    }
   ],
   "source": [
    "max_touches"
   ]
  },
  {
   "cell_type": "code",
   "execution_count": 18,
   "metadata": {},
   "outputs": [
    {
     "data": {
      "text/plain": [
       "{'email': 5000.0,\n",
       " 'social': 5000.0,\n",
       " 'display': 5000.0,\n",
       " 'paid_search': 5000.0,\n",
       " 'referral': 5000.0,\n",
       " 'organic_search': 0.0,\n",
       " 'direct': 0.0}"
      ]
     },
     "execution_count": 18,
     "metadata": {},
     "output_type": "execute_result"
    }
   ],
   "source": [
    "channel_spend['total']"
   ]
  },
  {
   "cell_type": "code",
   "execution_count": null,
   "metadata": {},
   "outputs": [],
   "source": []
  },
  {
   "cell_type": "markdown",
   "metadata": {},
   "source": [
    "### ----- Format dataframe -----"
   ]
  },
  {
   "cell_type": "code",
   "execution_count": 19,
   "metadata": {},
   "outputs": [],
   "source": [
    "# --- create credit columns\n",
    "base_set = set()\n",
    "[base_set.update(set(df[x].dropna().unique())) for x in touch_col_names]\n",
    "cred_col_names = [x + '_credit' for x in base_set]\n",
    "df = pd.concat([df, pd.DataFrame(data=0, columns=cred_col_names,\n",
    "                                 index=df.index)], axis=1, ignore_index=False)"
   ]
  },
  {
   "cell_type": "code",
   "execution_count": 20,
   "metadata": {},
   "outputs": [
    {
     "data": {
      "text/plain": [
       "{'direct',\n",
       " 'display',\n",
       " 'email',\n",
       " 'organic_search',\n",
       " 'paid_search',\n",
       " 'referral',\n",
       " 'social'}"
      ]
     },
     "execution_count": 20,
     "metadata": {},
     "output_type": "execute_result"
    }
   ],
   "source": [
    "base_set"
   ]
  },
  {
   "cell_type": "code",
   "execution_count": 21,
   "metadata": {},
   "outputs": [
    {
     "data": {
      "text/plain": [
       "['paid_search_credit',\n",
       " 'referral_credit',\n",
       " 'display_credit',\n",
       " 'organic_search_credit',\n",
       " 'social_credit',\n",
       " 'direct_credit',\n",
       " 'email_credit']"
      ]
     },
     "execution_count": 21,
     "metadata": {},
     "output_type": "execute_result"
    }
   ],
   "source": [
    "cred_col_names"
   ]
  },
  {
   "cell_type": "code",
   "execution_count": 22,
   "metadata": {},
   "outputs": [
    {
     "data": {
      "text/html": [
       "<div>\n",
       "<style scoped>\n",
       "    .dataframe tbody tr th:only-of-type {\n",
       "        vertical-align: middle;\n",
       "    }\n",
       "\n",
       "    .dataframe tbody tr th {\n",
       "        vertical-align: top;\n",
       "    }\n",
       "\n",
       "    .dataframe thead th {\n",
       "        text-align: right;\n",
       "    }\n",
       "</style>\n",
       "<table border=\"1\" class=\"dataframe\">\n",
       "  <thead>\n",
       "    <tr style=\"text-align: right;\">\n",
       "      <th></th>\n",
       "      <th>convert_TF</th>\n",
       "      <th>touch1</th>\n",
       "      <th>touch2</th>\n",
       "      <th>touch3</th>\n",
       "      <th>touch4</th>\n",
       "      <th>touch5</th>\n",
       "      <th>tier</th>\n",
       "      <th>paid_search_credit</th>\n",
       "      <th>referral_credit</th>\n",
       "      <th>display_credit</th>\n",
       "      <th>organic_search_credit</th>\n",
       "      <th>social_credit</th>\n",
       "      <th>direct_credit</th>\n",
       "      <th>email_credit</th>\n",
       "    </tr>\n",
       "  </thead>\n",
       "  <tbody>\n",
       "    <tr>\n",
       "      <th>0</th>\n",
       "      <td>True</td>\n",
       "      <td>referral</td>\n",
       "      <td>referral</td>\n",
       "      <td>referral</td>\n",
       "      <td>email</td>\n",
       "      <td>NaN</td>\n",
       "      <td>1</td>\n",
       "      <td>0</td>\n",
       "      <td>0</td>\n",
       "      <td>0</td>\n",
       "      <td>0</td>\n",
       "      <td>0</td>\n",
       "      <td>0</td>\n",
       "      <td>0</td>\n",
       "    </tr>\n",
       "    <tr>\n",
       "      <th>1</th>\n",
       "      <td>True</td>\n",
       "      <td>referral</td>\n",
       "      <td>display</td>\n",
       "      <td>display</td>\n",
       "      <td>email</td>\n",
       "      <td>NaN</td>\n",
       "      <td>1</td>\n",
       "      <td>0</td>\n",
       "      <td>0</td>\n",
       "      <td>0</td>\n",
       "      <td>0</td>\n",
       "      <td>0</td>\n",
       "      <td>0</td>\n",
       "      <td>0</td>\n",
       "    </tr>\n",
       "    <tr>\n",
       "      <th>2</th>\n",
       "      <td>True</td>\n",
       "      <td>email</td>\n",
       "      <td>display</td>\n",
       "      <td>referral</td>\n",
       "      <td>NaN</td>\n",
       "      <td>NaN</td>\n",
       "      <td>1</td>\n",
       "      <td>0</td>\n",
       "      <td>0</td>\n",
       "      <td>0</td>\n",
       "      <td>0</td>\n",
       "      <td>0</td>\n",
       "      <td>0</td>\n",
       "      <td>0</td>\n",
       "    </tr>\n",
       "    <tr>\n",
       "      <th>3</th>\n",
       "      <td>True</td>\n",
       "      <td>referral</td>\n",
       "      <td>referral</td>\n",
       "      <td>email</td>\n",
       "      <td>NaN</td>\n",
       "      <td>NaN</td>\n",
       "      <td>1</td>\n",
       "      <td>0</td>\n",
       "      <td>0</td>\n",
       "      <td>0</td>\n",
       "      <td>0</td>\n",
       "      <td>0</td>\n",
       "      <td>0</td>\n",
       "      <td>0</td>\n",
       "    </tr>\n",
       "    <tr>\n",
       "      <th>4</th>\n",
       "      <td>True</td>\n",
       "      <td>social</td>\n",
       "      <td>referral</td>\n",
       "      <td>NaN</td>\n",
       "      <td>NaN</td>\n",
       "      <td>NaN</td>\n",
       "      <td>1</td>\n",
       "      <td>0</td>\n",
       "      <td>0</td>\n",
       "      <td>0</td>\n",
       "      <td>0</td>\n",
       "      <td>0</td>\n",
       "      <td>0</td>\n",
       "      <td>0</td>\n",
       "    </tr>\n",
       "  </tbody>\n",
       "</table>\n",
       "</div>"
      ],
      "text/plain": [
       "   convert_TF    touch1    touch2    touch3 touch4 touch5  tier  \\\n",
       "0        True  referral  referral  referral  email    NaN     1   \n",
       "1        True  referral   display   display  email    NaN     1   \n",
       "2        True     email   display  referral    NaN    NaN     1   \n",
       "3        True  referral  referral     email    NaN    NaN     1   \n",
       "4        True    social  referral       NaN    NaN    NaN     1   \n",
       "\n",
       "   paid_search_credit  referral_credit  display_credit  organic_search_credit  \\\n",
       "0                   0                0               0                      0   \n",
       "1                   0                0               0                      0   \n",
       "2                   0                0               0                      0   \n",
       "3                   0                0               0                      0   \n",
       "4                   0                0               0                      0   \n",
       "\n",
       "   social_credit  direct_credit  email_credit  \n",
       "0              0              0             0  \n",
       "1              0              0             0  \n",
       "2              0              0             0  \n",
       "3              0              0             0  \n",
       "4              0              0             0  "
      ]
     },
     "execution_count": 22,
     "metadata": {},
     "output_type": "execute_result"
    }
   ],
   "source": [
    "df.head()"
   ]
  },
  {
   "cell_type": "code",
   "execution_count": 23,
   "metadata": {},
   "outputs": [
    {
     "data": {
      "text/plain": [
       "(68124, 14)"
      ]
     },
     "execution_count": 23,
     "metadata": {},
     "output_type": "execute_result"
    }
   ],
   "source": [
    "df.shape"
   ]
  },
  {
   "cell_type": "code",
   "execution_count": null,
   "metadata": {},
   "outputs": [],
   "source": []
  },
  {
   "cell_type": "markdown",
   "metadata": {},
   "source": [
    "`get_attribution_by_channel`"
   ]
  },
  {
   "cell_type": "code",
   "execution_count": 24,
   "metadata": {},
   "outputs": [
    {
     "data": {
      "text/plain": [
       "paid_search_credit       0\n",
       "referral_credit          0\n",
       "display_credit           0\n",
       "organic_search_credit    0\n",
       "social_credit            0\n",
       "direct_credit            0\n",
       "email_credit             0\n",
       "dtype: int64"
      ]
     },
     "execution_count": 24,
     "metadata": {},
     "output_type": "execute_result"
    }
   ],
   "source": [
    "#allocated_conversions\n",
    "df[cred_col_names].sum()"
   ]
  },
  {
   "cell_type": "code",
   "execution_count": 25,
   "metadata": {},
   "outputs": [
    {
     "data": {
      "text/plain": [
       "0"
      ]
     },
     "execution_count": 25,
     "metadata": {},
     "output_type": "execute_result"
    }
   ],
   "source": [
    "# n_allocated_conversions\n",
    "df[cred_col_names].sum().sum()"
   ]
  },
  {
   "cell_type": "code",
   "execution_count": 26,
   "metadata": {},
   "outputs": [
    {
     "data": {
      "text/plain": [
       "13779"
      ]
     },
     "execution_count": 26,
     "metadata": {},
     "output_type": "execute_result"
    }
   ],
   "source": [
    "# n_total_conversions\n",
    "df.convert_TF.sum()"
   ]
  },
  {
   "cell_type": "code",
   "execution_count": 27,
   "metadata": {},
   "outputs": [
    {
     "data": {
      "text/plain": [
       "False    54345\n",
       "True     13779\n",
       "Name: convert_TF, dtype: int64"
      ]
     },
     "execution_count": 27,
     "metadata": {},
     "output_type": "execute_result"
    }
   ],
   "source": [
    "df.convert_TF.value_counts()"
   ]
  },
  {
   "cell_type": "code",
   "execution_count": 28,
   "metadata": {},
   "outputs": [],
   "source": [
    "# channel_allocation_f\n",
    "#pd.Series(dict(zip([x.split(credit_col_postpend_f)[0] for x in allocated_conversions.keys()], \n",
    "                    #list(allocated_conversions.array))))"
   ]
  },
  {
   "cell_type": "code",
   "execution_count": 29,
   "metadata": {},
   "outputs": [
    {
     "data": {
      "text/plain": [
       "[0, 0, 0, 0, 0, 0, 0]"
      ]
     },
     "execution_count": 29,
     "metadata": {},
     "output_type": "execute_result"
    }
   ],
   "source": [
    "list(df[cred_col_names].sum().array)"
   ]
  },
  {
   "cell_type": "code",
   "execution_count": 30,
   "metadata": {},
   "outputs": [
    {
     "data": {
      "text/plain": [
       "Index(['paid_search_credit', 'referral_credit', 'display_credit',\n",
       "       'organic_search_credit', 'social_credit', 'direct_credit',\n",
       "       'email_credit'],\n",
       "      dtype='object')"
      ]
     },
     "execution_count": 30,
     "metadata": {},
     "output_type": "execute_result"
    }
   ],
   "source": [
    "df[cred_col_names].sum().keys() # cred_col_names"
   ]
  },
  {
   "cell_type": "code",
   "execution_count": 31,
   "metadata": {},
   "outputs": [
    {
     "data": {
      "text/plain": [
       "['paid_search',\n",
       " 'referral',\n",
       " 'display',\n",
       " 'organic_search',\n",
       " 'social',\n",
       " 'direct',\n",
       " 'email']"
      ]
     },
     "execution_count": 31,
     "metadata": {},
     "output_type": "execute_result"
    }
   ],
   "source": [
    "[x.split('_credit')[0] for x in cred_col_names]"
   ]
  },
  {
   "cell_type": "code",
   "execution_count": 32,
   "metadata": {},
   "outputs": [
    {
     "data": {
      "text/plain": [
       "{'paid_search': 0,\n",
       " 'referral': 0,\n",
       " 'display': 0,\n",
       " 'organic_search': 0,\n",
       " 'social': 0,\n",
       " 'direct': 0,\n",
       " 'email': 0}"
      ]
     },
     "execution_count": 32,
     "metadata": {},
     "output_type": "execute_result"
    }
   ],
   "source": [
    "dict(zip([x.split('_credit')[0] for x in cred_col_names], list(df[cred_col_names].sum().array)))"
   ]
  },
  {
   "cell_type": "code",
   "execution_count": null,
   "metadata": {},
   "outputs": [],
   "source": []
  },
  {
   "cell_type": "code",
   "execution_count": 33,
   "metadata": {},
   "outputs": [],
   "source": [
    "# --- identify key touch points\n",
    "df['last_touch_point'] = df.apply(\n",
    "    find_last_touchpoint, arxgs=(touch_col_prepend, max_touches), axis=1)\n",
    "df['first_touch_point'] = df.apply(\n",
    "    find_first_touchpoint, args=(touch_col_prepend, max_touches), axis=1)\n",
    "df['last_nondirect_touch_point'] = df.apply(find_last_nondirect_touchpoint, args=(\n",
    "    touch_col_prepend, max_touches, direct_label,), axis=1)"
   ]
  },
  {
   "cell_type": "code",
   "execution_count": 34,
   "metadata": {},
   "outputs": [
    {
     "data": {
      "text/html": [
       "<div>\n",
       "<style scoped>\n",
       "    .dataframe tbody tr th:only-of-type {\n",
       "        vertical-align: middle;\n",
       "    }\n",
       "\n",
       "    .dataframe tbody tr th {\n",
       "        vertical-align: top;\n",
       "    }\n",
       "\n",
       "    .dataframe thead th {\n",
       "        text-align: right;\n",
       "    }\n",
       "</style>\n",
       "<table border=\"1\" class=\"dataframe\">\n",
       "  <thead>\n",
       "    <tr style=\"text-align: right;\">\n",
       "      <th></th>\n",
       "      <th>convert_TF</th>\n",
       "      <th>touch1</th>\n",
       "      <th>touch2</th>\n",
       "      <th>touch3</th>\n",
       "      <th>touch4</th>\n",
       "      <th>touch5</th>\n",
       "      <th>tier</th>\n",
       "      <th>paid_search_credit</th>\n",
       "      <th>referral_credit</th>\n",
       "      <th>display_credit</th>\n",
       "      <th>organic_search_credit</th>\n",
       "      <th>social_credit</th>\n",
       "      <th>direct_credit</th>\n",
       "      <th>email_credit</th>\n",
       "      <th>last_touch_point</th>\n",
       "      <th>first_touch_point</th>\n",
       "      <th>last_nondirect_touch_point</th>\n",
       "    </tr>\n",
       "  </thead>\n",
       "  <tbody>\n",
       "    <tr>\n",
       "      <th>0</th>\n",
       "      <td>True</td>\n",
       "      <td>referral</td>\n",
       "      <td>referral</td>\n",
       "      <td>referral</td>\n",
       "      <td>email</td>\n",
       "      <td>NaN</td>\n",
       "      <td>1</td>\n",
       "      <td>0</td>\n",
       "      <td>0</td>\n",
       "      <td>0</td>\n",
       "      <td>0</td>\n",
       "      <td>0</td>\n",
       "      <td>0</td>\n",
       "      <td>0</td>\n",
       "      <td>email</td>\n",
       "      <td>referral</td>\n",
       "      <td>email</td>\n",
       "    </tr>\n",
       "  </tbody>\n",
       "</table>\n",
       "</div>"
      ],
      "text/plain": [
       "   convert_TF    touch1    touch2    touch3 touch4 touch5  tier  \\\n",
       "0        True  referral  referral  referral  email    NaN     1   \n",
       "\n",
       "   paid_search_credit  referral_credit  display_credit  organic_search_credit  \\\n",
       "0                   0                0               0                      0   \n",
       "\n",
       "   social_credit  direct_credit  email_credit last_touch_point  \\\n",
       "0              0              0             0            email   \n",
       "\n",
       "  first_touch_point last_nondirect_touch_point  \n",
       "0          referral                      email  "
      ]
     },
     "execution_count": 34,
     "metadata": {},
     "output_type": "execute_result"
    }
   ],
   "source": [
    "df.head(1)"
   ]
  },
  {
   "cell_type": "code",
   "execution_count": 54,
   "metadata": {},
   "outputs": [
    {
     "data": {
      "text/html": [
       "<div>\n",
       "<style scoped>\n",
       "    .dataframe tbody tr th:only-of-type {\n",
       "        vertical-align: middle;\n",
       "    }\n",
       "\n",
       "    .dataframe tbody tr th {\n",
       "        vertical-align: top;\n",
       "    }\n",
       "\n",
       "    .dataframe thead th {\n",
       "        text-align: right;\n",
       "    }\n",
       "</style>\n",
       "<table border=\"1\" class=\"dataframe\">\n",
       "  <thead>\n",
       "    <tr style=\"text-align: right;\">\n",
       "      <th></th>\n",
       "      <th>convert_TF</th>\n",
       "      <th>touch1</th>\n",
       "      <th>touch2</th>\n",
       "      <th>touch3</th>\n",
       "      <th>touch4</th>\n",
       "      <th>touch5</th>\n",
       "      <th>tier</th>\n",
       "      <th>paid_search_credit</th>\n",
       "      <th>referral_credit</th>\n",
       "      <th>display_credit</th>\n",
       "      <th>organic_search_credit</th>\n",
       "      <th>social_credit</th>\n",
       "      <th>direct_credit</th>\n",
       "      <th>email_credit</th>\n",
       "      <th>last_touch_point</th>\n",
       "      <th>first_touch_point</th>\n",
       "      <th>last_nondirect_touch_point</th>\n",
       "    </tr>\n",
       "  </thead>\n",
       "  <tbody>\n",
       "    <tr>\n",
       "      <th>0</th>\n",
       "      <td>True</td>\n",
       "      <td>referral</td>\n",
       "      <td>referral</td>\n",
       "      <td>referral</td>\n",
       "      <td>email</td>\n",
       "      <td>NaN</td>\n",
       "      <td>1</td>\n",
       "      <td>0.0</td>\n",
       "      <td>0.0</td>\n",
       "      <td>0.0</td>\n",
       "      <td>0.0</td>\n",
       "      <td>0.0</td>\n",
       "      <td>0.0</td>\n",
       "      <td>1.0</td>\n",
       "      <td>email</td>\n",
       "      <td>referral</td>\n",
       "      <td>email</td>\n",
       "    </tr>\n",
       "    <tr>\n",
       "      <th>1</th>\n",
       "      <td>True</td>\n",
       "      <td>referral</td>\n",
       "      <td>display</td>\n",
       "      <td>display</td>\n",
       "      <td>email</td>\n",
       "      <td>NaN</td>\n",
       "      <td>1</td>\n",
       "      <td>0.0</td>\n",
       "      <td>0.0</td>\n",
       "      <td>0.0</td>\n",
       "      <td>0.0</td>\n",
       "      <td>0.0</td>\n",
       "      <td>0.0</td>\n",
       "      <td>1.0</td>\n",
       "      <td>email</td>\n",
       "      <td>referral</td>\n",
       "      <td>email</td>\n",
       "    </tr>\n",
       "    <tr>\n",
       "      <th>2</th>\n",
       "      <td>True</td>\n",
       "      <td>email</td>\n",
       "      <td>display</td>\n",
       "      <td>referral</td>\n",
       "      <td>NaN</td>\n",
       "      <td>NaN</td>\n",
       "      <td>1</td>\n",
       "      <td>0.0</td>\n",
       "      <td>1.0</td>\n",
       "      <td>0.0</td>\n",
       "      <td>0.0</td>\n",
       "      <td>0.0</td>\n",
       "      <td>0.0</td>\n",
       "      <td>0.0</td>\n",
       "      <td>referral</td>\n",
       "      <td>email</td>\n",
       "      <td>referral</td>\n",
       "    </tr>\n",
       "    <tr>\n",
       "      <th>3</th>\n",
       "      <td>True</td>\n",
       "      <td>referral</td>\n",
       "      <td>referral</td>\n",
       "      <td>email</td>\n",
       "      <td>NaN</td>\n",
       "      <td>NaN</td>\n",
       "      <td>1</td>\n",
       "      <td>0.0</td>\n",
       "      <td>0.0</td>\n",
       "      <td>0.0</td>\n",
       "      <td>0.0</td>\n",
       "      <td>0.0</td>\n",
       "      <td>0.0</td>\n",
       "      <td>1.0</td>\n",
       "      <td>email</td>\n",
       "      <td>referral</td>\n",
       "      <td>email</td>\n",
       "    </tr>\n",
       "    <tr>\n",
       "      <th>4</th>\n",
       "      <td>True</td>\n",
       "      <td>social</td>\n",
       "      <td>referral</td>\n",
       "      <td>NaN</td>\n",
       "      <td>NaN</td>\n",
       "      <td>NaN</td>\n",
       "      <td>1</td>\n",
       "      <td>0.0</td>\n",
       "      <td>1.0</td>\n",
       "      <td>0.0</td>\n",
       "      <td>0.0</td>\n",
       "      <td>0.0</td>\n",
       "      <td>0.0</td>\n",
       "      <td>0.0</td>\n",
       "      <td>referral</td>\n",
       "      <td>social</td>\n",
       "      <td>referral</td>\n",
       "    </tr>\n",
       "    <tr>\n",
       "      <th>...</th>\n",
       "      <td>...</td>\n",
       "      <td>...</td>\n",
       "      <td>...</td>\n",
       "      <td>...</td>\n",
       "      <td>...</td>\n",
       "      <td>...</td>\n",
       "      <td>...</td>\n",
       "      <td>...</td>\n",
       "      <td>...</td>\n",
       "      <td>...</td>\n",
       "      <td>...</td>\n",
       "      <td>...</td>\n",
       "      <td>...</td>\n",
       "      <td>...</td>\n",
       "      <td>...</td>\n",
       "      <td>...</td>\n",
       "      <td>...</td>\n",
       "    </tr>\n",
       "    <tr>\n",
       "      <th>68119</th>\n",
       "      <td>False</td>\n",
       "      <td>social</td>\n",
       "      <td>display</td>\n",
       "      <td>direct</td>\n",
       "      <td>NaN</td>\n",
       "      <td>NaN</td>\n",
       "      <td>3</td>\n",
       "      <td>0.0</td>\n",
       "      <td>0.0</td>\n",
       "      <td>0.0</td>\n",
       "      <td>0.0</td>\n",
       "      <td>0.0</td>\n",
       "      <td>0.0</td>\n",
       "      <td>0.0</td>\n",
       "      <td>direct</td>\n",
       "      <td>social</td>\n",
       "      <td>display</td>\n",
       "    </tr>\n",
       "    <tr>\n",
       "      <th>68120</th>\n",
       "      <td>False</td>\n",
       "      <td>referral</td>\n",
       "      <td>referral</td>\n",
       "      <td>referral</td>\n",
       "      <td>referral</td>\n",
       "      <td>direct</td>\n",
       "      <td>3</td>\n",
       "      <td>0.0</td>\n",
       "      <td>0.0</td>\n",
       "      <td>0.0</td>\n",
       "      <td>0.0</td>\n",
       "      <td>0.0</td>\n",
       "      <td>0.0</td>\n",
       "      <td>0.0</td>\n",
       "      <td>direct</td>\n",
       "      <td>referral</td>\n",
       "      <td>referral</td>\n",
       "    </tr>\n",
       "    <tr>\n",
       "      <th>68121</th>\n",
       "      <td>False</td>\n",
       "      <td>display</td>\n",
       "      <td>referral</td>\n",
       "      <td>social</td>\n",
       "      <td>direct</td>\n",
       "      <td>NaN</td>\n",
       "      <td>3</td>\n",
       "      <td>0.0</td>\n",
       "      <td>0.0</td>\n",
       "      <td>0.0</td>\n",
       "      <td>0.0</td>\n",
       "      <td>0.0</td>\n",
       "      <td>0.0</td>\n",
       "      <td>0.0</td>\n",
       "      <td>direct</td>\n",
       "      <td>display</td>\n",
       "      <td>social</td>\n",
       "    </tr>\n",
       "    <tr>\n",
       "      <th>68122</th>\n",
       "      <td>False</td>\n",
       "      <td>email</td>\n",
       "      <td>email</td>\n",
       "      <td>social</td>\n",
       "      <td>direct</td>\n",
       "      <td>NaN</td>\n",
       "      <td>3</td>\n",
       "      <td>0.0</td>\n",
       "      <td>0.0</td>\n",
       "      <td>0.0</td>\n",
       "      <td>0.0</td>\n",
       "      <td>0.0</td>\n",
       "      <td>0.0</td>\n",
       "      <td>0.0</td>\n",
       "      <td>direct</td>\n",
       "      <td>email</td>\n",
       "      <td>social</td>\n",
       "    </tr>\n",
       "    <tr>\n",
       "      <th>68123</th>\n",
       "      <td>False</td>\n",
       "      <td>display</td>\n",
       "      <td>social</td>\n",
       "      <td>direct</td>\n",
       "      <td>NaN</td>\n",
       "      <td>NaN</td>\n",
       "      <td>3</td>\n",
       "      <td>0.0</td>\n",
       "      <td>0.0</td>\n",
       "      <td>0.0</td>\n",
       "      <td>0.0</td>\n",
       "      <td>0.0</td>\n",
       "      <td>0.0</td>\n",
       "      <td>0.0</td>\n",
       "      <td>direct</td>\n",
       "      <td>display</td>\n",
       "      <td>social</td>\n",
       "    </tr>\n",
       "  </tbody>\n",
       "</table>\n",
       "<p>68124 rows × 17 columns</p>\n",
       "</div>"
      ],
      "text/plain": [
       "       convert_TF    touch1    touch2    touch3    touch4  touch5  tier  \\\n",
       "0            True  referral  referral  referral     email     NaN     1   \n",
       "1            True  referral   display   display     email     NaN     1   \n",
       "2            True     email   display  referral       NaN     NaN     1   \n",
       "3            True  referral  referral     email       NaN     NaN     1   \n",
       "4            True    social  referral       NaN       NaN     NaN     1   \n",
       "...           ...       ...       ...       ...       ...     ...   ...   \n",
       "68119       False    social   display    direct       NaN     NaN     3   \n",
       "68120       False  referral  referral  referral  referral  direct     3   \n",
       "68121       False   display  referral    social    direct     NaN     3   \n",
       "68122       False     email     email    social    direct     NaN     3   \n",
       "68123       False   display    social    direct       NaN     NaN     3   \n",
       "\n",
       "       paid_search_credit  referral_credit  display_credit  \\\n",
       "0                     0.0              0.0             0.0   \n",
       "1                     0.0              0.0             0.0   \n",
       "2                     0.0              1.0             0.0   \n",
       "3                     0.0              0.0             0.0   \n",
       "4                     0.0              1.0             0.0   \n",
       "...                   ...              ...             ...   \n",
       "68119                 0.0              0.0             0.0   \n",
       "68120                 0.0              0.0             0.0   \n",
       "68121                 0.0              0.0             0.0   \n",
       "68122                 0.0              0.0             0.0   \n",
       "68123                 0.0              0.0             0.0   \n",
       "\n",
       "       organic_search_credit  social_credit  direct_credit  email_credit  \\\n",
       "0                        0.0            0.0            0.0           1.0   \n",
       "1                        0.0            0.0            0.0           1.0   \n",
       "2                        0.0            0.0            0.0           0.0   \n",
       "3                        0.0            0.0            0.0           1.0   \n",
       "4                        0.0            0.0            0.0           0.0   \n",
       "...                      ...            ...            ...           ...   \n",
       "68119                    0.0            0.0            0.0           0.0   \n",
       "68120                    0.0            0.0            0.0           0.0   \n",
       "68121                    0.0            0.0            0.0           0.0   \n",
       "68122                    0.0            0.0            0.0           0.0   \n",
       "68123                    0.0            0.0            0.0           0.0   \n",
       "\n",
       "      last_touch_point first_touch_point last_nondirect_touch_point  \n",
       "0                email          referral                      email  \n",
       "1                email          referral                      email  \n",
       "2             referral             email                   referral  \n",
       "3                email          referral                      email  \n",
       "4             referral            social                   referral  \n",
       "...                ...               ...                        ...  \n",
       "68119           direct            social                    display  \n",
       "68120           direct          referral                   referral  \n",
       "68121           direct           display                     social  \n",
       "68122           direct             email                     social  \n",
       "68123           direct           display                     social  \n",
       "\n",
       "[68124 rows x 17 columns]"
      ]
     },
     "execution_count": 54,
     "metadata": {},
     "output_type": "execute_result"
    }
   ],
   "source": [
    "df"
   ]
  },
  {
   "cell_type": "code",
   "execution_count": null,
   "metadata": {},
   "outputs": [],
   "source": []
  },
  {
   "cell_type": "markdown",
   "metadata": {},
   "source": [
    "### ----- RUN MODELS -----"
   ]
  },
  {
   "cell_type": "code",
   "execution_count": 35,
   "metadata": {},
   "outputs": [
    {
     "name": "stdout",
     "output_type": "stream",
     "text": [
      "Processing model last_touch_point\n",
      "Running attribution model\n",
      "Calculating average and marginal CAC\n",
      "Processing model first_touch_point\n",
      "Running attribution model\n",
      "Calculating average and marginal CAC\n",
      "Processing model last_nondirect_touch_point\n",
      "Running attribution model\n",
      "Calculating average and marginal CAC\n",
      "Processing model linear\n",
      "Running attribution model\n",
      "Calculating average and marginal CAC\n",
      "WARNING: allocation error. Sum of allocated conversions = 13779. Sum of total conversions = 13779\n",
      "Processing model position\n",
      "Running attribution model\n",
      "Calculating average and marginal CAC\n",
      "WARNING: allocation error. Sum of allocated conversions = 13779. Sum of total conversions = 13779\n"
     ]
    }
   ],
   "source": [
    "CAC_dfs = dict()\n",
    "for model_type in select_model_types:\n",
    "    print('Processing model %s' % model_type)\n",
    "\n",
    "    # ----- Run attribution model -----\n",
    "    print('Running attribution model')\n",
    "    # only run calculation for conversion rows\n",
    "    df_convert = df.loc[df.convert_TF]\n",
    "    for t_ind, t_row in df_convert.iterrows():\n",
    "        t_credit_dict = assign_credit(\n",
    "            t_row, cred_col_names, touch_col_names, cred_col_post_pend, model_type, first_weight, last_weight)\n",
    "        df.loc[t_ind, list(t_credit_dict.keys())] = list(t_credit_dict.values())  # add credit to original dataframe\n",
    "    del df_convert, t_ind, t_row\n",
    "\n",
    "    # ----- Calculate CAC -----\n",
    "    print('Calculating average and marginal CAC')\n",
    "    # --- Average CAC ---\n",
    "    channel_allocation = get_attribution_by_channel(\n",
    "        df, credit_col_postpend_f='_credit')\n",
    "    df_CAC = calc_avg_CAC(channel_allocation_f=channel_allocation,\n",
    "                          channel_spend_f=channel_spend['total'])\n",
    "\n",
    "    # --- Marginal CAC ---\n",
    "    credit_cols = [x for x in df.columns if x.find('credit') > -1]\n",
    "    df_CAC = pd.DataFrame(index=[x.split('_credit')[0] for x in credit_cols])\n",
    "    base_col_names = ['marginal_conversions', 'marginal_spend', 'marginal_CAC']\n",
    "\n",
    "    df_tier_sum = df[['tier']+credit_cols].groupby(['tier']).sum()\n",
    "    df_tier_sum.columns = [x.split('_credit')[0] for x in df_tier_sum.columns]\n",
    "    for t_tier in df_tier_sum.index:\n",
    "        for t_channel in df_CAC.index:\n",
    "            if t_tier > 1:\n",
    "                n_conversions_low_tier = df_tier_sum.loc[t_tier - 1, t_channel]\n",
    "                spend_low_tier = channel_spend['tier' + str(t_tier - 1)][t_channel]\n",
    "                n_conversions_high_tier = df_tier_sum.loc[t_tier, t_channel]\n",
    "                spend_high_tier = channel_spend['tier' + str(t_tier)][t_channel]\n",
    "            else:\n",
    "                n_conversions_low_tier = 0\n",
    "                spend_low_tier = 0\n",
    "                n_conversions_high_tier = df_tier_sum.loc[t_tier, t_channel]\n",
    "                spend_high_tier = channel_spend['tier' + str(t_tier)][t_channel]\n",
    "\n",
    "            t_df_CAC_colnames = [x + '_t' + str(t_tier) for x in base_col_names]\n",
    "            t_marginal_dict = calc_marginal_CAC(\n",
    "                n_conversions_low_tier, spend_low_tier, n_conversions_high_tier, spend_high_tier)\n",
    "            df_CAC.loc[t_channel, t_df_CAC_colnames] = [\n",
    "                t_marginal_dict[x] for x in base_col_names]\n",
    "\n",
    "    CAC_dfs.update({model_type: df_CAC})"
   ]
  },
  {
   "cell_type": "code",
   "execution_count": null,
   "metadata": {},
   "outputs": [],
   "source": []
  },
  {
   "cell_type": "markdown",
   "metadata": {},
   "source": [
    "testing (a small sample size) with \"last_touch_point\" model"
   ]
  },
  {
   "cell_type": "code",
   "execution_count": 36,
   "metadata": {},
   "outputs": [
    {
     "data": {
      "text/plain": [
       "['last_touch_point',\n",
       " 'first_touch_point',\n",
       " 'last_nondirect_touch_point',\n",
       " 'linear',\n",
       " 'position']"
      ]
     },
     "execution_count": 36,
     "metadata": {},
     "output_type": "execute_result"
    }
   ],
   "source": [
    "select_model_types"
   ]
  },
  {
   "cell_type": "code",
   "execution_count": 37,
   "metadata": {},
   "outputs": [
    {
     "name": "stdout",
     "output_type": "stream",
     "text": [
      "Running attribution model\n"
     ]
    }
   ],
   "source": [
    "# ----- Run attribution model -----\n",
    "print('Running attribution model')\n",
    "# only run calculation for conversion rows\n",
    "df_convert = df.loc[df.convert_TF]\n",
    "for t_ind, t_row in df_convert.iterrows():\n",
    "    t_credit_dict = assign_credit(\n",
    "        t_row, cred_col_names, touch_col_names, cred_col_post_pend, 'last_touch_point', first_weight, last_weight)\n",
    "    df.loc[t_ind, list(t_credit_dict.keys())] = list(t_credit_dict.values())  # add credit to original dataframe\n",
    "del df_convert, t_ind, t_row"
   ]
  },
  {
   "cell_type": "code",
   "execution_count": 38,
   "metadata": {},
   "outputs": [
    {
     "data": {
      "text/html": [
       "<div>\n",
       "<style scoped>\n",
       "    .dataframe tbody tr th:only-of-type {\n",
       "        vertical-align: middle;\n",
       "    }\n",
       "\n",
       "    .dataframe tbody tr th {\n",
       "        vertical-align: top;\n",
       "    }\n",
       "\n",
       "    .dataframe thead th {\n",
       "        text-align: right;\n",
       "    }\n",
       "</style>\n",
       "<table border=\"1\" class=\"dataframe\">\n",
       "  <thead>\n",
       "    <tr style=\"text-align: right;\">\n",
       "      <th></th>\n",
       "      <th>convert_TF</th>\n",
       "      <th>touch1</th>\n",
       "      <th>touch2</th>\n",
       "      <th>touch3</th>\n",
       "      <th>touch4</th>\n",
       "      <th>touch5</th>\n",
       "      <th>tier</th>\n",
       "      <th>paid_search_credit</th>\n",
       "      <th>referral_credit</th>\n",
       "      <th>display_credit</th>\n",
       "      <th>organic_search_credit</th>\n",
       "      <th>social_credit</th>\n",
       "      <th>direct_credit</th>\n",
       "      <th>email_credit</th>\n",
       "      <th>last_touch_point</th>\n",
       "      <th>first_touch_point</th>\n",
       "      <th>last_nondirect_touch_point</th>\n",
       "    </tr>\n",
       "  </thead>\n",
       "  <tbody>\n",
       "    <tr>\n",
       "      <th>0</th>\n",
       "      <td>True</td>\n",
       "      <td>referral</td>\n",
       "      <td>referral</td>\n",
       "      <td>referral</td>\n",
       "      <td>email</td>\n",
       "      <td>NaN</td>\n",
       "      <td>1</td>\n",
       "      <td>0.0</td>\n",
       "      <td>0.0</td>\n",
       "      <td>0.0</td>\n",
       "      <td>0.0</td>\n",
       "      <td>0.0</td>\n",
       "      <td>0.0</td>\n",
       "      <td>1.0</td>\n",
       "      <td>email</td>\n",
       "      <td>referral</td>\n",
       "      <td>email</td>\n",
       "    </tr>\n",
       "  </tbody>\n",
       "</table>\n",
       "</div>"
      ],
      "text/plain": [
       "   convert_TF    touch1    touch2    touch3 touch4 touch5  tier  \\\n",
       "0        True  referral  referral  referral  email    NaN     1   \n",
       "\n",
       "   paid_search_credit  referral_credit  display_credit  organic_search_credit  \\\n",
       "0                 0.0              0.0             0.0                    0.0   \n",
       "\n",
       "   social_credit  direct_credit  email_credit last_touch_point  \\\n",
       "0            0.0            0.0           1.0            email   \n",
       "\n",
       "  first_touch_point last_nondirect_touch_point  \n",
       "0          referral                      email  "
      ]
     },
     "execution_count": 38,
     "metadata": {},
     "output_type": "execute_result"
    }
   ],
   "source": [
    "df.head(1)"
   ]
  },
  {
   "cell_type": "code",
   "execution_count": null,
   "metadata": {},
   "outputs": [],
   "source": []
  },
  {
   "cell_type": "code",
   "execution_count": 39,
   "metadata": {},
   "outputs": [
    {
     "name": "stdout",
     "output_type": "stream",
     "text": [
      "Calculating average and marginal CAC\n"
     ]
    }
   ],
   "source": [
    "# ----- Calculate CAC -----\n",
    "print('Calculating average and marginal CAC')\n",
    "# --- Average CAC ---\n",
    "channel_allocation = get_attribution_by_channel(df, credit_col_postpend_f='_credit')\n",
    "df_CAC = calc_avg_CAC(channel_allocation_f=channel_allocation, channel_spend_f=channel_spend['total'])"
   ]
  },
  {
   "cell_type": "code",
   "execution_count": 40,
   "metadata": {},
   "outputs": [
    {
     "data": {
      "text/plain": [
       "paid_search       1004.0\n",
       "referral          6014.0\n",
       "display           2292.0\n",
       "organic_search      11.0\n",
       "social            2960.0\n",
       "direct               7.0\n",
       "email             1491.0\n",
       "dtype: float64"
      ]
     },
     "execution_count": 40,
     "metadata": {},
     "output_type": "execute_result"
    }
   ],
   "source": [
    "channel_allocation"
   ]
  },
  {
   "cell_type": "code",
   "execution_count": 41,
   "metadata": {},
   "outputs": [
    {
     "data": {
      "text/html": [
       "<div>\n",
       "<style scoped>\n",
       "    .dataframe tbody tr th:only-of-type {\n",
       "        vertical-align: middle;\n",
       "    }\n",
       "\n",
       "    .dataframe tbody tr th {\n",
       "        vertical-align: top;\n",
       "    }\n",
       "\n",
       "    .dataframe thead th {\n",
       "        text-align: right;\n",
       "    }\n",
       "</style>\n",
       "<table border=\"1\" class=\"dataframe\">\n",
       "  <thead>\n",
       "    <tr style=\"text-align: right;\">\n",
       "      <th></th>\n",
       "      <th>channel_allocation</th>\n",
       "      <th>channel_spend</th>\n",
       "      <th>CAC</th>\n",
       "    </tr>\n",
       "  </thead>\n",
       "  <tbody>\n",
       "    <tr>\n",
       "      <th>paid_search</th>\n",
       "      <td>1004.0</td>\n",
       "      <td>5000.0</td>\n",
       "      <td>4.980080</td>\n",
       "    </tr>\n",
       "    <tr>\n",
       "      <th>referral</th>\n",
       "      <td>6014.0</td>\n",
       "      <td>5000.0</td>\n",
       "      <td>0.831393</td>\n",
       "    </tr>\n",
       "    <tr>\n",
       "      <th>display</th>\n",
       "      <td>2292.0</td>\n",
       "      <td>5000.0</td>\n",
       "      <td>2.181501</td>\n",
       "    </tr>\n",
       "    <tr>\n",
       "      <th>organic_search</th>\n",
       "      <td>11.0</td>\n",
       "      <td>0.0</td>\n",
       "      <td>0.000000</td>\n",
       "    </tr>\n",
       "    <tr>\n",
       "      <th>social</th>\n",
       "      <td>2960.0</td>\n",
       "      <td>5000.0</td>\n",
       "      <td>1.689189</td>\n",
       "    </tr>\n",
       "    <tr>\n",
       "      <th>direct</th>\n",
       "      <td>7.0</td>\n",
       "      <td>0.0</td>\n",
       "      <td>0.000000</td>\n",
       "    </tr>\n",
       "    <tr>\n",
       "      <th>email</th>\n",
       "      <td>1491.0</td>\n",
       "      <td>5000.0</td>\n",
       "      <td>3.353454</td>\n",
       "    </tr>\n",
       "  </tbody>\n",
       "</table>\n",
       "</div>"
      ],
      "text/plain": [
       "                channel_allocation  channel_spend       CAC\n",
       "paid_search                 1004.0         5000.0  4.980080\n",
       "referral                    6014.0         5000.0  0.831393\n",
       "display                     2292.0         5000.0  2.181501\n",
       "organic_search                11.0            0.0  0.000000\n",
       "social                      2960.0         5000.0  1.689189\n",
       "direct                         7.0            0.0  0.000000\n",
       "email                       1491.0         5000.0  3.353454"
      ]
     },
     "execution_count": 41,
     "metadata": {},
     "output_type": "execute_result"
    }
   ],
   "source": [
    "df_CAC"
   ]
  },
  {
   "cell_type": "code",
   "execution_count": null,
   "metadata": {},
   "outputs": [],
   "source": []
  },
  {
   "cell_type": "code",
   "execution_count": 42,
   "metadata": {},
   "outputs": [],
   "source": [
    "# --- Marginal CAC ---\n",
    "credit_cols = [x for x in df.columns if x.find('credit') > -1]\n",
    "df_CAC = pd.DataFrame(index=[x.split('_credit')[0] for x in credit_cols])\n",
    "base_col_names = ['marginal_conversions', 'marginal_spend', 'marginal_CAC']\n",
    "\n",
    "df_tier_sum = df[['tier']+credit_cols].groupby(['tier']).sum()\n",
    "df_tier_sum.columns = [x.split('_credit')[0] for x in df_tier_sum.columns]\n",
    "for t_tier in df_tier_sum.index:\n",
    "    for t_channel in df_CAC.index:\n",
    "        if t_tier > 1:\n",
    "            n_conversions_low_tier = df_tier_sum.loc[t_tier - 1, t_channel]\n",
    "            spend_low_tier = channel_spend['tier' + str(t_tier - 1)][t_channel]\n",
    "            n_conversions_high_tier = df_tier_sum.loc[t_tier, t_channel]\n",
    "            spend_high_tier = channel_spend['tier' + str(t_tier)][t_channel]\n",
    "        else:\n",
    "            n_conversions_low_tier = 0\n",
    "            spend_low_tier = 0\n",
    "            n_conversions_high_tier = df_tier_sum.loc[t_tier, t_channel]\n",
    "            spend_high_tier = channel_spend['tier' + str(t_tier)][t_channel]\n",
    "\n",
    "        t_df_CAC_colnames = [x + '_t' + str(t_tier) for x in base_col_names]\n",
    "        t_marginal_dict = calc_marginal_CAC(n_conversions_low_tier, spend_low_tier, n_conversions_high_tier, spend_high_tier)\n",
    "        df_CAC.loc[t_channel, t_df_CAC_colnames] = [t_marginal_dict[x] for x in base_col_names]"
   ]
  },
  {
   "cell_type": "code",
   "execution_count": null,
   "metadata": {},
   "outputs": [],
   "source": []
  },
  {
   "cell_type": "code",
   "execution_count": 43,
   "metadata": {},
   "outputs": [
    {
     "data": {
      "text/plain": [
       "['paid_search_credit',\n",
       " 'referral_credit',\n",
       " 'display_credit',\n",
       " 'organic_search_credit',\n",
       " 'social_credit',\n",
       " 'direct_credit',\n",
       " 'email_credit']"
      ]
     },
     "execution_count": 43,
     "metadata": {},
     "output_type": "execute_result"
    }
   ],
   "source": [
    "credit_cols = [x for x in df.columns if x.find('credit') > -1]\n",
    "credit_cols"
   ]
  },
  {
   "cell_type": "code",
   "execution_count": 44,
   "metadata": {},
   "outputs": [
    {
     "data": {
      "text/html": [
       "<div>\n",
       "<style scoped>\n",
       "    .dataframe tbody tr th:only-of-type {\n",
       "        vertical-align: middle;\n",
       "    }\n",
       "\n",
       "    .dataframe tbody tr th {\n",
       "        vertical-align: top;\n",
       "    }\n",
       "\n",
       "    .dataframe thead th {\n",
       "        text-align: right;\n",
       "    }\n",
       "</style>\n",
       "<table border=\"1\" class=\"dataframe\">\n",
       "  <thead>\n",
       "    <tr style=\"text-align: right;\">\n",
       "      <th></th>\n",
       "    </tr>\n",
       "  </thead>\n",
       "  <tbody>\n",
       "    <tr>\n",
       "      <th>paid_search</th>\n",
       "    </tr>\n",
       "    <tr>\n",
       "      <th>referral</th>\n",
       "    </tr>\n",
       "    <tr>\n",
       "      <th>display</th>\n",
       "    </tr>\n",
       "    <tr>\n",
       "      <th>organic_search</th>\n",
       "    </tr>\n",
       "    <tr>\n",
       "      <th>social</th>\n",
       "    </tr>\n",
       "    <tr>\n",
       "      <th>direct</th>\n",
       "    </tr>\n",
       "    <tr>\n",
       "      <th>email</th>\n",
       "    </tr>\n",
       "  </tbody>\n",
       "</table>\n",
       "</div>"
      ],
      "text/plain": [
       "Empty DataFrame\n",
       "Columns: []\n",
       "Index: [paid_search, referral, display, organic_search, social, direct, email]"
      ]
     },
     "execution_count": 44,
     "metadata": {},
     "output_type": "execute_result"
    }
   ],
   "source": [
    "pd.DataFrame(index=[x.split('_credit')[0] for x in credit_cols])"
   ]
  },
  {
   "cell_type": "code",
   "execution_count": 45,
   "metadata": {},
   "outputs": [
    {
     "data": {
      "text/plain": [
       "['marginal_conversions', 'marginal_spend', 'marginal_CAC']"
      ]
     },
     "execution_count": 45,
     "metadata": {},
     "output_type": "execute_result"
    }
   ],
   "source": [
    "base_col_names = ['marginal_conversions', 'marginal_spend', 'marginal_CAC']\n",
    "base_col_names"
   ]
  },
  {
   "cell_type": "code",
   "execution_count": 46,
   "metadata": {},
   "outputs": [
    {
     "data": {
      "text/html": [
       "<div>\n",
       "<style scoped>\n",
       "    .dataframe tbody tr th:only-of-type {\n",
       "        vertical-align: middle;\n",
       "    }\n",
       "\n",
       "    .dataframe tbody tr th {\n",
       "        vertical-align: top;\n",
       "    }\n",
       "\n",
       "    .dataframe thead th {\n",
       "        text-align: right;\n",
       "    }\n",
       "</style>\n",
       "<table border=\"1\" class=\"dataframe\">\n",
       "  <thead>\n",
       "    <tr style=\"text-align: right;\">\n",
       "      <th></th>\n",
       "      <th>paid_search_credit</th>\n",
       "      <th>referral_credit</th>\n",
       "      <th>display_credit</th>\n",
       "      <th>organic_search_credit</th>\n",
       "      <th>social_credit</th>\n",
       "      <th>direct_credit</th>\n",
       "      <th>email_credit</th>\n",
       "    </tr>\n",
       "    <tr>\n",
       "      <th>tier</th>\n",
       "      <th></th>\n",
       "      <th></th>\n",
       "      <th></th>\n",
       "      <th></th>\n",
       "      <th></th>\n",
       "      <th></th>\n",
       "      <th></th>\n",
       "    </tr>\n",
       "  </thead>\n",
       "  <tbody>\n",
       "    <tr>\n",
       "      <th>1</th>\n",
       "      <td>176.0</td>\n",
       "      <td>1211.0</td>\n",
       "      <td>528.0</td>\n",
       "      <td>2.0</td>\n",
       "      <td>625.0</td>\n",
       "      <td>1.0</td>\n",
       "      <td>281.0</td>\n",
       "    </tr>\n",
       "    <tr>\n",
       "      <th>2</th>\n",
       "      <td>347.0</td>\n",
       "      <td>2107.0</td>\n",
       "      <td>818.0</td>\n",
       "      <td>4.0</td>\n",
       "      <td>1060.0</td>\n",
       "      <td>1.0</td>\n",
       "      <td>555.0</td>\n",
       "    </tr>\n",
       "    <tr>\n",
       "      <th>3</th>\n",
       "      <td>481.0</td>\n",
       "      <td>2696.0</td>\n",
       "      <td>946.0</td>\n",
       "      <td>5.0</td>\n",
       "      <td>1275.0</td>\n",
       "      <td>5.0</td>\n",
       "      <td>655.0</td>\n",
       "    </tr>\n",
       "  </tbody>\n",
       "</table>\n",
       "</div>"
      ],
      "text/plain": [
       "      paid_search_credit  referral_credit  display_credit  \\\n",
       "tier                                                        \n",
       "1                  176.0           1211.0           528.0   \n",
       "2                  347.0           2107.0           818.0   \n",
       "3                  481.0           2696.0           946.0   \n",
       "\n",
       "      organic_search_credit  social_credit  direct_credit  email_credit  \n",
       "tier                                                                     \n",
       "1                       2.0          625.0            1.0         281.0  \n",
       "2                       4.0         1060.0            1.0         555.0  \n",
       "3                       5.0         1275.0            5.0         655.0  "
      ]
     },
     "execution_count": 46,
     "metadata": {},
     "output_type": "execute_result"
    }
   ],
   "source": [
    "df_tier_sum = df[['tier']+credit_cols].groupby(['tier']).sum()\n",
    "df_tier_sum"
   ]
  },
  {
   "cell_type": "code",
   "execution_count": 47,
   "metadata": {},
   "outputs": [
    {
     "data": {
      "text/plain": [
       "Int64Index([1, 2, 3], dtype='int64', name='tier')"
      ]
     },
     "execution_count": 47,
     "metadata": {},
     "output_type": "execute_result"
    }
   ],
   "source": [
    "df_tier_sum.index"
   ]
  },
  {
   "cell_type": "code",
   "execution_count": 48,
   "metadata": {},
   "outputs": [
    {
     "data": {
      "text/plain": [
       "Index(['paid_search', 'referral', 'display', 'organic_search', 'social',\n",
       "       'direct', 'email'],\n",
       "      dtype='object')"
      ]
     },
     "execution_count": 48,
     "metadata": {},
     "output_type": "execute_result"
    }
   ],
   "source": [
    "df_CAC.index"
   ]
  },
  {
   "cell_type": "code",
   "execution_count": 49,
   "metadata": {},
   "outputs": [],
   "source": [
    "for t_tier in df_tier_sum.index:\n",
    "    for t_channel in df_CAC.index:\n",
    "        if t_tier > 1:\n",
    "            n_conversions_low_tier = df_tier_sum.loc[t_tier - 1, t_channel+'_credit']\n",
    "            spend_low_tier = channel_spend['tier' + str(t_tier - 1)][t_channel]\n",
    "            n_conversions_high_tier = df_tier_sum.loc[t_tier, t_channel+'_credit']\n",
    "            spend_high_tier = channel_spend['tier' + str(t_tier)][t_channel]\n",
    "        else:  # t_tier=1\n",
    "            n_conversions_low_tier = 0\n",
    "            spend_low_tier = 0\n",
    "            n_conversions_high_tier = df_tier_sum.loc[t_tier, t_channel+'_credit']\n",
    "            spend_high_tier = channel_spend['tier' + str(t_tier)][t_channel]\n",
    "\n",
    "        t_df_CAC_colnames = [x + '_t' + str(t_tier) for x in base_col_names]\n",
    "        t_marginal_dict = calc_marginal_CAC(n_conversions_low_tier, spend_low_tier, n_conversions_high_tier, spend_high_tier)\n",
    "        df_CAC.loc[t_channel, t_df_CAC_colnames] = [t_marginal_dict[x] for x in base_col_names]"
   ]
  },
  {
   "cell_type": "code",
   "execution_count": 50,
   "metadata": {},
   "outputs": [
    {
     "data": {
      "text/html": [
       "<div>\n",
       "<style scoped>\n",
       "    .dataframe tbody tr th:only-of-type {\n",
       "        vertical-align: middle;\n",
       "    }\n",
       "\n",
       "    .dataframe tbody tr th {\n",
       "        vertical-align: top;\n",
       "    }\n",
       "\n",
       "    .dataframe thead th {\n",
       "        text-align: right;\n",
       "    }\n",
       "</style>\n",
       "<table border=\"1\" class=\"dataframe\">\n",
       "  <thead>\n",
       "    <tr style=\"text-align: right;\">\n",
       "      <th></th>\n",
       "      <th>paid_search_credit</th>\n",
       "      <th>referral_credit</th>\n",
       "      <th>display_credit</th>\n",
       "      <th>organic_search_credit</th>\n",
       "      <th>social_credit</th>\n",
       "      <th>direct_credit</th>\n",
       "      <th>email_credit</th>\n",
       "    </tr>\n",
       "    <tr>\n",
       "      <th>tier</th>\n",
       "      <th></th>\n",
       "      <th></th>\n",
       "      <th></th>\n",
       "      <th></th>\n",
       "      <th></th>\n",
       "      <th></th>\n",
       "      <th></th>\n",
       "    </tr>\n",
       "  </thead>\n",
       "  <tbody>\n",
       "    <tr>\n",
       "      <th>1</th>\n",
       "      <td>176.0</td>\n",
       "      <td>1211.0</td>\n",
       "      <td>528.0</td>\n",
       "      <td>2.0</td>\n",
       "      <td>625.0</td>\n",
       "      <td>1.0</td>\n",
       "      <td>281.0</td>\n",
       "    </tr>\n",
       "    <tr>\n",
       "      <th>2</th>\n",
       "      <td>347.0</td>\n",
       "      <td>2107.0</td>\n",
       "      <td>818.0</td>\n",
       "      <td>4.0</td>\n",
       "      <td>1060.0</td>\n",
       "      <td>1.0</td>\n",
       "      <td>555.0</td>\n",
       "    </tr>\n",
       "    <tr>\n",
       "      <th>3</th>\n",
       "      <td>481.0</td>\n",
       "      <td>2696.0</td>\n",
       "      <td>946.0</td>\n",
       "      <td>5.0</td>\n",
       "      <td>1275.0</td>\n",
       "      <td>5.0</td>\n",
       "      <td>655.0</td>\n",
       "    </tr>\n",
       "  </tbody>\n",
       "</table>\n",
       "</div>"
      ],
      "text/plain": [
       "      paid_search_credit  referral_credit  display_credit  \\\n",
       "tier                                                        \n",
       "1                  176.0           1211.0           528.0   \n",
       "2                  347.0           2107.0           818.0   \n",
       "3                  481.0           2696.0           946.0   \n",
       "\n",
       "      organic_search_credit  social_credit  direct_credit  email_credit  \n",
       "tier                                                                     \n",
       "1                       2.0          625.0            1.0         281.0  \n",
       "2                       4.0         1060.0            1.0         555.0  \n",
       "3                       5.0         1275.0            5.0         655.0  "
      ]
     },
     "execution_count": 50,
     "metadata": {},
     "output_type": "execute_result"
    }
   ],
   "source": [
    "# n_conversions_low_tier = df_tier_sum.loc[t_tier - 1, t_channel]\n",
    "#df_tier_sum.loc[1, 'paid_search_credit']  # 176\n",
    "df_tier_sum"
   ]
  },
  {
   "cell_type": "code",
   "execution_count": 51,
   "metadata": {},
   "outputs": [
    {
     "data": {
      "text/plain": [
       "tier1    {'email': 1000.0, 'social': 1000.0000000000001...\n",
       "tier2    {'email': 2000.0, 'social': 2000.0, 'display':...\n",
       "tier3    {'email': 3000.0, 'social': 3000.0, 'display':...\n",
       "total    {'email': 5000.0, 'social': 5000.0, 'display':...\n",
       "dtype: object"
      ]
     },
     "execution_count": 51,
     "metadata": {},
     "output_type": "execute_result"
    }
   ],
   "source": [
    "#channel_spend['tier' + str(t_tier - 1)][t_channel]\n",
    "#channel_spend['tier' + str(1)]['paid_search']  # 999\n",
    "channel_spend"
   ]
  },
  {
   "cell_type": "code",
   "execution_count": 52,
   "metadata": {},
   "outputs": [
    {
     "data": {
      "text/plain": [
       "['marginal_conversions_t1', 'marginal_spend_t1', 'marginal_CAC_t1']"
      ]
     },
     "execution_count": 52,
     "metadata": {},
     "output_type": "execute_result"
    }
   ],
   "source": [
    "[x + '_t' + str(1) for x in base_col_names]"
   ]
  },
  {
   "cell_type": "code",
   "execution_count": null,
   "metadata": {},
   "outputs": [],
   "source": []
  },
  {
   "cell_type": "markdown",
   "metadata": {},
   "source": [
    "### ----- PRINT RESULTS -----"
   ]
  },
  {
   "cell_type": "code",
   "execution_count": 53,
   "metadata": {},
   "outputs": [
    {
     "name": "stdout",
     "output_type": "stream",
     "text": [
      "\n",
      "last_touch_point attribution model implied CAC:\n",
      "                marginal_CAC_t1  marginal_CAC_t2  marginal_CAC_t3\n",
      "paid_search            5.681818         5.847953         7.462687\n",
      "referral               0.825764         1.116071         1.697793\n",
      "display                1.893939         3.448276         7.812500\n",
      "organic_search         0.000000         0.000000         0.000000\n",
      "social                 1.600000         2.298851         4.651163\n",
      "direct                 0.000000              NaN         0.000000\n",
      "email                  3.558719         3.649635        10.000000\n",
      "\n",
      "first_touch_point attribution model implied CAC:\n",
      "                marginal_CAC_t1  marginal_CAC_t2  marginal_CAC_t3\n",
      "paid_search            7.751938        12.195122         8.547009\n",
      "referral               0.658328         0.833333         1.858736\n",
      "display                2.298851         3.436426         6.944444\n",
      "organic_search         0.000000         0.000000              NaN\n",
      "social                 2.105263         2.873563         6.289308\n",
      "direct                 0.000000         0.000000        -0.000000\n",
      "email                  3.787879         7.246377         4.629630\n",
      "\n",
      "last_nondirect_touch_point attribution model implied CAC:\n",
      "                marginal_CAC_t1  marginal_CAC_t2  marginal_CAC_t3\n",
      "paid_search            5.681818         5.847953         7.462687\n",
      "referral               0.825083         1.117318         1.692047\n",
      "display                1.893939         3.448276         7.751938\n",
      "organic_search         0.000000         0.000000         0.000000\n",
      "social                 1.600000         2.293578         4.672897\n",
      "direct                      NaN              NaN         0.000000\n",
      "email                  3.558719         3.649635         9.900990\n",
      "\n",
      "linear attribution model implied CAC:\n",
      "                marginal_CAC_t1  marginal_CAC_t2  marginal_CAC_t3\n",
      "paid_search            7.809449         9.110234         9.883051\n",
      "referral               0.659152         0.877514         1.578864\n",
      "display                2.276521         3.511030         8.194482\n",
      "organic_search         0.000000         0.000000         0.000000\n",
      "social                 2.063629         2.960478         5.784805\n",
      "direct                 0.000000         0.000000         0.000000\n",
      "email                  3.981949         5.225115         7.197697\n",
      "\n",
      "position attribution model implied CAC:\n",
      "                marginal_CAC_t1  marginal_CAC_t2  marginal_CAC_t3\n",
      "paid_search            7.095553         8.465011         8.784773\n",
      "referral               0.695894         0.915723         1.677665\n",
      "display                2.169825         3.488778         7.618080\n",
      "organic_search         0.000000         0.000000         0.000000\n",
      "social                 1.923693         2.726281         5.534034\n",
      "direct                 0.000000         0.000000         0.000000\n",
      "email                  3.813883         5.014207         6.793478\n"
     ]
    }
   ],
   "source": [
    "# print implied CAC\n",
    "for m in CAC_dfs.keys():\n",
    "    print('\\n%s attribution model implied CAC:' % m)\n",
    "    print(CAC_dfs[m][['marginal_CAC_t1', 'marginal_CAC_t2', 'marginal_CAC_t3']])"
   ]
  },
  {
   "cell_type": "code",
   "execution_count": null,
   "metadata": {},
   "outputs": [],
   "source": []
  },
  {
   "cell_type": "code",
   "execution_count": 78,
   "metadata": {},
   "outputs": [],
   "source": [
    "# also print average results for comparison"
   ]
  },
  {
   "cell_type": "code",
   "execution_count": 55,
   "metadata": {},
   "outputs": [
    {
     "data": {
      "text/html": [
       "<div>\n",
       "<style scoped>\n",
       "    .dataframe tbody tr th:only-of-type {\n",
       "        vertical-align: middle;\n",
       "    }\n",
       "\n",
       "    .dataframe tbody tr th {\n",
       "        vertical-align: top;\n",
       "    }\n",
       "\n",
       "    .dataframe thead th {\n",
       "        text-align: right;\n",
       "    }\n",
       "</style>\n",
       "<table border=\"1\" class=\"dataframe\">\n",
       "  <thead>\n",
       "    <tr style=\"text-align: right;\">\n",
       "      <th></th>\n",
       "      <th>marginal_conversions_t1</th>\n",
       "      <th>marginal_spend_t1</th>\n",
       "      <th>marginal_CAC_t1</th>\n",
       "      <th>marginal_conversions_t2</th>\n",
       "      <th>marginal_spend_t2</th>\n",
       "      <th>marginal_CAC_t2</th>\n",
       "      <th>marginal_conversions_t3</th>\n",
       "      <th>marginal_spend_t3</th>\n",
       "      <th>marginal_CAC_t3</th>\n",
       "    </tr>\n",
       "  </thead>\n",
       "  <tbody>\n",
       "    <tr>\n",
       "      <th>paid_search</th>\n",
       "      <td>176.0</td>\n",
       "      <td>1000.0</td>\n",
       "      <td>5.681818</td>\n",
       "      <td>171.0</td>\n",
       "      <td>1000.0</td>\n",
       "      <td>5.847953</td>\n",
       "      <td>134.0</td>\n",
       "      <td>1000.0</td>\n",
       "      <td>7.462687</td>\n",
       "    </tr>\n",
       "    <tr>\n",
       "      <th>referral</th>\n",
       "      <td>1211.0</td>\n",
       "      <td>1000.0</td>\n",
       "      <td>0.825764</td>\n",
       "      <td>896.0</td>\n",
       "      <td>1000.0</td>\n",
       "      <td>1.116071</td>\n",
       "      <td>589.0</td>\n",
       "      <td>1000.0</td>\n",
       "      <td>1.697793</td>\n",
       "    </tr>\n",
       "    <tr>\n",
       "      <th>display</th>\n",
       "      <td>528.0</td>\n",
       "      <td>1000.0</td>\n",
       "      <td>1.893939</td>\n",
       "      <td>290.0</td>\n",
       "      <td>1000.0</td>\n",
       "      <td>3.448276</td>\n",
       "      <td>128.0</td>\n",
       "      <td>1000.0</td>\n",
       "      <td>7.812500</td>\n",
       "    </tr>\n",
       "    <tr>\n",
       "      <th>organic_search</th>\n",
       "      <td>2.0</td>\n",
       "      <td>0.0</td>\n",
       "      <td>0.000000</td>\n",
       "      <td>2.0</td>\n",
       "      <td>0.0</td>\n",
       "      <td>0.000000</td>\n",
       "      <td>1.0</td>\n",
       "      <td>0.0</td>\n",
       "      <td>0.000000</td>\n",
       "    </tr>\n",
       "    <tr>\n",
       "      <th>social</th>\n",
       "      <td>625.0</td>\n",
       "      <td>1000.0</td>\n",
       "      <td>1.600000</td>\n",
       "      <td>435.0</td>\n",
       "      <td>1000.0</td>\n",
       "      <td>2.298851</td>\n",
       "      <td>215.0</td>\n",
       "      <td>1000.0</td>\n",
       "      <td>4.651163</td>\n",
       "    </tr>\n",
       "    <tr>\n",
       "      <th>direct</th>\n",
       "      <td>1.0</td>\n",
       "      <td>0.0</td>\n",
       "      <td>0.000000</td>\n",
       "      <td>0.0</td>\n",
       "      <td>0.0</td>\n",
       "      <td>NaN</td>\n",
       "      <td>4.0</td>\n",
       "      <td>0.0</td>\n",
       "      <td>0.000000</td>\n",
       "    </tr>\n",
       "    <tr>\n",
       "      <th>email</th>\n",
       "      <td>281.0</td>\n",
       "      <td>1000.0</td>\n",
       "      <td>3.558719</td>\n",
       "      <td>274.0</td>\n",
       "      <td>1000.0</td>\n",
       "      <td>3.649635</td>\n",
       "      <td>100.0</td>\n",
       "      <td>1000.0</td>\n",
       "      <td>10.000000</td>\n",
       "    </tr>\n",
       "  </tbody>\n",
       "</table>\n",
       "</div>"
      ],
      "text/plain": [
       "                marginal_conversions_t1  marginal_spend_t1  marginal_CAC_t1  \\\n",
       "paid_search                       176.0             1000.0         5.681818   \n",
       "referral                         1211.0             1000.0         0.825764   \n",
       "display                           528.0             1000.0         1.893939   \n",
       "organic_search                      2.0                0.0         0.000000   \n",
       "social                            625.0             1000.0         1.600000   \n",
       "direct                              1.0                0.0         0.000000   \n",
       "email                             281.0             1000.0         3.558719   \n",
       "\n",
       "                marginal_conversions_t2  marginal_spend_t2  marginal_CAC_t2  \\\n",
       "paid_search                       171.0             1000.0         5.847953   \n",
       "referral                          896.0             1000.0         1.116071   \n",
       "display                           290.0             1000.0         3.448276   \n",
       "organic_search                      2.0                0.0         0.000000   \n",
       "social                            435.0             1000.0         2.298851   \n",
       "direct                              0.0                0.0              NaN   \n",
       "email                             274.0             1000.0         3.649635   \n",
       "\n",
       "                marginal_conversions_t3  marginal_spend_t3  marginal_CAC_t3  \n",
       "paid_search                       134.0             1000.0         7.462687  \n",
       "referral                          589.0             1000.0         1.697793  \n",
       "display                           128.0             1000.0         7.812500  \n",
       "organic_search                      1.0                0.0         0.000000  \n",
       "social                            215.0             1000.0         4.651163  \n",
       "direct                              4.0                0.0         0.000000  \n",
       "email                             100.0             1000.0        10.000000  "
      ]
     },
     "execution_count": 55,
     "metadata": {},
     "output_type": "execute_result"
    }
   ],
   "source": [
    "df_CAC"
   ]
  },
  {
   "cell_type": "code",
   "execution_count": null,
   "metadata": {},
   "outputs": [],
   "source": []
  },
  {
   "cell_type": "code",
   "execution_count": 63,
   "metadata": {},
   "outputs": [
    {
     "data": {
      "text/plain": [
       "marginal_conversions_t1     176.000000\n",
       "marginal_spend_t1          1000.000000\n",
       "marginal_CAC_t1               5.681818\n",
       "marginal_conversions_t2     171.000000\n",
       "marginal_spend_t2          1000.000000\n",
       "marginal_CAC_t2               5.847953\n",
       "marginal_conversions_t3     134.000000\n",
       "marginal_spend_t3          1000.000000\n",
       "marginal_CAC_t3               7.462687\n",
       "Name: paid_search, dtype: float64"
      ]
     },
     "execution_count": 63,
     "metadata": {},
     "output_type": "execute_result"
    }
   ],
   "source": [
    "# check 'paid_search' channel\n",
    "paid_search = df_CAC.loc['paid_search']\n",
    "paid_search"
   ]
  },
  {
   "cell_type": "code",
   "execution_count": 66,
   "metadata": {},
   "outputs": [],
   "source": [
    "data = [['t1', paid_search[1], paid_search[0], paid_search[1]/paid_search[0],\n",
    "        paid_search[1], paid_search[0], paid_search[2]],\n",
    "        ['t2', paid_search[1]+paid_search[4], paid_search[0]+paid_search[3], \n",
    "         (paid_search[1]+paid_search[4])/(paid_search[0]+paid_search[3]),\n",
    "        paid_search[4], paid_search[3], paid_search[5]],\n",
    "        ['t3', paid_search[1]+paid_search[4]+paid_search[7], \n",
    "         paid_search[0]+paid_search[3]+paid_search[6], \n",
    "         (paid_search[1]+paid_search[4]+paid_search[7])/(paid_search[0]+paid_search[3]+paid_search[6]),\n",
    "        paid_search[7], paid_search[6], paid_search[8]]]"
   ]
  },
  {
   "cell_type": "code",
   "execution_count": 67,
   "metadata": {},
   "outputs": [
    {
     "data": {
      "text/html": [
       "<div>\n",
       "<style scoped>\n",
       "    .dataframe tbody tr th:only-of-type {\n",
       "        vertical-align: middle;\n",
       "    }\n",
       "\n",
       "    .dataframe tbody tr th {\n",
       "        vertical-align: top;\n",
       "    }\n",
       "\n",
       "    .dataframe thead th {\n",
       "        text-align: right;\n",
       "    }\n",
       "</style>\n",
       "<table border=\"1\" class=\"dataframe\">\n",
       "  <thead>\n",
       "    <tr style=\"text-align: right;\">\n",
       "      <th></th>\n",
       "      <th>tier</th>\n",
       "      <th>cum_spend</th>\n",
       "      <th>cum_conversions</th>\n",
       "      <th>average_CAC</th>\n",
       "      <th>marginal_spend</th>\n",
       "      <th>marginal_conversions</th>\n",
       "      <th>marginal_CAC</th>\n",
       "    </tr>\n",
       "  </thead>\n",
       "  <tbody>\n",
       "    <tr>\n",
       "      <th>0</th>\n",
       "      <td>t1</td>\n",
       "      <td>1000.0</td>\n",
       "      <td>176.0</td>\n",
       "      <td>5.681818</td>\n",
       "      <td>1000.0</td>\n",
       "      <td>176.0</td>\n",
       "      <td>5.681818</td>\n",
       "    </tr>\n",
       "    <tr>\n",
       "      <th>1</th>\n",
       "      <td>t2</td>\n",
       "      <td>2000.0</td>\n",
       "      <td>347.0</td>\n",
       "      <td>5.763689</td>\n",
       "      <td>1000.0</td>\n",
       "      <td>171.0</td>\n",
       "      <td>5.847953</td>\n",
       "    </tr>\n",
       "    <tr>\n",
       "      <th>2</th>\n",
       "      <td>t3</td>\n",
       "      <td>3000.0</td>\n",
       "      <td>481.0</td>\n",
       "      <td>6.237006</td>\n",
       "      <td>1000.0</td>\n",
       "      <td>134.0</td>\n",
       "      <td>7.462687</td>\n",
       "    </tr>\n",
       "  </tbody>\n",
       "</table>\n",
       "</div>"
      ],
      "text/plain": [
       "  tier  cum_spend  cum_conversions  average_CAC  marginal_spend  \\\n",
       "0   t1     1000.0            176.0     5.681818          1000.0   \n",
       "1   t2     2000.0            347.0     5.763689          1000.0   \n",
       "2   t3     3000.0            481.0     6.237006          1000.0   \n",
       "\n",
       "   marginal_conversions  marginal_CAC  \n",
       "0                 176.0      5.681818  \n",
       "1                 171.0      5.847953  \n",
       "2                 134.0      7.462687  "
      ]
     },
     "execution_count": 67,
     "metadata": {},
     "output_type": "execute_result"
    }
   ],
   "source": [
    "pd.DataFrame(data, columns = ['tier', 'cum_spend', 'cum_conversions', 'average_CAC', \n",
    "                              'marginal_spend', 'marginal_conversions', 'marginal_CAC'])"
   ]
  },
  {
   "cell_type": "code",
   "execution_count": null,
   "metadata": {},
   "outputs": [],
   "source": []
  },
  {
   "cell_type": "code",
   "execution_count": 69,
   "metadata": {},
   "outputs": [
    {
     "data": {
      "text/plain": [
       "Index(['paid_search', 'referral', 'display', 'organic_search', 'social',\n",
       "       'direct', 'email'],\n",
       "      dtype='object')"
      ]
     },
     "execution_count": 69,
     "metadata": {},
     "output_type": "execute_result"
    }
   ],
   "source": [
    "channels = df_CAC.index\n",
    "channels"
   ]
  },
  {
   "cell_type": "code",
   "execution_count": 76,
   "metadata": {},
   "outputs": [
    {
     "name": "stdout",
     "output_type": "stream",
     "text": [
      "paid_search\n",
      "  tier  cum_spend  cum_conversions  average_CAC\n",
      "0   t1     1000.0            176.0     5.681818\n",
      "1   t2     2000.0            347.0     5.763689\n",
      "2   t3     3000.0            481.0     6.237006\n",
      "referral\n",
      "  tier  cum_spend  cum_conversions  average_CAC\n",
      "0   t1     1000.0           1211.0     0.825764\n",
      "1   t2     2000.0           2107.0     0.949217\n",
      "2   t3     3000.0           2696.0     1.112760\n",
      "display\n",
      "  tier  cum_spend  cum_conversions  average_CAC\n",
      "0   t1     1000.0            528.0     1.893939\n",
      "1   t2     2000.0            818.0     2.444988\n",
      "2   t3     3000.0            946.0     3.171247\n",
      "organic_search\n",
      "  tier  cum_spend  cum_conversions  average_CAC\n",
      "0   t1        0.0              2.0          0.0\n",
      "1   t2        0.0              4.0          0.0\n",
      "2   t3        0.0              5.0          0.0\n",
      "social\n",
      "  tier  cum_spend  cum_conversions  average_CAC\n",
      "0   t1     1000.0            625.0     1.600000\n",
      "1   t2     2000.0           1060.0     1.886792\n",
      "2   t3     3000.0           1275.0     2.352941\n",
      "direct\n",
      "  tier  cum_spend  cum_conversions  average_CAC\n",
      "0   t1        0.0              1.0          0.0\n",
      "1   t2        0.0              1.0          0.0\n",
      "2   t3        0.0              5.0          0.0\n",
      "email\n",
      "  tier  cum_spend  cum_conversions  average_CAC\n",
      "0   t1     1000.0            281.0     3.558719\n",
      "1   t2     2000.0            555.0     3.603604\n",
      "2   t3     3000.0            655.0     4.580153\n"
     ]
    }
   ],
   "source": [
    "for channel in channels:\n",
    "    # get channel data\n",
    "    channel_data = df_CAC.loc[channel]\n",
    "    # structure data\n",
    "    data_full = [['t1', channel_data[1], channel_data[0], channel_data[1]/channel_data[0],\n",
    "        channel_data[1], channel_data[0], channel_data[2]],\n",
    "        ['t2', channel_data[1]+channel_data[4], channel_data[0]+channel_data[3], \n",
    "         (channel_data[1]+channel_data[4])/(channel_data[0]+channel_data[3]),\n",
    "        channel_data[4], channel_data[3], channel_data[5]],\n",
    "        ['t3', channel_data[1]+channel_data[4]+channel_data[7], \n",
    "         channel_data[0]+channel_data[3]+channel_data[6], \n",
    "         (channel_data[1]+channel_data[4]+channel_data[7])/(channel_data[0]+channel_data[3]+channel_data[6]),\n",
    "        channel_data[7], channel_data[6], channel_data[8]]]\n",
    "    data_average_only = [['t1', channel_data[1], channel_data[0], channel_data[1]/channel_data[0]],\n",
    "        ['t2', channel_data[1]+channel_data[4], channel_data[0]+channel_data[3], \n",
    "         (channel_data[1]+channel_data[4])/(channel_data[0]+channel_data[3])],\n",
    "        ['t3', channel_data[1]+channel_data[4]+channel_data[7], \n",
    "         channel_data[0]+channel_data[3]+channel_data[6], \n",
    "         (channel_data[1]+channel_data[4]+channel_data[7])/(channel_data[0]+channel_data[3]+channel_data[6])]]\n",
    "    # create dataframe\n",
    "    channel_df = pd.DataFrame(data_full, columns = ['tier', 'cum_spend', 'cum_conversions', 'average_CAC', \n",
    "                              'marginal_spend', 'marginal_conversions', 'marginal_CAC'])\n",
    "    channel_df_average_only = pd.DataFrame(data_average_only, columns = ['tier', \n",
    "                              'cum_spend', 'cum_conversions', 'average_CAC'])\n",
    "    print(channel)\n",
    "    print(channel_df_average_only)"
   ]
  },
  {
   "cell_type": "code",
   "execution_count": null,
   "metadata": {},
   "outputs": [],
   "source": []
  },
  {
   "cell_type": "code",
   "execution_count": null,
   "metadata": {},
   "outputs": [],
   "source": []
  },
  {
   "cell_type": "markdown",
   "metadata": {},
   "source": [
    "### plots"
   ]
  },
  {
   "cell_type": "code",
   "execution_count": 99,
   "metadata": {},
   "outputs": [
    {
     "name": "stdout",
     "output_type": "stream",
     "text": [
      "paid_search\n",
      "  tier  cum_spend  cum_conversions  average_CAC  marginal_spend  \\\n",
      "0   t1     1000.0            176.0     5.681818          1000.0   \n",
      "1   t2     2000.0            347.0     5.763689          1000.0   \n",
      "2   t3     3000.0            481.0     6.237006          1000.0   \n",
      "\n",
      "   marginal_conversions  marginal_CAC  \n",
      "0                 176.0      5.681818  \n",
      "1                 171.0      5.847953  \n",
      "2                 134.0      7.462687  \n",
      "referral\n",
      "  tier  cum_spend  cum_conversions  average_CAC  marginal_spend  \\\n",
      "0   t1     1000.0           1211.0     0.825764          1000.0   \n",
      "1   t2     2000.0           2107.0     0.949217          1000.0   \n",
      "2   t3     3000.0           2696.0     1.112760          1000.0   \n",
      "\n",
      "   marginal_conversions  marginal_CAC  \n",
      "0                1211.0      0.825764  \n",
      "1                 896.0      1.116071  \n",
      "2                 589.0      1.697793  \n",
      "display\n",
      "  tier  cum_spend  cum_conversions  average_CAC  marginal_spend  \\\n",
      "0   t1     1000.0            528.0     1.893939          1000.0   \n",
      "1   t2     2000.0            818.0     2.444988          1000.0   \n",
      "2   t3     3000.0            946.0     3.171247          1000.0   \n",
      "\n",
      "   marginal_conversions  marginal_CAC  \n",
      "0                 528.0      1.893939  \n",
      "1                 290.0      3.448276  \n",
      "2                 128.0      7.812500  \n",
      "organic_search\n",
      "  tier  cum_spend  cum_conversions  average_CAC  marginal_spend  \\\n",
      "0   t1        0.0              2.0          0.0             0.0   \n",
      "1   t2        0.0              4.0          0.0             0.0   \n",
      "2   t3        0.0              5.0          0.0             0.0   \n",
      "\n",
      "   marginal_conversions  marginal_CAC  \n",
      "0                   2.0           0.0  \n",
      "1                   2.0           0.0  \n",
      "2                   1.0           0.0  \n",
      "social\n",
      "  tier  cum_spend  cum_conversions  average_CAC  marginal_spend  \\\n",
      "0   t1     1000.0            625.0     1.600000          1000.0   \n",
      "1   t2     2000.0           1060.0     1.886792          1000.0   \n",
      "2   t3     3000.0           1275.0     2.352941          1000.0   \n",
      "\n",
      "   marginal_conversions  marginal_CAC  \n",
      "0                 625.0      1.600000  \n",
      "1                 435.0      2.298851  \n",
      "2                 215.0      4.651163  \n",
      "direct\n",
      "  tier  cum_spend  cum_conversions  average_CAC  marginal_spend  \\\n",
      "0   t1        0.0              1.0          0.0             0.0   \n",
      "1   t2        0.0              1.0          0.0             0.0   \n",
      "2   t3        0.0              5.0          0.0             0.0   \n",
      "\n",
      "   marginal_conversions  marginal_CAC  \n",
      "0                   1.0           0.0  \n",
      "1                   0.0           NaN  \n",
      "2                   4.0           0.0  \n",
      "email\n",
      "  tier  cum_spend  cum_conversions  average_CAC  marginal_spend  \\\n",
      "0   t1     1000.0            281.0     3.558719          1000.0   \n",
      "1   t2     2000.0            555.0     3.603604          1000.0   \n",
      "2   t3     3000.0            655.0     4.580153          1000.0   \n",
      "\n",
      "   marginal_conversions  marginal_CAC  \n",
      "0                 281.0      3.558719  \n",
      "1                 274.0      3.649635  \n",
      "2                 100.0     10.000000  \n"
     ]
    },
    {
     "name": "stderr",
     "output_type": "stream",
     "text": [
      "/Library/Frameworks/Python.framework/Versions/3.8/lib/python3.8/site-packages/matplotlib/cbook/__init__.py:1402: FutureWarning: Support for multi-dimensional indexing (e.g. `obj[:, None]`) is deprecated and will be removed in a future version.  Convert to a numpy array before indexing instead.\n",
      "  ndim = x[:, None].ndim\n",
      "/Library/Frameworks/Python.framework/Versions/3.8/lib/python3.8/site-packages/matplotlib/axes/_base.py:278: FutureWarning: Support for multi-dimensional indexing (e.g. `obj[:, None]`) is deprecated and will be removed in a future version.  Convert to a numpy array before indexing instead.\n",
      "  y = y[:, np.newaxis]\n",
      "/Library/Frameworks/Python.framework/Versions/3.8/lib/python3.8/site-packages/matplotlib/cbook/__init__.py:1402: FutureWarning: Support for multi-dimensional indexing (e.g. `obj[:, None]`) is deprecated and will be removed in a future version.  Convert to a numpy array before indexing instead.\n",
      "  ndim = x[:, None].ndim\n",
      "/Library/Frameworks/Python.framework/Versions/3.8/lib/python3.8/site-packages/matplotlib/axes/_base.py:278: FutureWarning: Support for multi-dimensional indexing (e.g. `obj[:, None]`) is deprecated and will be removed in a future version.  Convert to a numpy array before indexing instead.\n",
      "  y = y[:, np.newaxis]\n",
      "/Library/Frameworks/Python.framework/Versions/3.8/lib/python3.8/site-packages/matplotlib/cbook/__init__.py:1402: FutureWarning: Support for multi-dimensional indexing (e.g. `obj[:, None]`) is deprecated and will be removed in a future version.  Convert to a numpy array before indexing instead.\n",
      "  ndim = x[:, None].ndim\n",
      "/Library/Frameworks/Python.framework/Versions/3.8/lib/python3.8/site-packages/matplotlib/axes/_base.py:278: FutureWarning: Support for multi-dimensional indexing (e.g. `obj[:, None]`) is deprecated and will be removed in a future version.  Convert to a numpy array before indexing instead.\n",
      "  y = y[:, np.newaxis]\n",
      "/Library/Frameworks/Python.framework/Versions/3.8/lib/python3.8/site-packages/matplotlib/cbook/__init__.py:1402: FutureWarning: Support for multi-dimensional indexing (e.g. `obj[:, None]`) is deprecated and will be removed in a future version.  Convert to a numpy array before indexing instead.\n",
      "  ndim = x[:, None].ndim\n",
      "/Library/Frameworks/Python.framework/Versions/3.8/lib/python3.8/site-packages/matplotlib/axes/_base.py:278: FutureWarning: Support for multi-dimensional indexing (e.g. `obj[:, None]`) is deprecated and will be removed in a future version.  Convert to a numpy array before indexing instead.\n",
      "  y = y[:, np.newaxis]\n",
      "/Library/Frameworks/Python.framework/Versions/3.8/lib/python3.8/site-packages/matplotlib/cbook/__init__.py:1402: FutureWarning: Support for multi-dimensional indexing (e.g. `obj[:, None]`) is deprecated and will be removed in a future version.  Convert to a numpy array before indexing instead.\n",
      "  ndim = x[:, None].ndim\n",
      "/Library/Frameworks/Python.framework/Versions/3.8/lib/python3.8/site-packages/matplotlib/axes/_base.py:278: FutureWarning: Support for multi-dimensional indexing (e.g. `obj[:, None]`) is deprecated and will be removed in a future version.  Convert to a numpy array before indexing instead.\n",
      "  y = y[:, np.newaxis]\n",
      "/Library/Frameworks/Python.framework/Versions/3.8/lib/python3.8/site-packages/matplotlib/cbook/__init__.py:1402: FutureWarning: Support for multi-dimensional indexing (e.g. `obj[:, None]`) is deprecated and will be removed in a future version.  Convert to a numpy array before indexing instead.\n",
      "  ndim = x[:, None].ndim\n",
      "/Library/Frameworks/Python.framework/Versions/3.8/lib/python3.8/site-packages/matplotlib/axes/_base.py:278: FutureWarning: Support for multi-dimensional indexing (e.g. `obj[:, None]`) is deprecated and will be removed in a future version.  Convert to a numpy array before indexing instead.\n",
      "  y = y[:, np.newaxis]\n",
      "/Library/Frameworks/Python.framework/Versions/3.8/lib/python3.8/site-packages/matplotlib/cbook/__init__.py:1402: FutureWarning: Support for multi-dimensional indexing (e.g. `obj[:, None]`) is deprecated and will be removed in a future version.  Convert to a numpy array before indexing instead.\n",
      "  ndim = x[:, None].ndim\n",
      "/Library/Frameworks/Python.framework/Versions/3.8/lib/python3.8/site-packages/matplotlib/axes/_base.py:278: FutureWarning: Support for multi-dimensional indexing (e.g. `obj[:, None]`) is deprecated and will be removed in a future version.  Convert to a numpy array before indexing instead.\n",
      "  y = y[:, np.newaxis]\n"
     ]
    },
    {
     "data": {
      "image/png": "[encoded data removed]",
      "text/plain": [
       "<Figure size 432x288 with 1 Axes>"
      ]
     },
     "metadata": {
      "needs_background": "light"
     },
     "output_type": "display_data"
    }
   ],
   "source": [
    "for channel in channels:\n",
    "    # get channel data\n",
    "    channel_data = df_CAC.loc[channel]\n",
    "    # structure data\n",
    "    data_full = [['t1', channel_data[1], channel_data[0], channel_data[1]/channel_data[0],\n",
    "        channel_data[1], channel_data[0], channel_data[2]],\n",
    "        ['t2', channel_data[1]+channel_data[4], channel_data[0]+channel_data[3], \n",
    "         (channel_data[1]+channel_data[4])/(channel_data[0]+channel_data[3]),\n",
    "        channel_data[4], channel_data[3], channel_data[5]],\n",
    "        ['t3', channel_data[1]+channel_data[4]+channel_data[7], \n",
    "         channel_data[0]+channel_data[3]+channel_data[6], \n",
    "         (channel_data[1]+channel_data[4]+channel_data[7])/(channel_data[0]+channel_data[3]+channel_data[6]),\n",
    "        channel_data[7], channel_data[6], channel_data[8]]]\n",
    "    # create dataframe\n",
    "    channel_df = pd.DataFrame(data_full, columns = ['tier', 'cum_spend', 'cum_conversions', 'average_CAC', \n",
    "                              'marginal_spend', 'marginal_conversions', 'marginal_CAC'])\n",
    "    print(channel)\n",
    "    print(channel_df)\n",
    "    # plot\n",
    "    x = [1000, 2000, 3000]\n",
    "    y = channel_df['marginal_CAC']\n",
    "    plt.plot(x, y, label=channel)\n",
    "    plt.xlabel('cumulative spend')\n",
    "    plt.ylabel('marginal CAC')\n",
    "    plt.legend()"
   ]
  },
  {
   "cell_type": "code",
   "execution_count": null,
   "metadata": {},
   "outputs": [],
   "source": []
  },
  {
   "cell_type": "code",
   "execution_count": 101,
   "metadata": {},
   "outputs": [
    {
     "data": {
      "text/html": [
       "<div>\n",
       "<style scoped>\n",
       "    .dataframe tbody tr th:only-of-type {\n",
       "        vertical-align: middle;\n",
       "    }\n",
       "\n",
       "    .dataframe tbody tr th {\n",
       "        vertical-align: top;\n",
       "    }\n",
       "\n",
       "    .dataframe thead th {\n",
       "        text-align: right;\n",
       "    }\n",
       "</style>\n",
       "<table border=\"1\" class=\"dataframe\">\n",
       "  <thead>\n",
       "    <tr style=\"text-align: right;\">\n",
       "      <th></th>\n",
       "      <th>model</th>\n",
       "      <th>channel</th>\n",
       "      <th>spend</th>\n",
       "    </tr>\n",
       "  </thead>\n",
       "  <tbody>\n",
       "    <tr>\n",
       "      <th>0</th>\n",
       "      <td>last_touch_point</td>\n",
       "      <td>social</td>\n",
       "      <td>3000</td>\n",
       "    </tr>\n",
       "  </tbody>\n",
       "</table>\n",
       "</div>"
      ],
      "text/plain": [
       "              model channel  spend\n",
       "0  last_touch_point  social   3000"
      ]
     },
     "execution_count": 101,
     "metadata": {},
     "output_type": "execute_result"
    }
   ],
   "source": [
    "df_final = pd.read_csv('model_channel_spend.csv')\n",
    "df_final.head(1)"
   ]
  },
  {
   "cell_type": "code",
   "execution_count": 105,
   "metadata": {},
   "outputs": [],
   "source": [
    "channels = list(set(df_final['channel']))\n",
    "models = list(set(df_final['model']))"
   ]
  },
  {
   "cell_type": "code",
   "execution_count": 108,
   "metadata": {},
   "outputs": [
    {
     "data": {
      "text/plain": [
       "['paid_search', 'referral', 'display', 'social', 'email']"
      ]
     },
     "execution_count": 108,
     "metadata": {},
     "output_type": "execute_result"
    }
   ],
   "source": [
    "channels"
   ]
  },
  {
   "cell_type": "code",
   "execution_count": 109,
   "metadata": {},
   "outputs": [
    {
     "data": {
      "text/plain": [
       "['first_touch_point', 'last_non_direct', 'last_touch_point']"
      ]
     },
     "execution_count": 109,
     "metadata": {},
     "output_type": "execute_result"
    }
   ],
   "source": [
    "models"
   ]
  },
  {
   "cell_type": "code",
   "execution_count": null,
   "metadata": {},
   "outputs": [],
   "source": []
  },
  {
   "cell_type": "code",
   "execution_count": 119,
   "metadata": {},
   "outputs": [
    {
     "data": {
      "image/png": "[encoded data removed]",
      "text/plain": [
       "<Figure size 576x360 with 1 Axes>"
      ]
     },
     "metadata": {
      "needs_background": "light"
     },
     "output_type": "display_data"
    }
   ],
   "source": [
    "N = 5\n",
    "ind = np.arange(N)\n",
    "\n",
    "# x: channel\n",
    "# y: spend\n",
    "# category: model\n",
    "\n",
    "# channel\n",
    "channels = ['paid_search', 'referral', 'display', 'social', 'email']\n",
    "\n",
    "# model\n",
    "last_touch_point = [1000, 3000, 2000, 3000, 2000]\n",
    "first_touch_point = [1000, 3000, 2000, 3000, 2000]\n",
    "last_non_direct = [1000, 3000, 2000, 3000, 2000]\n",
    "\n",
    "width = 0.10\n",
    "\n",
    "fig = plt.figure(figsize=(8,5))\n",
    "ax = fig.add_subplot(111)\n",
    "rects1 = ax.bar(ind, first_touch_point, width, color='royalblue', label='first_touch_point')\n",
    "rects2 = ax.bar(ind+width, last_non_direct, width, color='seagreen', label='last_non_direct')\n",
    "rects3 = ax.bar(ind+width*2, last_touch_point, width, color='salmon', label='last_touch_point')\n",
    "\n",
    "# add some\n",
    "ax.set_ylabel('Total Spend')\n",
    "ax.set_title('Total Spend On Different Channels Compared by Models')\n",
    "ax.set_xticks(ind + width / 2)\n",
    "ax.set_xticklabels(channels)\n",
    "\n",
    "ax.legend()\n",
    "plt.show()"
   ]
  },
  {
   "cell_type": "code",
   "execution_count": null,
   "metadata": {},
   "outputs": [],
   "source": []
  }
 ],
 "metadata": {
  "kernelspec": {
   "display_name": "Python 3.8.1 64-bit",
   "language": "python",
   "name": "python38164bit0209044da7c742dab8314e0953beb93b"
  },
  "language_info": {
   "codemirror_mode": {
    "name": "ipython",
    "version": 3
   },
   "file_extension": ".py",
   "mimetype": "text/x-python",
   "name": "python",
   "nbconvert_exporter": "python",
   "pygments_lexer": "ipython3",
   "version": "3.8.1"
  }
 },
 "nbformat": 4,
 "nbformat_minor": 4
}
