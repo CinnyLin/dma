{
 "cells": [
  {
   "cell_type": "code",
   "execution_count": null,
   "metadata": {},
   "outputs": [],
   "source": []
  },
  {
   "cell_type": "markdown",
   "metadata": {},
   "source": [
    "### ----- Import Requirements -----"
   ]
  },
  {
   "cell_type": "code",
   "execution_count": 1,
   "metadata": {},
   "outputs": [],
   "source": [
    "import pandas as pd\n",
    "import numpy as np"
   ]
  },
  {
   "cell_type": "code",
   "execution_count": null,
   "metadata": {},
   "outputs": [],
   "source": []
  },
  {
   "cell_type": "markdown",
   "metadata": {},
   "source": [
    "### ----- Define Functions -----"
   ]
  },
  {
   "cell_type": "code",
   "execution_count": 32,
   "metadata": {},
   "outputs": [],
   "source": [
    "# five allocation models\n",
    "\n",
    "#last touchpoint\n",
    "def find_last_touchpoint(t_row, touch_col_prepend_f, max_touches_f):\n",
    "    for t in range(max_touches_f, 0, -1):\n",
    "        t_val = t_row[touch_col_prepend_f + str(t)]\n",
    "        try:\n",
    "            if isinstance(t_val, str):\n",
    "                return t_val\n",
    "        except:\n",
    "            None\n",
    "    return None\n",
    "\n",
    "# first touchpoint\n",
    "def find_first_touchpoint(t_row, touch_col_prepend_f, max_touches_f):\n",
    "    for t in range(1, max_touches_f + 1):\n",
    "        t_val = t_row[touch_col_prepend_f + str(t)]\n",
    "        try:\n",
    "            if isinstance(t_val, str):\n",
    "                return t_val\n",
    "        except:\n",
    "            None\n",
    "    return None\n",
    "\n",
    "#last non-direct touch point\n",
    "def find_last_nondirect_touchpoint(t_row, touch_col_prepend_f, max_touches_f, direct_label_f):\n",
    "    for t in range(max_touches_f, 0, -1):\n",
    "        t_val = t_row[touch_col_prepend_f + str(t)]\n",
    "        try:\n",
    "            if isinstance(t_val, str) and t_val != direct_label_f:\n",
    "                return t_val\n",
    "        except:\n",
    "            None\n",
    "    return None"
   ]
  },
  {
   "cell_type": "code",
   "execution_count": 33,
   "metadata": {},
   "outputs": [],
   "source": [
    "def assign_credit(t_row, cred_col_names_f, touch_col_names_f, cred_col_post_pend_f, model_type_f, first_weight_f=0.5, last_weight_f=0.5):\n",
    "    # function assigns a credit to each relevant channel based on user specified model type, e.g. \"last_touch_point\", \"first_touch_point\", etc.\n",
    "    t_dict = dict(zip(cred_col_names_f, [0]*len(cred_col_names_f)))\n",
    "\n",
    "    if model_type_f == 'last_touch_point':\n",
    "        # last\n",
    "        t_dict.update({t_row['last_touch_point'] + cred_col_post_pend_f: 1})\n",
    "        return t_dict\n",
    "    elif model_type_f == 'first_touch_point':\n",
    "        # first\n",
    "        t_dict.update({t_row['first_touch_point'] + cred_col_post_pend_f: 1})\n",
    "        return t_dict\n",
    "    elif model_type_f == 'last_nondirect_touch_point':\n",
    "        # last_non_direct\n",
    "        try:\n",
    "            t_dict.update(\n",
    "                {t_row['last_nondirect_touch_point'] + cred_col_post_pend_f: 1})\n",
    "            return t_dict\n",
    "        except TypeError:\n",
    "            # case where there is no other channel\n",
    "            t_dict.update({'direct' + cred_col_post_pend_f: 1})\n",
    "            return t_dict\n",
    "    elif (model_type_f == 'linear') or (model_type_f == 'position'):\n",
    "        # linear and position based\n",
    "        t_channels = [x for x in t_row[touch_col_names_f]\n",
    "                      if isinstance(x, str)]\n",
    "        if model_type_f == 'linear':\n",
    "            # linear weights\n",
    "            t_weights = [1 / len(t_channels)] * len(t_channels)\n",
    "        elif model_type_f == 'position':\n",
    "            # position based weights (first and last specified, middle divided evenly)\n",
    "            if len(t_channels) > 2:\n",
    "                t_weights = [first_weight_f] + [(1 - (first_weight_f + last_weight_f)) / (\n",
    "                    len(t_channels) - 2)] * (len(t_channels) - 2) + [last_weight_f]\n",
    "            elif len(t_channels) == 1:\n",
    "                t_weights = [1]\n",
    "            else:\n",
    "                t_weights = [first_weight_f] + [last_weight_f]\n",
    "\n",
    "        t_weights = [x / sum(t_weights)\n",
    "                     for x in t_weights]     # ensure weights sum to 1\n",
    "        for i in range(0, len(t_weights)):\n",
    "            t_key = t_channels[i] + '_credit'\n",
    "            t_value = t_dict[t_key] + t_weights[i]\n",
    "            t_dict.update({t_key: t_value})\n",
    "        return t_dict\n",
    "    else:\n",
    "        return t_dict"
   ]
  },
  {
   "cell_type": "code",
   "execution_count": 34,
   "metadata": {},
   "outputs": [],
   "source": [
    "def get_attribution_by_channel(df_f, credit_col_postpend_f):\n",
    "    allocated_conversions = df_f[cred_col_names].sum()  # sum of each credit\n",
    "    n_allocated_conversions = df_f[cred_col_names].sum().sum()  # sum of all credits\n",
    "    n_total_conversions = df_f.convert_TF.sum()   # number of Trues\n",
    "    if n_allocated_conversions != n_total_conversions:\n",
    "        print('WARNING: allocation error. Sum of allocated conversions = %d. Sum of total conversions = %d' % (\n",
    "            int(n_allocated_conversions), int(n_total_conversions)))\n",
    "\n",
    "    channel_allocation_f = pd.Series(dict(zip([x.split(credit_col_postpend_f)[\n",
    "                                     0] for x in allocated_conversions.keys()], list(allocated_conversions.array))))\n",
    "    return channel_allocation_f"
   ]
  },
  {
   "cell_type": "code",
   "execution_count": 35,
   "metadata": {},
   "outputs": [],
   "source": [
    "def calc_avg_CAC(channel_allocation_f, channel_spend_f):\n",
    "    t_df = pd.DataFrame(channel_allocation_f)\n",
    "    t_df.columns = ['channel_allocation']\n",
    "    for t_ind, _ in t_df.iterrows():\n",
    "        t_df.loc[t_ind, 'channel_spend'] = channel_spend_f[t_ind]\n",
    "    t_df['CAC'] = t_df['channel_spend'] / t_df['channel_allocation']\n",
    "    t_df['CAC'].replace(np.inf, 0, inplace=True)\n",
    "    return t_df"
   ]
  },
  {
   "cell_type": "code",
   "execution_count": null,
   "metadata": {},
   "outputs": [],
   "source": [
    "def calc_marginal_CAC(n_conversions_low_tier, spend_low_tier, n_conversions_high_tier, spend_high_tier):\n",
    "    # fill in this code to create the three variables in output dictionary\n",
    "    return {'marginal_conversions': marginal_conversions, 'marginal_spend': marginal_spend,\n",
    "            'marginal_CAC': marginal_CAC}"
   ]
  },
  {
   "cell_type": "code",
   "execution_count": null,
   "metadata": {},
   "outputs": [],
   "source": []
  },
  {
   "cell_type": "markdown",
   "metadata": {},
   "source": [
    "`get_attribution_by_channel`"
   ]
  },
  {
   "cell_type": "code",
   "execution_count": 75,
   "metadata": {},
   "outputs": [
    {
     "data": {
      "text/plain": [
       "paid_search_credit       0\n",
       "email_credit             0\n",
       "organic_search_credit    0\n",
       "referral_credit          0\n",
       "social_credit            0\n",
       "display_credit           0\n",
       "direct_credit            0\n",
       "dtype: int64"
      ]
     },
     "execution_count": 75,
     "metadata": {},
     "output_type": "execute_result"
    }
   ],
   "source": [
    "#allocated_conversions\n",
    "df[cred_col_names].sum()"
   ]
  },
  {
   "cell_type": "code",
   "execution_count": 69,
   "metadata": {},
   "outputs": [
    {
     "data": {
      "text/plain": [
       "0"
      ]
     },
     "execution_count": 69,
     "metadata": {},
     "output_type": "execute_result"
    }
   ],
   "source": [
    "# n_allocated_conversions\n",
    "df[cred_col_names].sum().sum()"
   ]
  },
  {
   "cell_type": "code",
   "execution_count": 70,
   "metadata": {},
   "outputs": [
    {
     "data": {
      "text/plain": [
       "13779"
      ]
     },
     "execution_count": 70,
     "metadata": {},
     "output_type": "execute_result"
    }
   ],
   "source": [
    "# n_total_conversions\n",
    "df.convert_TF.sum()"
   ]
  },
  {
   "cell_type": "code",
   "execution_count": 71,
   "metadata": {},
   "outputs": [
    {
     "data": {
      "text/plain": [
       "False    54345\n",
       "True     13779\n",
       "Name: convert_TF, dtype: int64"
      ]
     },
     "execution_count": 71,
     "metadata": {},
     "output_type": "execute_result"
    }
   ],
   "source": [
    "df.convert_TF.value_counts()"
   ]
  },
  {
   "cell_type": "code",
   "execution_count": 86,
   "metadata": {},
   "outputs": [],
   "source": [
    "# channel_allocation_f\n",
    "#pd.Series(dict(zip([x.split(credit_col_postpend_f)[0] for x in allocated_conversions.keys()], \n",
    "                    #list(allocated_conversions.array))))"
   ]
  },
  {
   "cell_type": "code",
   "execution_count": 67,
   "metadata": {},
   "outputs": [
    {
     "data": {
      "text/plain": [
       "[0, 0, 0, 0, 0, 0, 0]"
      ]
     },
     "execution_count": 67,
     "metadata": {},
     "output_type": "execute_result"
    }
   ],
   "source": [
    "list(df[cred_col_names].sum().array)"
   ]
  },
  {
   "cell_type": "code",
   "execution_count": 76,
   "metadata": {},
   "outputs": [
    {
     "data": {
      "text/plain": [
       "Index(['paid_search_credit', 'email_credit', 'organic_search_credit',\n",
       "       'referral_credit', 'social_credit', 'display_credit', 'direct_credit'],\n",
       "      dtype='object')"
      ]
     },
     "execution_count": 76,
     "metadata": {},
     "output_type": "execute_result"
    }
   ],
   "source": [
    "df[cred_col_names].sum().keys() # cred_col_names"
   ]
  },
  {
   "cell_type": "code",
   "execution_count": 81,
   "metadata": {},
   "outputs": [
    {
     "data": {
      "text/plain": [
       "['paid_search',\n",
       " 'email',\n",
       " 'organic_search',\n",
       " 'referral',\n",
       " 'social',\n",
       " 'display',\n",
       " 'direct']"
      ]
     },
     "execution_count": 81,
     "metadata": {},
     "output_type": "execute_result"
    }
   ],
   "source": [
    "[x.split('_credit')[0] for x in cred_col_names]"
   ]
  },
  {
   "cell_type": "code",
   "execution_count": 83,
   "metadata": {},
   "outputs": [
    {
     "data": {
      "text/plain": [
       "{'paid_search': 0,\n",
       " 'email': 0,\n",
       " 'organic_search': 0,\n",
       " 'referral': 0,\n",
       " 'social': 0,\n",
       " 'display': 0,\n",
       " 'direct': 0}"
      ]
     },
     "execution_count": 83,
     "metadata": {},
     "output_type": "execute_result"
    }
   ],
   "source": [
    "dict(zip([x.split('_credit')[0] for x in cred_col_names], list(df[cred_col_names].sum().array)))"
   ]
  },
  {
   "cell_type": "code",
   "execution_count": null,
   "metadata": {},
   "outputs": [],
   "source": []
  },
  {
   "cell_type": "code",
   "execution_count": null,
   "metadata": {},
   "outputs": [],
   "source": []
  },
  {
   "cell_type": "code",
   "execution_count": null,
   "metadata": {},
   "outputs": [],
   "source": []
  },
  {
   "cell_type": "markdown",
   "metadata": {},
   "source": [
    "### ----- Set parameters -----"
   ]
  },
  {
   "cell_type": "code",
   "execution_count": 2,
   "metadata": {},
   "outputs": [],
   "source": [
    "touch_col_prepend = 'touch'\n",
    "direct_label = 'direct'\n",
    "first_weight = 0.4\n",
    "last_weight = 0.4\n",
    "cred_col_post_pend = '_credit'\n",
    "select_model_types = ['last_touch_point', 'first_touch_point',\n",
    "                      'last_nondirect_touch_point', 'linear', 'position']\n",
    "write_to_file = True"
   ]
  },
  {
   "cell_type": "code",
   "execution_count": null,
   "metadata": {},
   "outputs": [],
   "source": []
  },
  {
   "cell_type": "markdown",
   "metadata": {},
   "source": [
    "### ----- Import data -----"
   ]
  },
  {
   "cell_type": "code",
   "execution_count": 3,
   "metadata": {},
   "outputs": [],
   "source": [
    "df = pd.read_pickle('attribution_allocation_student_data')\n",
    "channel_spend = pd.read_pickle('channel_spend_student_data')"
   ]
  },
  {
   "cell_type": "code",
   "execution_count": null,
   "metadata": {},
   "outputs": [],
   "source": []
  },
  {
   "cell_type": "markdown",
   "metadata": {},
   "source": [
    "I had problem inspecting the pickle data but it worked after updating `pandas` to version 1.1.1"
   ]
  },
  {
   "cell_type": "code",
   "execution_count": 6,
   "metadata": {},
   "outputs": [
    {
     "data": {
      "text/html": [
       "<div>\n",
       "<style scoped>\n",
       "    .dataframe tbody tr th:only-of-type {\n",
       "        vertical-align: middle;\n",
       "    }\n",
       "\n",
       "    .dataframe tbody tr th {\n",
       "        vertical-align: top;\n",
       "    }\n",
       "\n",
       "    .dataframe thead th {\n",
       "        text-align: right;\n",
       "    }\n",
       "</style>\n",
       "<table border=\"1\" class=\"dataframe\">\n",
       "  <thead>\n",
       "    <tr style=\"text-align: right;\">\n",
       "      <th></th>\n",
       "      <th>convert_TF</th>\n",
       "      <th>touch1</th>\n",
       "      <th>touch2</th>\n",
       "      <th>touch3</th>\n",
       "      <th>touch4</th>\n",
       "      <th>touch5</th>\n",
       "      <th>tier</th>\n",
       "    </tr>\n",
       "  </thead>\n",
       "  <tbody>\n",
       "    <tr>\n",
       "      <th>0</th>\n",
       "      <td>True</td>\n",
       "      <td>referral</td>\n",
       "      <td>referral</td>\n",
       "      <td>referral</td>\n",
       "      <td>email</td>\n",
       "      <td>NaN</td>\n",
       "      <td>1</td>\n",
       "    </tr>\n",
       "  </tbody>\n",
       "</table>\n",
       "</div>"
      ],
      "text/plain": [
       "   convert_TF    touch1    touch2    touch3 touch4 touch5  tier\n",
       "0        True  referral  referral  referral  email    NaN     1"
      ]
     },
     "execution_count": 6,
     "metadata": {},
     "output_type": "execute_result"
    }
   ],
   "source": [
    "df.head(1)"
   ]
  },
  {
   "cell_type": "code",
   "execution_count": 8,
   "metadata": {},
   "outputs": [
    {
     "data": {
      "text/plain": [
       "tier1    {'email': 1000.0, 'social': 1000.0000000000001...\n",
       "tier2    {'email': 2000.0, 'social': 2000.0, 'display':...\n",
       "tier3    {'email': 3000.0, 'social': 3000.0, 'display':...\n",
       "total    {'email': 5000.0, 'social': 5000.0, 'display':...\n",
       "dtype: object"
      ]
     },
     "execution_count": 8,
     "metadata": {},
     "output_type": "execute_result"
    }
   ],
   "source": [
    "channel_spend"
   ]
  },
  {
   "cell_type": "code",
   "execution_count": 19,
   "metadata": {},
   "outputs": [
    {
     "data": {
      "text/plain": [
       "{'email': 1000.0,\n",
       " 'social': 1000.0000000000001,\n",
       " 'display': 1000.0,\n",
       " 'paid_search': 999.9999999999999,\n",
       " 'referral': 1000.0,\n",
       " 'organic_search': 0.0,\n",
       " 'direct': 0.0}"
      ]
     },
     "execution_count": 19,
     "metadata": {},
     "output_type": "execute_result"
    }
   ],
   "source": [
    "channel_spend['tier1']"
   ]
  },
  {
   "cell_type": "code",
   "execution_count": null,
   "metadata": {},
   "outputs": [],
   "source": []
  },
  {
   "cell_type": "code",
   "execution_count": 96,
   "metadata": {},
   "outputs": [],
   "source": [
    "df = df[:20].copy()"
   ]
  },
  {
   "cell_type": "code",
   "execution_count": 97,
   "metadata": {},
   "outputs": [
    {
     "data": {
      "text/plain": [
       "(20, 17)"
      ]
     },
     "execution_count": 97,
     "metadata": {},
     "output_type": "execute_result"
    }
   ],
   "source": [
    "df.shape"
   ]
  },
  {
   "cell_type": "code",
   "execution_count": null,
   "metadata": {},
   "outputs": [],
   "source": []
  },
  {
   "cell_type": "markdown",
   "metadata": {},
   "source": [
    "### ----- Calculations -----"
   ]
  },
  {
   "cell_type": "code",
   "execution_count": 9,
   "metadata": {},
   "outputs": [],
   "source": [
    "touch_col_names = [x for x in df.columns \n",
    "                   if x.find(touch_col_prepend) > -1]\n",
    "\n",
    "max_touches = max([int(x.split(touch_col_prepend)[1])\n",
    "                   for x in touch_col_names])\n",
    "\n",
    "# total spending for all three tier experiments\n",
    "channel_spend['total'] = dict()\n",
    "for t_name, t in channel_spend.items():\n",
    "    if t_name != 'total':   # tiers\n",
    "        for c in t.keys():  # channels\n",
    "            try:\n",
    "                channel_spend['total'][c] = channel_spend['total'][c] + t[c]\n",
    "            except KeyError:\n",
    "                channel_spend['total'].update({c: 0})"
   ]
  },
  {
   "cell_type": "code",
   "execution_count": 10,
   "metadata": {},
   "outputs": [
    {
     "data": {
      "text/plain": [
       "['touch1', 'touch2', 'touch3', 'touch4', 'touch5']"
      ]
     },
     "execution_count": 10,
     "metadata": {},
     "output_type": "execute_result"
    }
   ],
   "source": [
    "touch_col_names"
   ]
  },
  {
   "cell_type": "code",
   "execution_count": 11,
   "metadata": {},
   "outputs": [
    {
     "data": {
      "text/plain": [
       "5"
      ]
     },
     "execution_count": 11,
     "metadata": {},
     "output_type": "execute_result"
    }
   ],
   "source": [
    "max_touches"
   ]
  },
  {
   "cell_type": "code",
   "execution_count": 12,
   "metadata": {},
   "outputs": [
    {
     "data": {
      "text/plain": [
       "{'email': 5000.0,\n",
       " 'social': 5000.0,\n",
       " 'display': 5000.0,\n",
       " 'paid_search': 5000.0,\n",
       " 'referral': 5000.0,\n",
       " 'organic_search': 0.0,\n",
       " 'direct': 0.0}"
      ]
     },
     "execution_count": 12,
     "metadata": {},
     "output_type": "execute_result"
    }
   ],
   "source": [
    "channel_spend['total']"
   ]
  },
  {
   "cell_type": "code",
   "execution_count": null,
   "metadata": {},
   "outputs": [],
   "source": []
  },
  {
   "cell_type": "markdown",
   "metadata": {},
   "source": [
    "### ----- Format dataframe -----"
   ]
  },
  {
   "cell_type": "code",
   "execution_count": 21,
   "metadata": {},
   "outputs": [],
   "source": [
    "# --- create credit columns\n",
    "base_set = set()\n",
    "[base_set.update(set(df[x].dropna().unique())) for x in touch_col_names]\n",
    "cred_col_names = [x + '_credit' for x in base_set]\n",
    "df = pd.concat([df, pd.DataFrame(data=0, columns=cred_col_names,\n",
    "                                 index=df.index)], axis=1, ignore_index=False)"
   ]
  },
  {
   "cell_type": "code",
   "execution_count": null,
   "metadata": {},
   "outputs": [],
   "source": []
  },
  {
   "cell_type": "code",
   "execution_count": 23,
   "metadata": {},
   "outputs": [
    {
     "data": {
      "text/plain": [
       "{'direct',\n",
       " 'display',\n",
       " 'email',\n",
       " 'organic_search',\n",
       " 'paid_search',\n",
       " 'referral',\n",
       " 'social'}"
      ]
     },
     "execution_count": 23,
     "metadata": {},
     "output_type": "execute_result"
    }
   ],
   "source": [
    "base_set"
   ]
  },
  {
   "cell_type": "code",
   "execution_count": 24,
   "metadata": {},
   "outputs": [
    {
     "data": {
      "text/plain": [
       "['paid_search_credit',\n",
       " 'email_credit',\n",
       " 'organic_search_credit',\n",
       " 'referral_credit',\n",
       " 'social_credit',\n",
       " 'display_credit',\n",
       " 'direct_credit']"
      ]
     },
     "execution_count": 24,
     "metadata": {},
     "output_type": "execute_result"
    }
   ],
   "source": [
    "cred_col_names"
   ]
  },
  {
   "cell_type": "code",
   "execution_count": 26,
   "metadata": {},
   "outputs": [
    {
     "data": {
      "text/html": [
       "<div>\n",
       "<style scoped>\n",
       "    .dataframe tbody tr th:only-of-type {\n",
       "        vertical-align: middle;\n",
       "    }\n",
       "\n",
       "    .dataframe tbody tr th {\n",
       "        vertical-align: top;\n",
       "    }\n",
       "\n",
       "    .dataframe thead th {\n",
       "        text-align: right;\n",
       "    }\n",
       "</style>\n",
       "<table border=\"1\" class=\"dataframe\">\n",
       "  <thead>\n",
       "    <tr style=\"text-align: right;\">\n",
       "      <th></th>\n",
       "      <th>convert_TF</th>\n",
       "      <th>touch1</th>\n",
       "      <th>touch2</th>\n",
       "      <th>touch3</th>\n",
       "      <th>touch4</th>\n",
       "      <th>touch5</th>\n",
       "      <th>tier</th>\n",
       "      <th>paid_search_credit</th>\n",
       "      <th>email_credit</th>\n",
       "      <th>organic_search_credit</th>\n",
       "      <th>referral_credit</th>\n",
       "      <th>social_credit</th>\n",
       "      <th>display_credit</th>\n",
       "      <th>direct_credit</th>\n",
       "    </tr>\n",
       "  </thead>\n",
       "  <tbody>\n",
       "    <tr>\n",
       "      <th>0</th>\n",
       "      <td>True</td>\n",
       "      <td>referral</td>\n",
       "      <td>referral</td>\n",
       "      <td>referral</td>\n",
       "      <td>email</td>\n",
       "      <td>NaN</td>\n",
       "      <td>1</td>\n",
       "      <td>0</td>\n",
       "      <td>0</td>\n",
       "      <td>0</td>\n",
       "      <td>0</td>\n",
       "      <td>0</td>\n",
       "      <td>0</td>\n",
       "      <td>0</td>\n",
       "    </tr>\n",
       "    <tr>\n",
       "      <th>1</th>\n",
       "      <td>True</td>\n",
       "      <td>referral</td>\n",
       "      <td>display</td>\n",
       "      <td>display</td>\n",
       "      <td>email</td>\n",
       "      <td>NaN</td>\n",
       "      <td>1</td>\n",
       "      <td>0</td>\n",
       "      <td>0</td>\n",
       "      <td>0</td>\n",
       "      <td>0</td>\n",
       "      <td>0</td>\n",
       "      <td>0</td>\n",
       "      <td>0</td>\n",
       "    </tr>\n",
       "    <tr>\n",
       "      <th>2</th>\n",
       "      <td>True</td>\n",
       "      <td>email</td>\n",
       "      <td>display</td>\n",
       "      <td>referral</td>\n",
       "      <td>NaN</td>\n",
       "      <td>NaN</td>\n",
       "      <td>1</td>\n",
       "      <td>0</td>\n",
       "      <td>0</td>\n",
       "      <td>0</td>\n",
       "      <td>0</td>\n",
       "      <td>0</td>\n",
       "      <td>0</td>\n",
       "      <td>0</td>\n",
       "    </tr>\n",
       "    <tr>\n",
       "      <th>3</th>\n",
       "      <td>True</td>\n",
       "      <td>referral</td>\n",
       "      <td>referral</td>\n",
       "      <td>email</td>\n",
       "      <td>NaN</td>\n",
       "      <td>NaN</td>\n",
       "      <td>1</td>\n",
       "      <td>0</td>\n",
       "      <td>0</td>\n",
       "      <td>0</td>\n",
       "      <td>0</td>\n",
       "      <td>0</td>\n",
       "      <td>0</td>\n",
       "      <td>0</td>\n",
       "    </tr>\n",
       "    <tr>\n",
       "      <th>4</th>\n",
       "      <td>True</td>\n",
       "      <td>social</td>\n",
       "      <td>referral</td>\n",
       "      <td>NaN</td>\n",
       "      <td>NaN</td>\n",
       "      <td>NaN</td>\n",
       "      <td>1</td>\n",
       "      <td>0</td>\n",
       "      <td>0</td>\n",
       "      <td>0</td>\n",
       "      <td>0</td>\n",
       "      <td>0</td>\n",
       "      <td>0</td>\n",
       "      <td>0</td>\n",
       "    </tr>\n",
       "  </tbody>\n",
       "</table>\n",
       "</div>"
      ],
      "text/plain": [
       "   convert_TF    touch1    touch2    touch3 touch4 touch5  tier  \\\n",
       "0        True  referral  referral  referral  email    NaN     1   \n",
       "1        True  referral   display   display  email    NaN     1   \n",
       "2        True     email   display  referral    NaN    NaN     1   \n",
       "3        True  referral  referral     email    NaN    NaN     1   \n",
       "4        True    social  referral       NaN    NaN    NaN     1   \n",
       "\n",
       "   paid_search_credit  email_credit  organic_search_credit  referral_credit  \\\n",
       "0                   0             0                      0                0   \n",
       "1                   0             0                      0                0   \n",
       "2                   0             0                      0                0   \n",
       "3                   0             0                      0                0   \n",
       "4                   0             0                      0                0   \n",
       "\n",
       "   social_credit  display_credit  direct_credit  \n",
       "0              0               0              0  \n",
       "1              0               0              0  \n",
       "2              0               0              0  \n",
       "3              0               0              0  \n",
       "4              0               0              0  "
      ]
     },
     "execution_count": 26,
     "metadata": {},
     "output_type": "execute_result"
    }
   ],
   "source": [
    "df.head()"
   ]
  },
  {
   "cell_type": "code",
   "execution_count": 27,
   "metadata": {},
   "outputs": [
    {
     "data": {
      "text/plain": [
       "(68124, 14)"
      ]
     },
     "execution_count": 27,
     "metadata": {},
     "output_type": "execute_result"
    }
   ],
   "source": [
    "df.shape"
   ]
  },
  {
   "cell_type": "code",
   "execution_count": null,
   "metadata": {},
   "outputs": [],
   "source": []
  },
  {
   "cell_type": "code",
   "execution_count": 36,
   "metadata": {},
   "outputs": [],
   "source": [
    "# --- identify key touch points\n",
    "df['last_touch_point'] = df.apply(\n",
    "    find_last_touchpoint, args=(touch_col_prepend, max_touches), axis=1)\n",
    "df['first_touch_point'] = df.apply(\n",
    "    find_first_touchpoint, args=(touch_col_prepend, max_touches), axis=1)\n",
    "df['last_nondirect_touch_point'] = df.apply(find_last_nondirect_touchpoint, args=(\n",
    "    touch_col_prepend, max_touches, direct_label,), axis=1)"
   ]
  },
  {
   "cell_type": "code",
   "execution_count": 38,
   "metadata": {},
   "outputs": [
    {
     "data": {
      "text/html": [
       "<div>\n",
       "<style scoped>\n",
       "    .dataframe tbody tr th:only-of-type {\n",
       "        vertical-align: middle;\n",
       "    }\n",
       "\n",
       "    .dataframe tbody tr th {\n",
       "        vertical-align: top;\n",
       "    }\n",
       "\n",
       "    .dataframe thead th {\n",
       "        text-align: right;\n",
       "    }\n",
       "</style>\n",
       "<table border=\"1\" class=\"dataframe\">\n",
       "  <thead>\n",
       "    <tr style=\"text-align: right;\">\n",
       "      <th></th>\n",
       "      <th>convert_TF</th>\n",
       "      <th>touch1</th>\n",
       "      <th>touch2</th>\n",
       "      <th>touch3</th>\n",
       "      <th>touch4</th>\n",
       "      <th>touch5</th>\n",
       "      <th>tier</th>\n",
       "      <th>paid_search_credit</th>\n",
       "      <th>email_credit</th>\n",
       "      <th>organic_search_credit</th>\n",
       "      <th>referral_credit</th>\n",
       "      <th>social_credit</th>\n",
       "      <th>display_credit</th>\n",
       "      <th>direct_credit</th>\n",
       "      <th>last_touch_point</th>\n",
       "      <th>first_touch_point</th>\n",
       "      <th>last_nondirect_touch_point</th>\n",
       "    </tr>\n",
       "  </thead>\n",
       "  <tbody>\n",
       "    <tr>\n",
       "      <th>0</th>\n",
       "      <td>True</td>\n",
       "      <td>referral</td>\n",
       "      <td>referral</td>\n",
       "      <td>referral</td>\n",
       "      <td>email</td>\n",
       "      <td>NaN</td>\n",
       "      <td>1</td>\n",
       "      <td>0</td>\n",
       "      <td>0</td>\n",
       "      <td>0</td>\n",
       "      <td>0</td>\n",
       "      <td>0</td>\n",
       "      <td>0</td>\n",
       "      <td>0</td>\n",
       "      <td>email</td>\n",
       "      <td>referral</td>\n",
       "      <td>email</td>\n",
       "    </tr>\n",
       "  </tbody>\n",
       "</table>\n",
       "</div>"
      ],
      "text/plain": [
       "   convert_TF    touch1    touch2    touch3 touch4 touch5  tier  \\\n",
       "0        True  referral  referral  referral  email    NaN     1   \n",
       "\n",
       "   paid_search_credit  email_credit  organic_search_credit  referral_credit  \\\n",
       "0                   0             0                      0                0   \n",
       "\n",
       "   social_credit  display_credit  direct_credit last_touch_point  \\\n",
       "0              0               0              0            email   \n",
       "\n",
       "  first_touch_point last_nondirect_touch_point  \n",
       "0          referral                      email  "
      ]
     },
     "execution_count": 38,
     "metadata": {},
     "output_type": "execute_result"
    }
   ],
   "source": [
    "df.head(1)"
   ]
  },
  {
   "cell_type": "code",
   "execution_count": null,
   "metadata": {},
   "outputs": [],
   "source": []
  },
  {
   "cell_type": "code",
   "execution_count": null,
   "metadata": {},
   "outputs": [],
   "source": [
    "# ----- RUN MODELS -----\n",
    "CAC_dfs = dict()\n",
    "for model_type in select_model_types:\n",
    "    print('Processing model %s' % model_type)\n",
    "\n",
    "    # ----- Run attribution model -----\n",
    "    print('Running attribution model')\n",
    "    # only run calculation for conversion rows\n",
    "    df_convert = df.loc[df.convert_TF]\n",
    "    for t_ind, t_row in df_convert.iterrows():\n",
    "        t_credit_dict = assign_credit(\n",
    "            t_row, cred_col_names, touch_col_names, cred_col_post_pend, model_type, first_weight, last_weight)\n",
    "        df.loc[t_ind, list(t_credit_dict.keys())] = list(t_credit_dict.values())  # add credit to original dataframe\n",
    "    del df_convert, t_ind, t_row\n",
    "\n",
    "    # ----- Calculate CAC -----\n",
    "    print('Calculating average and marginal CAC')\n",
    "    # --- Average CAC ---\n",
    "    channel_allocation = get_attribution_by_channel(\n",
    "        df, credit_col_postpend_f='_credit')\n",
    "    df_CAC = calc_avg_CAC(channel_allocation_f=channel_allocation,\n",
    "                          channel_spend_f=channel_spend['total'])\n",
    "\n",
    "    # --- Marginal CAC ---\n",
    "    credit_cols = [x for x in df.columns if x.find('credit') > -1]\n",
    "    df_CAC = pd.DataFrame(index=[x.split('_credit')[0] for x in credit_cols])\n",
    "    base_col_names = ['marginal_conversions', 'marginal_spend', 'marginal_CAC']\n",
    "\n",
    "    df_tier_sum = df[['tier']+credit_cols].groupby(['tier']).sum()\n",
    "    df_tier_sum.columns = [x.split('_credit')[0] for x in df_tier_sum.columns]\n",
    "    for t_tier in df_tier_sum.index:\n",
    "        for t_channel in df_CAC.index:\n",
    "            if t_tier > 1:\n",
    "                n_conversions_low_tier = df_tier_sum.loc[t_tier - 1, t_channel]\n",
    "                spend_low_tier = channel_spend['tier' + str(t_tier - 1)][t_channel]\n",
    "                n_conversions_high_tier = df_tier_sum.loc[t_tier, t_channel]\n",
    "                spend_high_tier = channel_spend['tier' + str(t_tier)][t_channel]\n",
    "            else:\n",
    "                n_conversions_low_tier = 0\n",
    "                spend_low_tier = 0\n",
    "                n_conversions_high_tier = df_tier_sum.loc[t_tier, t_channel]\n",
    "                spend_high_tier = channel_spend['tier' + str(t_tier)][t_channel]\n",
    "\n",
    "            t_df_CAC_colnames = [x + '_t' + str(t_tier) for x in base_col_names]\n",
    "            t_marginal_dict = calc_marginal_CAC(\n",
    "                n_conversions_low_tier, spend_low_tier, n_conversions_high_tier, spend_high_tier)\n",
    "            df_CAC.loc[t_channel, t_df_CAC_colnames] = [\n",
    "                t_marginal_dict[x] for x in base_col_names]\n",
    "\n",
    "    CAC_dfs.update({model_type: df_CAC})"
   ]
  },
  {
   "cell_type": "code",
   "execution_count": null,
   "metadata": {},
   "outputs": [],
   "source": []
  },
  {
   "cell_type": "markdown",
   "metadata": {},
   "source": [
    "testing (a small sample size) with \"last_touch_point\" model"
   ]
  },
  {
   "cell_type": "code",
   "execution_count": 88,
   "metadata": {},
   "outputs": [
    {
     "data": {
      "text/plain": [
       "['last_touch_point',\n",
       " 'first_touch_point',\n",
       " 'last_nondirect_touch_point',\n",
       " 'linear',\n",
       " 'position']"
      ]
     },
     "execution_count": 88,
     "metadata": {},
     "output_type": "execute_result"
    }
   ],
   "source": [
    "select_model_types"
   ]
  },
  {
   "cell_type": "code",
   "execution_count": 122,
   "metadata": {},
   "outputs": [
    {
     "name": "stdout",
     "output_type": "stream",
     "text": [
      "Running attribution model\n"
     ]
    }
   ],
   "source": [
    "# ----- Run attribution model -----\n",
    "print('Running attribution model')\n",
    "# only run calculation for conversion rows\n",
    "df_convert = df.loc[df.convert_TF]\n",
    "for t_ind, t_row in df_convert.iterrows():\n",
    "    t_credit_dict = assign_credit(\n",
    "        t_row, cred_col_names, touch_col_names, cred_col_post_pend, 'last_touch_point', first_weight, last_weight)\n",
    "    df.loc[t_ind, list(t_credit_dict.keys())] = list(t_credit_dict.values())  # add credit to original dataframe\n",
    "del df_convert, t_ind, t_row"
   ]
  },
  {
   "cell_type": "code",
   "execution_count": 123,
   "metadata": {},
   "outputs": [
    {
     "data": {
      "text/html": [
       "<div>\n",
       "<style scoped>\n",
       "    .dataframe tbody tr th:only-of-type {\n",
       "        vertical-align: middle;\n",
       "    }\n",
       "\n",
       "    .dataframe tbody tr th {\n",
       "        vertical-align: top;\n",
       "    }\n",
       "\n",
       "    .dataframe thead th {\n",
       "        text-align: right;\n",
       "    }\n",
       "</style>\n",
       "<table border=\"1\" class=\"dataframe\">\n",
       "  <thead>\n",
       "    <tr style=\"text-align: right;\">\n",
       "      <th></th>\n",
       "      <th>convert_TF</th>\n",
       "      <th>touch1</th>\n",
       "      <th>touch2</th>\n",
       "      <th>touch3</th>\n",
       "      <th>touch4</th>\n",
       "      <th>touch5</th>\n",
       "      <th>tier</th>\n",
       "      <th>paid_search_credit</th>\n",
       "      <th>email_credit</th>\n",
       "      <th>organic_search_credit</th>\n",
       "      <th>referral_credit</th>\n",
       "      <th>social_credit</th>\n",
       "      <th>display_credit</th>\n",
       "      <th>direct_credit</th>\n",
       "      <th>last_touch_point</th>\n",
       "      <th>first_touch_point</th>\n",
       "      <th>last_nondirect_touch_point</th>\n",
       "    </tr>\n",
       "  </thead>\n",
       "  <tbody>\n",
       "    <tr>\n",
       "      <th>0</th>\n",
       "      <td>True</td>\n",
       "      <td>referral</td>\n",
       "      <td>referral</td>\n",
       "      <td>referral</td>\n",
       "      <td>email</td>\n",
       "      <td>NaN</td>\n",
       "      <td>1</td>\n",
       "      <td>0</td>\n",
       "      <td>1</td>\n",
       "      <td>0</td>\n",
       "      <td>0</td>\n",
       "      <td>0</td>\n",
       "      <td>0</td>\n",
       "      <td>0</td>\n",
       "      <td>email</td>\n",
       "      <td>referral</td>\n",
       "      <td>email</td>\n",
       "    </tr>\n",
       "  </tbody>\n",
       "</table>\n",
       "</div>"
      ],
      "text/plain": [
       "   convert_TF    touch1    touch2    touch3 touch4 touch5  tier  \\\n",
       "0        True  referral  referral  referral  email    NaN     1   \n",
       "\n",
       "   paid_search_credit  email_credit  organic_search_credit  referral_credit  \\\n",
       "0                   0             1                      0                0   \n",
       "\n",
       "   social_credit  display_credit  direct_credit last_touch_point  \\\n",
       "0              0               0              0            email   \n",
       "\n",
       "  first_touch_point last_nondirect_touch_point  \n",
       "0          referral                      email  "
      ]
     },
     "execution_count": 123,
     "metadata": {},
     "output_type": "execute_result"
    }
   ],
   "source": [
    "df.head(1)"
   ]
  },
  {
   "cell_type": "code",
   "execution_count": null,
   "metadata": {},
   "outputs": [],
   "source": []
  },
  {
   "cell_type": "code",
   "execution_count": 124,
   "metadata": {},
   "outputs": [
    {
     "name": "stdout",
     "output_type": "stream",
     "text": [
      "Calculating average and marginal CAC\n"
     ]
    }
   ],
   "source": [
    "# ----- Calculate CAC -----\n",
    "print('Calculating average and marginal CAC')\n",
    "# --- Average CAC ---\n",
    "channel_allocation = get_attribution_by_channel(df, credit_col_postpend_f='_credit')\n",
    "df_CAC = calc_avg_CAC(channel_allocation_f=channel_allocation, channel_spend_f=channel_spend['total'])"
   ]
  },
  {
   "cell_type": "code",
   "execution_count": 125,
   "metadata": {},
   "outputs": [
    {
     "data": {
      "text/plain": [
       "paid_search       1004\n",
       "email             1491\n",
       "organic_search      11\n",
       "referral          6014\n",
       "social            2960\n",
       "display           2292\n",
       "direct               7\n",
       "dtype: int64"
      ]
     },
     "execution_count": 125,
     "metadata": {},
     "output_type": "execute_result"
    }
   ],
   "source": [
    "channel_allocation"
   ]
  },
  {
   "cell_type": "code",
   "execution_count": 126,
   "metadata": {},
   "outputs": [
    {
     "data": {
      "text/html": [
       "<div>\n",
       "<style scoped>\n",
       "    .dataframe tbody tr th:only-of-type {\n",
       "        vertical-align: middle;\n",
       "    }\n",
       "\n",
       "    .dataframe tbody tr th {\n",
       "        vertical-align: top;\n",
       "    }\n",
       "\n",
       "    .dataframe thead th {\n",
       "        text-align: right;\n",
       "    }\n",
       "</style>\n",
       "<table border=\"1\" class=\"dataframe\">\n",
       "  <thead>\n",
       "    <tr style=\"text-align: right;\">\n",
       "      <th></th>\n",
       "      <th>channel_allocation</th>\n",
       "      <th>channel_spend</th>\n",
       "      <th>CAC</th>\n",
       "    </tr>\n",
       "  </thead>\n",
       "  <tbody>\n",
       "    <tr>\n",
       "      <th>paid_search</th>\n",
       "      <td>1004</td>\n",
       "      <td>5000.0</td>\n",
       "      <td>4.980080</td>\n",
       "    </tr>\n",
       "    <tr>\n",
       "      <th>email</th>\n",
       "      <td>1491</td>\n",
       "      <td>5000.0</td>\n",
       "      <td>3.353454</td>\n",
       "    </tr>\n",
       "    <tr>\n",
       "      <th>organic_search</th>\n",
       "      <td>11</td>\n",
       "      <td>0.0</td>\n",
       "      <td>0.000000</td>\n",
       "    </tr>\n",
       "    <tr>\n",
       "      <th>referral</th>\n",
       "      <td>6014</td>\n",
       "      <td>5000.0</td>\n",
       "      <td>0.831393</td>\n",
       "    </tr>\n",
       "    <tr>\n",
       "      <th>social</th>\n",
       "      <td>2960</td>\n",
       "      <td>5000.0</td>\n",
       "      <td>1.689189</td>\n",
       "    </tr>\n",
       "    <tr>\n",
       "      <th>display</th>\n",
       "      <td>2292</td>\n",
       "      <td>5000.0</td>\n",
       "      <td>2.181501</td>\n",
       "    </tr>\n",
       "    <tr>\n",
       "      <th>direct</th>\n",
       "      <td>7</td>\n",
       "      <td>0.0</td>\n",
       "      <td>0.000000</td>\n",
       "    </tr>\n",
       "  </tbody>\n",
       "</table>\n",
       "</div>"
      ],
      "text/plain": [
       "                channel_allocation  channel_spend       CAC\n",
       "paid_search                   1004         5000.0  4.980080\n",
       "email                         1491         5000.0  3.353454\n",
       "organic_search                  11            0.0  0.000000\n",
       "referral                      6014         5000.0  0.831393\n",
       "social                        2960         5000.0  1.689189\n",
       "display                       2292         5000.0  2.181501\n",
       "direct                           7            0.0  0.000000"
      ]
     },
     "execution_count": 126,
     "metadata": {},
     "output_type": "execute_result"
    }
   ],
   "source": [
    "df_CAC"
   ]
  },
  {
   "cell_type": "code",
   "execution_count": null,
   "metadata": {},
   "outputs": [],
   "source": []
  },
  {
   "cell_type": "code",
   "execution_count": null,
   "metadata": {},
   "outputs": [],
   "source": [
    "# --- Marginal CAC ---\n",
    "credit_cols = [x for x in df.columns if x.find('credit') > -1]\n",
    "df_CAC = pd.DataFrame(index=[x.split('_credit')[0] for x in credit_cols])\n",
    "base_col_names = ['marginal_conversions', 'marginal_spend', 'marginal_CAC']\n",
    "\n",
    "df_tier_sum = df[['tier']+credit_cols].groupby(['tier']).sum()\n",
    "df_tier_sum.columns = [x.split('_credit')[0] for x in df_tier_sum.columns]\n",
    "for t_tier in df_tier_sum.index:\n",
    "    for t_channel in df_CAC.index:\n",
    "        if t_tier > 1:\n",
    "            n_conversions_low_tier = df_tier_sum.loc[t_tier - 1, t_channel]\n",
    "            spend_low_tier = channel_spend['tier' + str(t_tier - 1)][t_channel]\n",
    "            n_conversions_high_tier = df_tier_sum.loc[t_tier, t_channel]\n",
    "            spend_high_tier = channel_spend['tier' + str(t_tier)][t_channel]\n",
    "        else:\n",
    "            n_conversions_low_tier = 0\n",
    "            spend_low_tier = 0\n",
    "            n_conversions_high_tier = df_tier_sum.loc[t_tier, t_channel]\n",
    "            spend_high_tier = channel_spend['tier' + str(t_tier)][t_channel]\n",
    "\n",
    "        t_df_CAC_colnames = [x + '_t' + str(t_tier) for x in base_col_names]\n",
    "        t_marginal_dict = calc_marginal_CAC(n_conversions_low_tier, spend_low_tier, n_conversions_high_tier, spend_high_tier)\n",
    "        df_CAC.loc[t_channel, t_df_CAC_colnames] = [t_marginal_dict[x] for x in base_col_names]"
   ]
  },
  {
   "cell_type": "code",
   "execution_count": null,
   "metadata": {},
   "outputs": [],
   "source": []
  },
  {
   "cell_type": "code",
   "execution_count": 127,
   "metadata": {},
   "outputs": [
    {
     "data": {
      "text/plain": [
       "['paid_search_credit',\n",
       " 'email_credit',\n",
       " 'organic_search_credit',\n",
       " 'referral_credit',\n",
       " 'social_credit',\n",
       " 'display_credit',\n",
       " 'direct_credit']"
      ]
     },
     "execution_count": 127,
     "metadata": {},
     "output_type": "execute_result"
    }
   ],
   "source": [
    "credit_cols = [x for x in df.columns if x.find('credit') > -1]\n",
    "credit_cols"
   ]
  },
  {
   "cell_type": "code",
   "execution_count": 128,
   "metadata": {},
   "outputs": [
    {
     "data": {
      "text/html": [
       "<div>\n",
       "<style scoped>\n",
       "    .dataframe tbody tr th:only-of-type {\n",
       "        vertical-align: middle;\n",
       "    }\n",
       "\n",
       "    .dataframe tbody tr th {\n",
       "        vertical-align: top;\n",
       "    }\n",
       "\n",
       "    .dataframe thead th {\n",
       "        text-align: right;\n",
       "    }\n",
       "</style>\n",
       "<table border=\"1\" class=\"dataframe\">\n",
       "  <thead>\n",
       "    <tr style=\"text-align: right;\">\n",
       "      <th></th>\n",
       "    </tr>\n",
       "  </thead>\n",
       "  <tbody>\n",
       "    <tr>\n",
       "      <th>paid_search</th>\n",
       "    </tr>\n",
       "    <tr>\n",
       "      <th>email</th>\n",
       "    </tr>\n",
       "    <tr>\n",
       "      <th>organic_search</th>\n",
       "    </tr>\n",
       "    <tr>\n",
       "      <th>referral</th>\n",
       "    </tr>\n",
       "    <tr>\n",
       "      <th>social</th>\n",
       "    </tr>\n",
       "    <tr>\n",
       "      <th>display</th>\n",
       "    </tr>\n",
       "    <tr>\n",
       "      <th>direct</th>\n",
       "    </tr>\n",
       "  </tbody>\n",
       "</table>\n",
       "</div>"
      ],
      "text/plain": [
       "Empty DataFrame\n",
       "Columns: []\n",
       "Index: [paid_search, email, organic_search, referral, social, display, direct]"
      ]
     },
     "execution_count": 128,
     "metadata": {},
     "output_type": "execute_result"
    }
   ],
   "source": [
    "pd.DataFrame(index=[x.split('_credit')[0] for x in credit_cols])"
   ]
  },
  {
   "cell_type": "code",
   "execution_count": 129,
   "metadata": {},
   "outputs": [
    {
     "data": {
      "text/plain": [
       "['marginal_conversions', 'marginal_spend', 'marginal_CAC']"
      ]
     },
     "execution_count": 129,
     "metadata": {},
     "output_type": "execute_result"
    }
   ],
   "source": [
    "base_col_names = ['marginal_conversions', 'marginal_spend', 'marginal_CAC']\n",
    "base_col_names"
   ]
  },
  {
   "cell_type": "code",
   "execution_count": 130,
   "metadata": {},
   "outputs": [
    {
     "data": {
      "text/html": [
       "<div>\n",
       "<style scoped>\n",
       "    .dataframe tbody tr th:only-of-type {\n",
       "        vertical-align: middle;\n",
       "    }\n",
       "\n",
       "    .dataframe tbody tr th {\n",
       "        vertical-align: top;\n",
       "    }\n",
       "\n",
       "    .dataframe thead th {\n",
       "        text-align: right;\n",
       "    }\n",
       "</style>\n",
       "<table border=\"1\" class=\"dataframe\">\n",
       "  <thead>\n",
       "    <tr style=\"text-align: right;\">\n",
       "      <th></th>\n",
       "      <th>paid_search_credit</th>\n",
       "      <th>email_credit</th>\n",
       "      <th>organic_search_credit</th>\n",
       "      <th>referral_credit</th>\n",
       "      <th>social_credit</th>\n",
       "      <th>display_credit</th>\n",
       "      <th>direct_credit</th>\n",
       "    </tr>\n",
       "    <tr>\n",
       "      <th>tier</th>\n",
       "      <th></th>\n",
       "      <th></th>\n",
       "      <th></th>\n",
       "      <th></th>\n",
       "      <th></th>\n",
       "      <th></th>\n",
       "      <th></th>\n",
       "    </tr>\n",
       "  </thead>\n",
       "  <tbody>\n",
       "    <tr>\n",
       "      <th>1</th>\n",
       "      <td>176</td>\n",
       "      <td>281</td>\n",
       "      <td>2</td>\n",
       "      <td>1211</td>\n",
       "      <td>625</td>\n",
       "      <td>528</td>\n",
       "      <td>1</td>\n",
       "    </tr>\n",
       "    <tr>\n",
       "      <th>2</th>\n",
       "      <td>347</td>\n",
       "      <td>555</td>\n",
       "      <td>4</td>\n",
       "      <td>2107</td>\n",
       "      <td>1060</td>\n",
       "      <td>818</td>\n",
       "      <td>1</td>\n",
       "    </tr>\n",
       "    <tr>\n",
       "      <th>3</th>\n",
       "      <td>481</td>\n",
       "      <td>655</td>\n",
       "      <td>5</td>\n",
       "      <td>2696</td>\n",
       "      <td>1275</td>\n",
       "      <td>946</td>\n",
       "      <td>5</td>\n",
       "    </tr>\n",
       "  </tbody>\n",
       "</table>\n",
       "</div>"
      ],
      "text/plain": [
       "      paid_search_credit  email_credit  organic_search_credit  \\\n",
       "tier                                                            \n",
       "1                    176           281                      2   \n",
       "2                    347           555                      4   \n",
       "3                    481           655                      5   \n",
       "\n",
       "      referral_credit  social_credit  display_credit  direct_credit  \n",
       "tier                                                                 \n",
       "1                1211            625             528              1  \n",
       "2                2107           1060             818              1  \n",
       "3                2696           1275             946              5  "
      ]
     },
     "execution_count": 130,
     "metadata": {},
     "output_type": "execute_result"
    }
   ],
   "source": [
    "df_tier_sum = df[['tier']+credit_cols].groupby(['tier']).sum()\n",
    "df_tier_sum"
   ]
  },
  {
   "cell_type": "code",
   "execution_count": 131,
   "metadata": {},
   "outputs": [
    {
     "data": {
      "text/plain": [
       "Int64Index([1, 2, 3], dtype='int64', name='tier')"
      ]
     },
     "execution_count": 131,
     "metadata": {},
     "output_type": "execute_result"
    }
   ],
   "source": [
    "df_tier_sum.index"
   ]
  },
  {
   "cell_type": "code",
   "execution_count": 132,
   "metadata": {},
   "outputs": [
    {
     "data": {
      "text/plain": [
       "Index(['paid_search', 'email', 'organic_search', 'referral', 'social',\n",
       "       'display', 'direct'],\n",
       "      dtype='object')"
      ]
     },
     "execution_count": 132,
     "metadata": {},
     "output_type": "execute_result"
    }
   ],
   "source": [
    "df_CAC.index"
   ]
  },
  {
   "cell_type": "code",
   "execution_count": null,
   "metadata": {},
   "outputs": [],
   "source": [
    "for t_tier in df_tier_sum.index:\n",
    "    for t_channel in df_CAC.index:\n",
    "        if t_tier > 1:\n",
    "            n_conversions_low_tier = df_tier_sum.loc[t_tier - 1, t_channel]\n",
    "            spend_low_tier = channel_spend['tier' + str(t_tier - 1)][t_channel]\n",
    "            n_conversions_high_tier = df_tier_sum.loc[t_tier, t_channel]\n",
    "            spend_high_tier = channel_spend['tier' + str(t_tier)][t_channel]\n",
    "        else:  # t_tier=1\n",
    "            n_conversions_low_tier = 0\n",
    "            spend_low_tier = 0\n",
    "            n_conversions_high_tier = df_tier_sum.loc[t_tier, t_channel]\n",
    "            spend_high_tier = channel_spend['tier' + str(t_tier)][t_channel]\n",
    "\n",
    "        t_df_CAC_colnames = [x + '_t' + str(t_tier) for x in base_col_names]\n",
    "        t_marginal_dict = calc_marginal_CAC(n_conversions_low_tier, spend_low_tier, n_conversions_high_tier, spend_high_tier)\n",
    "        df_CAC.loc[t_channel, t_df_CAC_colnames] = [t_marginal_dict[x] for x in base_col_names]"
   ]
  },
  {
   "cell_type": "code",
   "execution_count": 137,
   "metadata": {},
   "outputs": [
    {
     "data": {
      "text/html": [
       "<div>\n",
       "<style scoped>\n",
       "    .dataframe tbody tr th:only-of-type {\n",
       "        vertical-align: middle;\n",
       "    }\n",
       "\n",
       "    .dataframe tbody tr th {\n",
       "        vertical-align: top;\n",
       "    }\n",
       "\n",
       "    .dataframe thead th {\n",
       "        text-align: right;\n",
       "    }\n",
       "</style>\n",
       "<table border=\"1\" class=\"dataframe\">\n",
       "  <thead>\n",
       "    <tr style=\"text-align: right;\">\n",
       "      <th></th>\n",
       "      <th>paid_search_credit</th>\n",
       "      <th>email_credit</th>\n",
       "      <th>organic_search_credit</th>\n",
       "      <th>referral_credit</th>\n",
       "      <th>social_credit</th>\n",
       "      <th>display_credit</th>\n",
       "      <th>direct_credit</th>\n",
       "    </tr>\n",
       "    <tr>\n",
       "      <th>tier</th>\n",
       "      <th></th>\n",
       "      <th></th>\n",
       "      <th></th>\n",
       "      <th></th>\n",
       "      <th></th>\n",
       "      <th></th>\n",
       "      <th></th>\n",
       "    </tr>\n",
       "  </thead>\n",
       "  <tbody>\n",
       "    <tr>\n",
       "      <th>1</th>\n",
       "      <td>176</td>\n",
       "      <td>281</td>\n",
       "      <td>2</td>\n",
       "      <td>1211</td>\n",
       "      <td>625</td>\n",
       "      <td>528</td>\n",
       "      <td>1</td>\n",
       "    </tr>\n",
       "    <tr>\n",
       "      <th>2</th>\n",
       "      <td>347</td>\n",
       "      <td>555</td>\n",
       "      <td>4</td>\n",
       "      <td>2107</td>\n",
       "      <td>1060</td>\n",
       "      <td>818</td>\n",
       "      <td>1</td>\n",
       "    </tr>\n",
       "    <tr>\n",
       "      <th>3</th>\n",
       "      <td>481</td>\n",
       "      <td>655</td>\n",
       "      <td>5</td>\n",
       "      <td>2696</td>\n",
       "      <td>1275</td>\n",
       "      <td>946</td>\n",
       "      <td>5</td>\n",
       "    </tr>\n",
       "  </tbody>\n",
       "</table>\n",
       "</div>"
      ],
      "text/plain": [
       "      paid_search_credit  email_credit  organic_search_credit  \\\n",
       "tier                                                            \n",
       "1                    176           281                      2   \n",
       "2                    347           555                      4   \n",
       "3                    481           655                      5   \n",
       "\n",
       "      referral_credit  social_credit  display_credit  direct_credit  \n",
       "tier                                                                 \n",
       "1                1211            625             528              1  \n",
       "2                2107           1060             818              1  \n",
       "3                2696           1275             946              5  "
      ]
     },
     "execution_count": 137,
     "metadata": {},
     "output_type": "execute_result"
    }
   ],
   "source": [
    "# n_conversions_low_tier = df_tier_sum.loc[t_tier - 1, t_channel]\n",
    "#df_tier_sum.loc[1, 'paid_search_credit']  # 176\n",
    "df_tier_sum"
   ]
  },
  {
   "cell_type": "code",
   "execution_count": 144,
   "metadata": {},
   "outputs": [
    {
     "data": {
      "text/plain": [
       "tier1    {'email': 1000.0, 'social': 1000.0000000000001...\n",
       "tier2    {'email': 2000.0, 'social': 2000.0, 'display':...\n",
       "tier3    {'email': 3000.0, 'social': 3000.0, 'display':...\n",
       "total    {'email': 5000.0, 'social': 5000.0, 'display':...\n",
       "dtype: object"
      ]
     },
     "execution_count": 144,
     "metadata": {},
     "output_type": "execute_result"
    }
   ],
   "source": [
    "#channel_spend['tier' + str(t_tier - 1)][t_channel]\n",
    "#channel_spend['tier' + str(1)]['paid_search']  # 999\n",
    "channel_spend"
   ]
  },
  {
   "cell_type": "code",
   "execution_count": 138,
   "metadata": {},
   "outputs": [
    {
     "data": {
      "text/plain": [
       "['marginal_conversions_t1', 'marginal_spend_t1', 'marginal_CAC_t1']"
      ]
     },
     "execution_count": 138,
     "metadata": {},
     "output_type": "execute_result"
    }
   ],
   "source": [
    "[x + '_t' + str(1) for x in base_col_names]"
   ]
  },
  {
   "cell_type": "code",
   "execution_count": null,
   "metadata": {},
   "outputs": [],
   "source": []
  },
  {
   "cell_type": "code",
   "execution_count": null,
   "metadata": {},
   "outputs": [],
   "source": []
  },
  {
   "cell_type": "code",
   "execution_count": null,
   "metadata": {},
   "outputs": [],
   "source": []
  },
  {
   "cell_type": "code",
   "execution_count": null,
   "metadata": {},
   "outputs": [],
   "source": []
  },
  {
   "cell_type": "code",
   "execution_count": null,
   "metadata": {},
   "outputs": [],
   "source": []
  },
  {
   "cell_type": "code",
   "execution_count": null,
   "metadata": {},
   "outputs": [],
   "source": []
  }
 ],
 "metadata": {
  "kernelspec": {
   "display_name": "Python 3.8.1 64-bit",
   "language": "python",
   "name": "python38164bit0209044da7c742dab8314e0953beb93b"
  },
  "language_info": {
   "codemirror_mode": {
    "name": "ipython",
    "version": 3
   },
   "file_extension": ".py",
   "mimetype": "text/x-python",
   "name": "python",
   "nbconvert_exporter": "python",
   "pygments_lexer": "ipython3",
   "version": "3.8.1"
  }
 },
 "nbformat": 4,
 "nbformat_minor": 4
}
