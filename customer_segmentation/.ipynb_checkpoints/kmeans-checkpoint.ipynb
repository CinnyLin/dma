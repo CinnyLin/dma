{
 "cells": [
  {
   "cell_type": "code",
   "execution_count": null,
   "metadata": {},
   "outputs": [],
   "source": []
  },
  {
   "cell_type": "code",
   "execution_count": 2,
   "metadata": {},
   "outputs": [],
   "source": [
    "# ------ Import module ------\n",
    "import pandas as pd\n",
    "import numpy as np\n",
    "import re\n",
    "\n",
    "from sklearn.mixture import GaussianMixture\n",
    "from sklearn.model_selection import train_test_split\n",
    "\n",
    "from sklearn.preprocessing import OneHotEncoder\n",
    "from sklearn.cluster import KMeans\n",
    "import matplotlib.pylab as plt"
   ]
  },
  {
   "cell_type": "code",
   "execution_count": null,
   "metadata": {},
   "outputs": [],
   "source": []
  },
  {
   "cell_type": "code",
   "execution_count": 3,
   "metadata": {},
   "outputs": [],
   "source": [
    "# ------ Define functions ------\n",
    "def run_kmeans(n_clusters_f, init_f, df_f):\n",
    "    # Complete this function\n",
    "    # This function should at least take a dataframe as an argument. I have suggested additional arguments you may\n",
    "    # want to provide, but these can be changed as you need to fit your solution.\n",
    "    # The output of this function should be the input data frame will the model object KMeans and a data summary. The\n",
    "    # function will need to add an additional column to the input dataframe called 'predict_cluster_kmeans'\n",
    "    # that contains the cluster labels assigned by the algorithm.\n",
    "    k_means_model_f = KMeans(n_clusters=n_clusters_f, init=init_f)\n",
    "    k_means_model_f.fit(df_f)\n",
    "    df_f['predict_cluster_kmeans'] = k_means_model_f.labels_\n",
    "\n",
    "    # summarize cluster attributes\n",
    "    #k_means_model_f_summary = df_f.groupby('predict_cluster_kmeans').agg(attribute_summary_method_dict)\n",
    "    k_means_model_f_summary = df_f.groupby('predict_cluster_kmeans').agg(np.mean)\n",
    "    return k_means_model_f, k_means_model_f_summary\n",
    "\n",
    "\n",
    "def get_hour(timestamp):\n",
    "    return int(timestamp.split()[1].split(':')[0])"
   ]
  },
  {
   "cell_type": "code",
   "execution_count": null,
   "metadata": {},
   "outputs": [],
   "source": []
  },
  {
   "cell_type": "code",
   "execution_count": 5,
   "metadata": {},
   "outputs": [
    {
     "data": {
      "text/html": [
       "<div>\n",
       "<style scoped>\n",
       "    .dataframe tbody tr th:only-of-type {\n",
       "        vertical-align: middle;\n",
       "    }\n",
       "\n",
       "    .dataframe tbody tr th {\n",
       "        vertical-align: top;\n",
       "    }\n",
       "\n",
       "    .dataframe thead th {\n",
       "        text-align: right;\n",
       "    }\n",
       "</style>\n",
       "<table border=\"1\" class=\"dataframe\">\n",
       "  <thead>\n",
       "    <tr style=\"text-align: right;\">\n",
       "      <th></th>\n",
       "      <th>Unnamed: 0</th>\n",
       "      <th>subid</th>\n",
       "      <th>package_type</th>\n",
       "      <th>num_weekly_services_utilized</th>\n",
       "      <th>preferred_genre</th>\n",
       "      <th>intended_use</th>\n",
       "      <th>weekly_consumption_hour</th>\n",
       "      <th>num_ideal_streaming_services</th>\n",
       "      <th>age</th>\n",
       "      <th>male_TF</th>\n",
       "      <th>...</th>\n",
       "      <th>join_fee</th>\n",
       "      <th>language</th>\n",
       "      <th>payment_type</th>\n",
       "      <th>num_trial_days</th>\n",
       "      <th>current_sub_TF</th>\n",
       "      <th>payment_period</th>\n",
       "      <th>last_payment</th>\n",
       "      <th>next_payment</th>\n",
       "      <th>cancel_date</th>\n",
       "      <th>trial_completed</th>\n",
       "    </tr>\n",
       "  </thead>\n",
       "  <tbody>\n",
       "    <tr>\n",
       "      <th>0</th>\n",
       "      <td>162502</td>\n",
       "      <td>21724479</td>\n",
       "      <td>economy</td>\n",
       "      <td>NaN</td>\n",
       "      <td>comedy</td>\n",
       "      <td>access to exclusive content</td>\n",
       "      <td>NaN</td>\n",
       "      <td>NaN</td>\n",
       "      <td>NaN</td>\n",
       "      <td>False</td>\n",
       "      <td>...</td>\n",
       "      <td>NaN</td>\n",
       "      <td>ar</td>\n",
       "      <td>Standard Charter</td>\n",
       "      <td>14</td>\n",
       "      <td>True</td>\n",
       "      <td>1</td>\n",
       "      <td>2020-02-07 21:44:16</td>\n",
       "      <td>2020-06-07 21:44:16</td>\n",
       "      <td>NaN</td>\n",
       "      <td>True</td>\n",
       "    </tr>\n",
       "    <tr>\n",
       "      <th>1</th>\n",
       "      <td>380374</td>\n",
       "      <td>23383224</td>\n",
       "      <td>base</td>\n",
       "      <td>NaN</td>\n",
       "      <td>comedy</td>\n",
       "      <td>access to exclusive content</td>\n",
       "      <td>22.951579</td>\n",
       "      <td>NaN</td>\n",
       "      <td>70.0</td>\n",
       "      <td>False</td>\n",
       "      <td>...</td>\n",
       "      <td>0.3303</td>\n",
       "      <td>ar</td>\n",
       "      <td>NaN</td>\n",
       "      <td>14</td>\n",
       "      <td>True</td>\n",
       "      <td>1</td>\n",
       "      <td>2020-03-15 15:44:35</td>\n",
       "      <td>2020-07-15 15:44:35</td>\n",
       "      <td>NaN</td>\n",
       "      <td>True</td>\n",
       "    </tr>\n",
       "    <tr>\n",
       "      <th>2</th>\n",
       "      <td>496617</td>\n",
       "      <td>26844789</td>\n",
       "      <td>enhanced</td>\n",
       "      <td>3.0</td>\n",
       "      <td>regional</td>\n",
       "      <td>replace OTT</td>\n",
       "      <td>36.001186</td>\n",
       "      <td>2.0</td>\n",
       "      <td>25.0</td>\n",
       "      <td>True</td>\n",
       "      <td>...</td>\n",
       "      <td>0.1101</td>\n",
       "      <td>ar</td>\n",
       "      <td>NaN</td>\n",
       "      <td>14</td>\n",
       "      <td>False</td>\n",
       "      <td>0</td>\n",
       "      <td>NaN</td>\n",
       "      <td>NaN</td>\n",
       "      <td>NaN</td>\n",
       "      <td>True</td>\n",
       "    </tr>\n",
       "  </tbody>\n",
       "</table>\n",
       "<p>3 rows × 31 columns</p>\n",
       "</div>"
      ],
      "text/plain": [
       "   Unnamed: 0     subid package_type  num_weekly_services_utilized  \\\n",
       "0      162502  21724479      economy                           NaN   \n",
       "1      380374  23383224         base                           NaN   \n",
       "2      496617  26844789     enhanced                           3.0   \n",
       "\n",
       "  preferred_genre                 intended_use  weekly_consumption_hour  \\\n",
       "0          comedy  access to exclusive content                      NaN   \n",
       "1          comedy  access to exclusive content                22.951579   \n",
       "2        regional                  replace OTT                36.001186   \n",
       "\n",
       "   num_ideal_streaming_services   age male_TF  ... join_fee language  \\\n",
       "0                           NaN   NaN   False  ...      NaN       ar   \n",
       "1                           NaN  70.0   False  ...   0.3303       ar   \n",
       "2                           2.0  25.0    True  ...   0.1101       ar   \n",
       "\n",
       "       payment_type num_trial_days  current_sub_TF payment_period  \\\n",
       "0  Standard Charter             14            True              1   \n",
       "1               NaN             14            True              1   \n",
       "2               NaN             14           False              0   \n",
       "\n",
       "          last_payment         next_payment cancel_date trial_completed  \n",
       "0  2020-02-07 21:44:16  2020-06-07 21:44:16         NaN            True  \n",
       "1  2020-03-15 15:44:35  2020-07-15 15:44:35         NaN            True  \n",
       "2                  NaN                  NaN         NaN            True  \n",
       "\n",
       "[3 rows x 31 columns]"
      ]
     },
     "execution_count": 5,
     "metadata": {},
     "output_type": "execute_result"
    }
   ],
   "source": [
    "# ------ Import data ------\n",
    "df_subscribers = pd.read_csv('../subscribers.csv')\n",
    "df_subscribers.head(3)"
   ]
  },
  {
   "cell_type": "code",
   "execution_count": 6,
   "metadata": {},
   "outputs": [
    {
     "data": {
      "text/plain": [
       "(227628, 31)"
      ]
     },
     "execution_count": 6,
     "metadata": {},
     "output_type": "execute_result"
    }
   ],
   "source": [
    "df_subscribers.shape"
   ]
  },
  {
   "cell_type": "code",
   "execution_count": 7,
   "metadata": {},
   "outputs": [
    {
     "data": {
      "text/plain": [
       "Index(['Unnamed: 0', 'subid', 'package_type', 'num_weekly_services_utilized',\n",
       "       'preferred_genre', 'intended_use', 'weekly_consumption_hour',\n",
       "       'num_ideal_streaming_services', 'age', 'male_TF', 'country',\n",
       "       'attribution_technical', 'attribution_survey', 'op_sys',\n",
       "       'months_per_bill_period', 'plan_type', 'monthly_price',\n",
       "       'discount_price', 'account_creation_date', 'trial_end_date',\n",
       "       'initial_credit_card_declined', 'join_fee', 'language', 'payment_type',\n",
       "       'num_trial_days', 'current_sub_TF', 'payment_period', 'last_payment',\n",
       "       'next_payment', 'cancel_date', 'trial_completed'],\n",
       "      dtype='object')"
      ]
     },
     "execution_count": 7,
     "metadata": {},
     "output_type": "execute_result"
    }
   ],
   "source": [
    "df_subscribers.columns"
   ]
  },
  {
   "cell_type": "code",
   "execution_count": null,
   "metadata": {},
   "outputs": [],
   "source": []
  },
  {
   "cell_type": "code",
   "execution_count": 6,
   "metadata": {},
   "outputs": [],
   "source": [
    "# ------ Engineer features -----"
   ]
  },
  {
   "cell_type": "code",
   "execution_count": 7,
   "metadata": {},
   "outputs": [],
   "source": [
    "corr_df = df_subscribers.drop(columns=['Unnamed: 0', 'subid', \n",
    "                           'account_creation_date', 'trial_end_date', \n",
    "                           'last_payment', 'next_payment', 'cancel_date'])"
   ]
  },
  {
   "cell_type": "code",
   "execution_count": 8,
   "metadata": {},
   "outputs": [
    {
     "ename": "NameError",
     "evalue": "name 'corr_df' is not defined",
     "output_type": "error",
     "traceback": [
      "\u001b[0;31m---------------------------------------------------------------------------\u001b[0m",
      "\u001b[0;31mNameError\u001b[0m                                 Traceback (most recent call last)",
      "\u001b[0;32m<ipython-input-8-3aa3f2d90e52>\u001b[0m in \u001b[0;36m<module>\u001b[0;34m\u001b[0m\n\u001b[0;32m----> 1\u001b[0;31m \u001b[0mcorr_df\u001b[0m \u001b[0;34m=\u001b[0m \u001b[0mpd\u001b[0m\u001b[0;34m.\u001b[0m\u001b[0mget_dummies\u001b[0m\u001b[0;34m(\u001b[0m\u001b[0mcorr_df\u001b[0m\u001b[0;34m)\u001b[0m\u001b[0;34m\u001b[0m\u001b[0;34m\u001b[0m\u001b[0m\n\u001b[0m\u001b[1;32m      2\u001b[0m \u001b[0mcorr_df\u001b[0m\u001b[0;34m.\u001b[0m\u001b[0mcolumns\u001b[0m\u001b[0;34m\u001b[0m\u001b[0;34m\u001b[0m\u001b[0m\n",
      "\u001b[0;31mNameError\u001b[0m: name 'corr_df' is not defined"
     ]
    }
   ],
   "source": [
    "corr_df = pd.get_dummies(corr_df)\n",
    "corr_df.columns"
   ]
  },
  {
   "cell_type": "code",
   "execution_count": 9,
   "metadata": {},
   "outputs": [],
   "source": [
    "corr_df = corr_df.drop(columns=['male_TF_False'])"
   ]
  },
  {
   "cell_type": "code",
   "execution_count": 10,
   "metadata": {},
   "outputs": [],
   "source": [
    "corr_df['age'] = corr_df[corr_df['age']<100]['age']"
   ]
  },
  {
   "cell_type": "code",
   "execution_count": 11,
   "metadata": {},
   "outputs": [],
   "source": [
    "corr_df = corr_df.dropna(subset=['num_weekly_services_utilized', 'weekly_consumption_hour', \n",
    "                                 'num_ideal_streaming_services', 'age'])"
   ]
  },
  {
   "cell_type": "code",
   "execution_count": 12,
   "metadata": {},
   "outputs": [
    {
     "data": {
      "text/plain": [
       "num_weekly_services_utilized     0\n",
       "weekly_consumption_hour          0\n",
       "num_ideal_streaming_services     0\n",
       "age                              0\n",
       "months_per_bill_period           0\n",
       "                                ..\n",
       "payment_type_CBD                 0\n",
       "payment_type_Najim               0\n",
       "payment_type_Paypal              0\n",
       "payment_type_RAKBANK             0\n",
       "payment_type_Standard Charter    0\n",
       "Length: 99, dtype: int64"
      ]
     },
     "execution_count": 12,
     "metadata": {},
     "output_type": "execute_result"
    }
   ],
   "source": [
    "corr_df.isnull().sum()"
   ]
  },
  {
   "cell_type": "code",
   "execution_count": 13,
   "metadata": {},
   "outputs": [
    {
     "data": {
      "text/plain": [
       "(114922, 99)"
      ]
     },
     "execution_count": 13,
     "metadata": {},
     "output_type": "execute_result"
    }
   ],
   "source": [
    "corr_df.shape"
   ]
  },
  {
   "cell_type": "code",
   "execution_count": null,
   "metadata": {},
   "outputs": [],
   "source": []
  },
  {
   "cell_type": "code",
   "execution_count": 14,
   "metadata": {},
   "outputs": [],
   "source": [
    "# ------ RUN CLUSTERING -----"
   ]
  },
  {
   "cell_type": "code",
   "execution_count": 15,
   "metadata": {},
   "outputs": [],
   "source": [
    "# --- set parameters\n",
    "n_clusters = 3\n",
    "init_point_selection_method = 'k-means++'"
   ]
  },
  {
   "cell_type": "code",
   "execution_count": null,
   "metadata": {},
   "outputs": [],
   "source": []
  },
  {
   "cell_type": "code",
   "execution_count": 1,
   "metadata": {},
   "outputs": [
    {
     "ename": "NameError",
     "evalue": "name 'corr_df' is not defined",
     "output_type": "error",
     "traceback": [
      "\u001b[0;31m---------------------------------------------------------------------------\u001b[0m",
      "\u001b[0;31mNameError\u001b[0m                                 Traceback (most recent call last)",
      "\u001b[0;32m<ipython-input-1-785448a05411>\u001b[0m in \u001b[0;36m<module>\u001b[0;34m\u001b[0m\n\u001b[1;32m      7\u001b[0m \u001b[0mpca\u001b[0m \u001b[0;34m=\u001b[0m \u001b[0mPCA\u001b[0m\u001b[0;34m(\u001b[0m\u001b[0;34m)\u001b[0m\u001b[0;34m\u001b[0m\u001b[0;34m\u001b[0m\u001b[0m\n\u001b[1;32m      8\u001b[0m \u001b[0mpipeline\u001b[0m \u001b[0;34m=\u001b[0m \u001b[0mmake_pipeline\u001b[0m\u001b[0;34m(\u001b[0m\u001b[0mscaler\u001b[0m\u001b[0;34m,\u001b[0m \u001b[0mpca\u001b[0m\u001b[0;34m)\u001b[0m\u001b[0;34m\u001b[0m\u001b[0;34m\u001b[0m\u001b[0m\n\u001b[0;32m----> 9\u001b[0;31m \u001b[0mpipeline\u001b[0m\u001b[0;34m.\u001b[0m\u001b[0mfit\u001b[0m\u001b[0;34m(\u001b[0m\u001b[0mcorr_df\u001b[0m\u001b[0;34m)\u001b[0m\u001b[0;34m\u001b[0m\u001b[0;34m\u001b[0m\u001b[0m\n\u001b[0m\u001b[1;32m     10\u001b[0m \u001b[0;34m\u001b[0m\u001b[0m\n\u001b[1;32m     11\u001b[0m \u001b[0mfeatures\u001b[0m \u001b[0;34m=\u001b[0m \u001b[0mrange\u001b[0m\u001b[0;34m(\u001b[0m\u001b[0mpca\u001b[0m\u001b[0;34m.\u001b[0m\u001b[0mn_components_\u001b[0m\u001b[0;34m)\u001b[0m\u001b[0;34m\u001b[0m\u001b[0;34m\u001b[0m\u001b[0m\n",
      "\u001b[0;31mNameError\u001b[0m: name 'corr_df' is not defined"
     ]
    }
   ],
   "source": [
    "from sklearn.decomposition import PCA\n",
    "from sklearn.preprocessing import StandardScaler\n",
    "from sklearn.pipeline import make_pipeline\n",
    "import matplotlib.pyplot as plt\n",
    "\n",
    "scaler = StandardScaler()\n",
    "pca = PCA()\n",
    "pipeline = make_pipeline(scaler, pca)\n",
    "pipeline.fit(corr_df)\n",
    "\n",
    "features = range(pca.n_components_)\n",
    "plt.figure(figsize=(20,10))\n",
    "plt.bar(features, pca.explained_variance_)\n",
    "plt.xlabel('PCA feature')\n",
    "plt.ylabel('variance')\n",
    "plt.xticks(features)\n",
    "plt.xlim(-1,100)\n",
    "plt.show()\n",
    "#plt.savefig('pca.png')"
   ]
  },
  {
   "cell_type": "code",
   "execution_count": null,
   "metadata": {},
   "outputs": [],
   "source": []
  },
  {
   "cell_type": "code",
   "execution_count": 17,
   "metadata": {},
   "outputs": [],
   "source": [
    "corr_target = corr_df.corr()[['current_sub_TF']].sort_values('current_sub_TF', ascending=False)"
   ]
  },
  {
   "cell_type": "code",
   "execution_count": 18,
   "metadata": {},
   "outputs": [
    {
     "data": {
      "text/html": [
       "<div>\n",
       "<style scoped>\n",
       "    .dataframe tbody tr th:only-of-type {\n",
       "        vertical-align: middle;\n",
       "    }\n",
       "\n",
       "    .dataframe tbody tr th {\n",
       "        vertical-align: top;\n",
       "    }\n",
       "\n",
       "    .dataframe thead th {\n",
       "        text-align: right;\n",
       "    }\n",
       "</style>\n",
       "<table border=\"1\" class=\"dataframe\">\n",
       "  <thead>\n",
       "    <tr style=\"text-align: right;\">\n",
       "      <th></th>\n",
       "      <th>current_sub_TF</th>\n",
       "    </tr>\n",
       "  </thead>\n",
       "  <tbody>\n",
       "    <tr>\n",
       "      <th>current_sub_TF</th>\n",
       "      <td>1.000000</td>\n",
       "    </tr>\n",
       "    <tr>\n",
       "      <th>payment_period</th>\n",
       "      <td>0.746008</td>\n",
       "    </tr>\n",
       "    <tr>\n",
       "      <th>trial_completed</th>\n",
       "      <td>0.402398</td>\n",
       "    </tr>\n",
       "    <tr>\n",
       "      <th>intended_use_access to exclusive content</th>\n",
       "      <td>0.369019</td>\n",
       "    </tr>\n",
       "    <tr>\n",
       "      <th>preferred_genre_comedy</th>\n",
       "      <td>0.352438</td>\n",
       "    </tr>\n",
       "    <tr>\n",
       "      <th>num_weekly_services_utilized</th>\n",
       "      <td>0.291123</td>\n",
       "    </tr>\n",
       "    <tr>\n",
       "      <th>attribution_survey_referral</th>\n",
       "      <td>0.244300</td>\n",
       "    </tr>\n",
       "    <tr>\n",
       "      <th>package_type_enhanced</th>\n",
       "      <td>0.206006</td>\n",
       "    </tr>\n",
       "    <tr>\n",
       "      <th>intended_use_supplement OTT</th>\n",
       "      <td>0.173845</td>\n",
       "    </tr>\n",
       "    <tr>\n",
       "      <th>weekly_consumption_hour</th>\n",
       "      <td>0.158542</td>\n",
       "    </tr>\n",
       "    <tr>\n",
       "      <th>package_type_base</th>\n",
       "      <td>0.149899</td>\n",
       "    </tr>\n",
       "    <tr>\n",
       "      <th>num_ideal_streaming_services</th>\n",
       "      <td>0.144872</td>\n",
       "    </tr>\n",
       "    <tr>\n",
       "      <th>join_fee</th>\n",
       "      <td>0.105119</td>\n",
       "    </tr>\n",
       "  </tbody>\n",
       "</table>\n",
       "</div>"
      ],
      "text/plain": [
       "                                          current_sub_TF\n",
       "current_sub_TF                                  1.000000\n",
       "payment_period                                  0.746008\n",
       "trial_completed                                 0.402398\n",
       "intended_use_access to exclusive content        0.369019\n",
       "preferred_genre_comedy                          0.352438\n",
       "num_weekly_services_utilized                    0.291123\n",
       "attribution_survey_referral                     0.244300\n",
       "package_type_enhanced                           0.206006\n",
       "intended_use_supplement OTT                     0.173845\n",
       "weekly_consumption_hour                         0.158542\n",
       "package_type_base                               0.149899\n",
       "num_ideal_streaming_services                    0.144872\n",
       "join_fee                                        0.105119"
      ]
     },
     "execution_count": 18,
     "metadata": {},
     "output_type": "execute_result"
    }
   ],
   "source": [
    "salient_num_features = corr_target.loc[corr_target['current_sub_TF'] > 0.1, :]\n",
    "salient_num_features"
   ]
  },
  {
   "cell_type": "code",
   "execution_count": null,
   "metadata": {},
   "outputs": [],
   "source": []
  },
  {
   "cell_type": "code",
   "execution_count": 19,
   "metadata": {},
   "outputs": [],
   "source": [
    "# --- select data\n",
    "# specify list of attributes on which to base clusters\n",
    "cols_for_clustering_full = corr_df.columns\n",
    "df_cluster = corr_df.reindex(columns=cols_for_clustering_full)\n",
    "# df_cluster = df.loc[:, cols_for_clustering]"
   ]
  },
  {
   "cell_type": "code",
   "execution_count": 20,
   "metadata": {},
   "outputs": [],
   "source": [
    "# --- split to test and train\n",
    "df_cluster_train, df_cluster_test, _, _, = train_test_split(\n",
    "    df_cluster, [1]*df_cluster.shape[0], test_size=0.33)   # ignoring y values for unsupervised"
   ]
  },
  {
   "cell_type": "code",
   "execution_count": 21,
   "metadata": {},
   "outputs": [],
   "source": [
    "# --- fit model\n",
    "#attribute_summary_method_dict = {'burger': np.mean, 'fries': np.mean, 'salad': np.mean, 'shake': np.mean, 'hour': np.mean, 'store_1': sum,\n",
    "#                                 'store_4': sum, 'store_6': sum, 'store_3': sum, 'store_9': sum, 'store_2': sum, 'store_8': sum, 'store_5': sum, 'store_7': sum}\n",
    "#col_output_order = ['burger', 'fries', 'salad', 'shake', 'hour', 'store_1', 'store_2', 'store_3', 'store_4',\n",
    "#                    'store_5', 'store_6', 'store_7', 'store_8', 'store_9']  # specify order of output columns for easy of readability\n"
   ]
  },
  {
   "cell_type": "code",
   "execution_count": 22,
   "metadata": {},
   "outputs": [],
   "source": [
    "# training data\n",
    "train_model, train_model_summary = run_kmeans(n_clusters, init_point_selection_method, df_cluster_train.reindex())\n",
    "# testing data\n",
    "test_model, test_model_summary = run_kmeans(n_clusters, init_point_selection_method, df_cluster_test.reindex())\n",
    "# all data\n",
    "model, model_summary = run_kmeans(n_clusters, init_point_selection_method, df_cluster)"
   ]
  },
  {
   "cell_type": "code",
   "execution_count": null,
   "metadata": {},
   "outputs": [],
   "source": []
  },
  {
   "cell_type": "code",
   "execution_count": 23,
   "metadata": {},
   "outputs": [],
   "source": [
    "# --- run for various number of clusters"
   ]
  },
  {
   "cell_type": "code",
   "execution_count": 24,
   "metadata": {},
   "outputs": [],
   "source": [
    "# add the code to run the clustering algorithm for various numbers of clusters\n",
    "ks = range(1, 16)\n",
    "inertias = []\n",
    "\n",
    "for k in ks:\n",
    "    model = KMeans(n_clusters=k, n_init=10)\n",
    "    model.fit(df_cluster)\n",
    "    inertias.append(model.inertia_)"
   ]
  },
  {
   "cell_type": "code",
   "execution_count": 25,
   "metadata": {},
   "outputs": [],
   "source": [
    "# --- draw elbow plot"
   ]
  },
  {
   "cell_type": "code",
   "execution_count": 29,
   "metadata": {},
   "outputs": [
    {
     "data": {
      "image/png": "[encoded data removed]",
      "text/plain": [
       "<Figure size 720x720 with 1 Axes>"
      ]
     },
     "metadata": {
      "needs_background": "light"
     },
     "output_type": "display_data"
    }
   ],
   "source": [
    "# create an elbow plot for your numbers of clusters in previous step\n",
    "plt.figure(figsize=(10,10))\n",
    "plt.plot(ks, inertias, '-o')\n",
    "plt.xlabel('number of clusters, k')\n",
    "plt.ylabel('inertia')\n",
    "plt.xticks(ks)\n",
    "plt.show()"
   ]
  },
  {
   "cell_type": "code",
   "execution_count": null,
   "metadata": {},
   "outputs": [],
   "source": []
  },
  {
   "cell_type": "code",
   "execution_count": 27,
   "metadata": {},
   "outputs": [],
   "source": [
    "# --- output tagged data for examination ----\n",
    "#store_col_names = ['store_1', 'store_2', 'store_3', 'store_4',\n",
    "#                   'store_5', 'store_6', 'store_7', 'store_8', 'store_9']\n",
    "#df_cluster['store'] = None\n",
    "#for t_col in store_col_names:\n",
    "#    df_cluster.loc[df_cluster[t_col] == 1, 'store'] = t_col.split('_')[1]\n",
    "\n",
    "df_cluster.to_csv('clustering_output.csv')"
   ]
  },
  {
   "cell_type": "code",
   "execution_count": null,
   "metadata": {},
   "outputs": [],
   "source": []
  },
  {
   "cell_type": "code",
   "execution_count": null,
   "metadata": {},
   "outputs": [],
   "source": []
  }
 ],
 "metadata": {
  "kernelspec": {
   "display_name": "Python 3.8.1 64-bit",
   "language": "python",
   "name": "python38164bit0209044da7c742dab8314e0953beb93b"
  },
  "language_info": {
   "codemirror_mode": {
    "name": "ipython",
    "version": 3
   },
   "file_extension": ".py",
   "mimetype": "text/x-python",
   "name": "python",
   "nbconvert_exporter": "python",
   "pygments_lexer": "ipython3",
   "version": "3.8.1"
  }
 },
 "nbformat": 4,
 "nbformat_minor": 4
}
